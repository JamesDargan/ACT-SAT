{
 "cells": [
  {
   "cell_type": "code",
   "execution_count": 1,
   "metadata": {},
   "outputs": [],
   "source": [
    "import pandas as pd"
   ]
  },
  {
   "cell_type": "markdown",
   "metadata": {},
   "source": [
    "### Data Prep"
   ]
  },
  {
   "cell_type": "code",
   "execution_count": 37,
   "metadata": {},
   "outputs": [],
   "source": [
    "# SAT titles spread across 4 rows of uneven merges\n",
    "raw_cols = pd.read_excel('https://nces.ed.gov/programs/digest/d18/tables/xls/tabn226.40.xls',\n",
    "                   header=None, index_col = 0, skiprows = 1, nrows=4)\n",
    "# Keep raw data separate\n",
    "sat = pd.read_excel('https://nces.ed.gov/programs/digest/d18/tables/xls/tabn226.40.xls',\n",
    "                   header=None, index_col = 0, skiprows=7)\n",
    "\n",
    "# Manually relabel columns\n",
    "sat.columns = ['sat_2017', 'sat_2017_sd',\n",
    "               'sat_2017_erw', 'sat_2017_erw_sd',\n",
    "               'sat_2017_math', 'sat_2017_math_sd',\n",
    "               'sat_2017_part',\n",
    "               'sat_2018', 'sat_2018_sd',\n",
    "               'sat_2018_erw', 'sat_2018_erw_sd',\n",
    "               'sat_2018_math', 'sat_2018_math_sd',\n",
    "               'sat_2018_part']\n",
    "\n",
    "# Remove 3 Footnotes\n",
    "sat = sat.iloc[:-3,:]\n",
    "# Remove blank lines\n",
    "sat = sat.loc[~sat['sat_2017_erw'].isnull(),:]\n",
    "sat.drop(columns = sat.columns[sat.columns.str.contains('sd')], inplace = True)\n",
    "\n",
    "# Correct index\n",
    "sat.index = sat.index.str.strip('.')\n",
    "sat.index = sat.index.str.replace('Columbia', 'DC')\n",
    "sat.index = sat.index.str.strip()\n",
    "\n",
    "for col in sat.columns:\n",
    "    sat[col] = sat[col].astype(int)"
   ]
  },
  {
   "cell_type": "code",
   "execution_count": 44,
   "metadata": {},
   "outputs": [],
   "source": [
    "# ACT titles spread across 3 rows of uneven merges\n",
    "raw_cols = pd.read_excel('https://nces.ed.gov/programs/digest/d18/tables/xls/tabn226.60.xls',\n",
    "                   header=None, index_col = 0, skiprows = 1, nrows=3)\n",
    "\n",
    "act_18 = pd.read_excel('https://nces.ed.gov/programs/digest/d18/tables/xls/tabn226.60.xls',\n",
    "                   header=None, index_col = 0, skiprows=6)\n",
    "\n",
    "# drop 3 Footnotes and 2014 data\n",
    "act_18 = act_18.iloc[:-3,5:]\n",
    "\n",
    "act_18.columns = ['act_2018', 'act_2018_english', \n",
    "                  'act_2018_math', 'act_2018_reading', \n",
    "                  'act_2018_science',\n",
    "                  'act_2014_part', 'act_2018_part']\n",
    "\n",
    "act_18.drop(columns=['act_2014_part'], inplace=True)\n",
    "act_18 = act_18.loc[~act_18['act_2018'].isnull(),:]\n",
    "\n",
    "# Correct index\n",
    "act_18.index = act_18.index.str.strip('.')\n",
    "act_18.index = act_18.index.str.replace('District of Columbia', 'DC')\n",
    "\n",
    "for col in act_18.columns:\n",
    "    act_18[col] = act_18[col].astype(int)\n",
    "\n",
    "\n",
    "\n",
    "act_17 = pd.read_excel('https://nces.ed.gov/programs/digest/d17/tables/xls/tabn226.60.xls',\n",
    "                   header=None, index_col = 0, skiprows=6)\n",
    "\n",
    "# drop 3 Footnotes and 2014 data\n",
    "act_17 = act_17.iloc[:-3,5:]\n",
    "\n",
    "act_17.columns = ['act_2017', 'act_2017_english', \n",
    "                  'act_2017_math', 'act_2017_reading', \n",
    "                  'act_2017_science',\n",
    "                  'act_2014_part', 'act_2017_part']\n",
    "\n",
    "act_17.drop(columns=['act_2014_part'], inplace=True)\n",
    "act_17 = act_17.loc[~act_17['act_2017'].isnull(),:]\n",
    "\n",
    "# Correct index\n",
    "act_17.index = act_17.index.str.strip('.')\n",
    "act_17.index = act_17.index.str.replace('District of Columbia', 'DC')\n",
    "\n",
    "\n",
    "for col in act_17.columns:\n",
    "    act_17[col] = act_17[col].astype(int)\n",
    "    \n",
    "act = pd.merge(act_17, act_18, left_index=True, right_index=True)\n",
    "act.index = act.index.str.strip()"
   ]
  },
  {
   "cell_type": "code",
   "execution_count": 48,
   "metadata": {},
   "outputs": [],
   "source": [
    "# Create final panel dataset\n",
    "test_scores = pd.merge(sat, act, how='outer', left_index=True, right_index=True)\n",
    "test_scores.to_csv('../data/test_scores.csv')"
   ]
  },
  {
   "cell_type": "markdown",
   "metadata": {},
   "source": [
    "### QC Checks"
   ]
  },
  {
   "cell_type": "code",
   "execution_count": 128,
   "metadata": {},
   "outputs": [],
   "source": [
    "# Collections of columns of similar category for easy reference throughout \n",
    "sat_cols = test_scores.columns[test_scores.columns.str.contains('sat') &\n",
    "                              ~test_scores.columns.str.contains('part') ]\n",
    "sat_st_cols = sat_cols[sat_cols.str.contains('erw') | \n",
    "                       sat_cols.str.contains('math')]\n",
    "\n",
    "act_cols = test_scores.columns[test_scores.columns.str.contains('act') &\n",
    "                           ~test_scores.columns.str.contains('part') ]\n",
    "part_cols = test_scores.columns[test_scores.columns.str.contains('part')]"
   ]
  },
  {
   "cell_type": "code",
   "execution_count": 129,
   "metadata": {},
   "outputs": [
    {
     "name": "stdout",
     "output_type": "stream",
     "text": [
      "Datasets contains 0 missing values.\n"
     ]
    }
   ],
   "source": [
    "# Return missing values count\n",
    "print(f\"Datasets contains {test_scores.isnull().sum().sum()} missing values.\")\n",
    "\n",
    "\n",
    "# Convert SAT to numeric and check range\n",
    "for col in sat_st_cols:\n",
    "    if test_scores[col].max() > 800:\n",
    "        print(f\"Error: {col} out of valid range.\")\n",
    "    elif test_scores[col].min()  < 200:\n",
    "        print(f\"Error: {col} out of valid range.\")\n",
    "        \n",
    "for col in ['sat_2017', 'sat_2018']:\n",
    "    if test_scores[col].max() > 1600:\n",
    "        print(f\"Error: {col} out of valid range.\")\n",
    "    elif test_scores[col].min() < 400:\n",
    "        print(f\"Error: {col} out of valid range.\")\n",
    "        \n",
    "# Convert ACT to numeric and check range\n",
    "for col in act_cols:\n",
    "    if test_scores[col].max()  > 36:\n",
    "        print(f\"Error: {col} out of valid range.\")\n",
    "    elif test_scores[col].min()  < 1:\n",
    "        print(f\"Error: {col} out of valid range.\")\n",
    "\n",
    "# Convert participation to numeric and check range\n",
    "for col in part_cols:\n",
    "    if test_scores[col].max()  > 100:\n",
    "        print(f\"Error: {col} out of valid range.\")\n",
    "    elif test_scores[col].min()  < 0:\n",
    "        print(f\"Error: {col} out of valid range.\")\n",
    "        "
   ]
  }
 ],
 "metadata": {
  "kernelspec": {
   "display_name": "Python 3",
   "language": "python",
   "name": "python3"
  },
  "language_info": {
   "codemirror_mode": {
    "name": "ipython",
    "version": 3
   },
   "file_extension": ".py",
   "mimetype": "text/x-python",
   "name": "python",
   "nbconvert_exporter": "python",
   "pygments_lexer": "ipython3",
   "version": "3.7.6"
  }
 },
 "nbformat": 4,
 "nbformat_minor": 4
}
