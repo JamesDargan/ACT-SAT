{
 "cells": [
  {
   "cell_type": "code",
   "execution_count": 65,
   "metadata": {},
   "outputs": [],
   "source": [
    "import numpy as np\n",
    "import pandas as pd\n",
    "import matplotlib.pyplot as plt\n",
    "import seaborn as sns\n",
    "import plotly.express as px\n",
    "import plotly.graph_objects as go\n",
    "import statsmodels.api as sm"
   ]
  },
  {
   "cell_type": "code",
   "execution_count": 53,
   "metadata": {},
   "outputs": [],
   "source": [
    "test_scores = pd.read_csv('../data/test_scores.csv')\n",
    "test_scores.rename(columns={'0':'State'}, inplace=True)\n",
    "test_scores.set_index(keys='State', inplace=True)\n",
    "\n",
    "# CSV provided by Chris Halpert, https://github.com/cphalpert/census-regions). \n",
    "census_regions = pd.read_csv('../data/census_regions_and_divisions.csv')\n",
    "census_regions.drop(columns=['Division'], inplace=True)\n",
    "census_regions.set_index(keys='State', inplace=True)\n",
    "census_regions.rename(index={'District of Columbia':'DC'}, inplace=True)\n",
    "census_regions.columns = census_regions.columns.str.lower().str.replace(' ', '_')\n",
    "# Append to test scores\n",
    "test_scores = pd.merge(test_scores, census_regions, left_index=True, right_index=True)\n",
    "\n",
    "# Collections of columns of similar category for easy reference throughout \n",
    "sat_cols = test_scores.columns[test_scores.columns.str.contains('sat') &\n",
    "                              ~test_scores.columns.str.contains('part') ]\n",
    "sat_st_cols = sat_cols[sat_cols.str.contains('erw') | \n",
    "                       sat_cols.str.contains('math')]\n",
    "act_cols = test_scores.columns[test_scores.columns.str.contains('act') &\n",
    "                              ~test_scores.columns.str.contains('part') ]\n",
    "act_st_cols = act_cols[act_cols.str.len() > 8]\n",
    "part_cols = test_scores.columns[test_scores.columns.str.contains('part')]"
   ]
  },
  {
   "cell_type": "markdown",
   "metadata": {},
   "source": [
    "## Test Averages"
   ]
  },
  {
   "cell_type": "markdown",
   "metadata": {},
   "source": [
    "#### Extreme SAT Performers\n",
    "\n",
    "Below we can see Minnesota, Wisconsin, Iowa, and Kansas achieved average SAT scores in the top 5 nationally for both 2017 and 2018. We observe all states with top 10 average SAT scores have participation rates less than 5 percent. Conversely, the 10 states suffering the lowest average SAT scores tend to have much higher articipation rates, with 6 having rates over 90 percent."
   ]
  },
  {
   "cell_type": "code",
   "execution_count": 58,
   "metadata": {},
   "outputs": [
    {
     "data": {
      "text/html": [
       "<div>\n",
       "<style scoped>\n",
       "    .dataframe tbody tr th:only-of-type {\n",
       "        vertical-align: middle;\n",
       "    }\n",
       "\n",
       "    .dataframe tbody tr th {\n",
       "        vertical-align: top;\n",
       "    }\n",
       "\n",
       "    .dataframe thead th {\n",
       "        text-align: right;\n",
       "    }\n",
       "</style>\n",
       "<table border=\"1\" class=\"dataframe\">\n",
       "  <thead>\n",
       "    <tr style=\"text-align: right;\">\n",
       "      <th></th>\n",
       "      <th>sat_2017</th>\n",
       "      <th>sat_2017_erw</th>\n",
       "      <th>sat_2017_math</th>\n",
       "      <th>sat_2018</th>\n",
       "      <th>sat_2018_erw</th>\n",
       "      <th>sat_2018_math</th>\n",
       "    </tr>\n",
       "  </thead>\n",
       "  <tbody>\n",
       "    <tr>\n",
       "      <th>1st</th>\n",
       "      <td>Minnesota</td>\n",
       "      <td>Minnesota</td>\n",
       "      <td>Minnesota</td>\n",
       "      <td>Minnesota</td>\n",
       "      <td>Minnesota</td>\n",
       "      <td>Minnesota</td>\n",
       "    </tr>\n",
       "    <tr>\n",
       "      <th>2nd</th>\n",
       "      <td>Wisconsin</td>\n",
       "      <td>Wisconsin</td>\n",
       "      <td>Wisconsin</td>\n",
       "      <td>Wisconsin</td>\n",
       "      <td>Wisconsin</td>\n",
       "      <td>Wisconsin</td>\n",
       "    </tr>\n",
       "    <tr>\n",
       "      <th>3rd</th>\n",
       "      <td>Iowa</td>\n",
       "      <td>Iowa</td>\n",
       "      <td>Iowa</td>\n",
       "      <td>North Dakota</td>\n",
       "      <td>North Dakota</td>\n",
       "      <td>North Dakota</td>\n",
       "    </tr>\n",
       "    <tr>\n",
       "      <th>4th</th>\n",
       "      <td>Missouri</td>\n",
       "      <td>Missouri</td>\n",
       "      <td>Missouri</td>\n",
       "      <td>Iowa</td>\n",
       "      <td>Iowa</td>\n",
       "      <td>Iowa</td>\n",
       "    </tr>\n",
       "    <tr>\n",
       "      <th>5th</th>\n",
       "      <td>Kansas</td>\n",
       "      <td>North Dakota</td>\n",
       "      <td>Kansas</td>\n",
       "      <td>Kansas</td>\n",
       "      <td>Wyoming</td>\n",
       "      <td>Kansas</td>\n",
       "    </tr>\n",
       "  </tbody>\n",
       "</table>\n",
       "</div>"
      ],
      "text/plain": [
       "      sat_2017  sat_2017_erw sat_2017_math      sat_2018  sat_2018_erw  \\\n",
       "1st  Minnesota     Minnesota     Minnesota     Minnesota     Minnesota   \n",
       "2nd  Wisconsin     Wisconsin     Wisconsin     Wisconsin     Wisconsin   \n",
       "3rd       Iowa          Iowa          Iowa  North Dakota  North Dakota   \n",
       "4th   Missouri      Missouri      Missouri          Iowa          Iowa   \n",
       "5th     Kansas  North Dakota        Kansas        Kansas       Wyoming   \n",
       "\n",
       "    sat_2018_math  \n",
       "1st     Minnesota  \n",
       "2nd     Wisconsin  \n",
       "3rd  North Dakota  \n",
       "4th          Iowa  \n",
       "5th        Kansas  "
      ]
     },
     "execution_count": 58,
     "metadata": {},
     "output_type": "execute_result"
    }
   ],
   "source": [
    "top_sat = pd.DataFrame(columns = sat_cols)\n",
    "for col in sat_cols:\n",
    "    top_sat[col] = test_scores[col].sort_values(ascending=False).head(5).index\n",
    "top_sat.set_index(pd.Index(['1st', '2nd', '3rd', '4th', '5th']), inplace=True)\n",
    "\n",
    "top_sat"
   ]
  },
  {
   "cell_type": "code",
   "execution_count": 59,
   "metadata": {},
   "outputs": [
    {
     "data": {
      "text/html": [
       "<div>\n",
       "<style scoped>\n",
       "    .dataframe tbody tr th:only-of-type {\n",
       "        vertical-align: middle;\n",
       "    }\n",
       "\n",
       "    .dataframe tbody tr th {\n",
       "        vertical-align: top;\n",
       "    }\n",
       "\n",
       "    .dataframe thead th {\n",
       "        text-align: right;\n",
       "    }\n",
       "</style>\n",
       "<table border=\"1\" class=\"dataframe\">\n",
       "  <thead>\n",
       "    <tr style=\"text-align: right;\">\n",
       "      <th></th>\n",
       "      <th>sat_2018</th>\n",
       "      <th>sat_2018_part</th>\n",
       "    </tr>\n",
       "    <tr>\n",
       "      <th>State</th>\n",
       "      <th></th>\n",
       "      <th></th>\n",
       "    </tr>\n",
       "  </thead>\n",
       "  <tbody>\n",
       "    <tr>\n",
       "      <th>Minnesota</th>\n",
       "      <td>1298</td>\n",
       "      <td>4</td>\n",
       "    </tr>\n",
       "    <tr>\n",
       "      <th>Wisconsin</th>\n",
       "      <td>1294</td>\n",
       "      <td>3</td>\n",
       "    </tr>\n",
       "    <tr>\n",
       "      <th>North Dakota</th>\n",
       "      <td>1283</td>\n",
       "      <td>2</td>\n",
       "    </tr>\n",
       "    <tr>\n",
       "      <th>Iowa</th>\n",
       "      <td>1265</td>\n",
       "      <td>3</td>\n",
       "    </tr>\n",
       "    <tr>\n",
       "      <th>Kansas</th>\n",
       "      <td>1265</td>\n",
       "      <td>4</td>\n",
       "    </tr>\n",
       "  </tbody>\n",
       "</table>\n",
       "</div>"
      ],
      "text/plain": [
       "              sat_2018  sat_2018_part\n",
       "State                                \n",
       "Minnesota         1298              4\n",
       "Wisconsin         1294              3\n",
       "North Dakota      1283              2\n",
       "Iowa              1265              3\n",
       "Kansas            1265              4"
      ]
     },
     "execution_count": 59,
     "metadata": {},
     "output_type": "execute_result"
    }
   ],
   "source": [
    "test_scores.loc[test_scores['sat_2018'].sort_values(ascending=False).head(5).index, ['sat_2018', 'sat_2018_part']]"
   ]
  },
  {
   "cell_type": "code",
   "execution_count": 60,
   "metadata": {},
   "outputs": [
    {
     "data": {
      "text/html": [
       "<div>\n",
       "<style scoped>\n",
       "    .dataframe tbody tr th:only-of-type {\n",
       "        vertical-align: middle;\n",
       "    }\n",
       "\n",
       "    .dataframe tbody tr th {\n",
       "        vertical-align: top;\n",
       "    }\n",
       "\n",
       "    .dataframe thead th {\n",
       "        text-align: right;\n",
       "    }\n",
       "</style>\n",
       "<table border=\"1\" class=\"dataframe\">\n",
       "  <thead>\n",
       "    <tr style=\"text-align: right;\">\n",
       "      <th></th>\n",
       "      <th>sat_2018</th>\n",
       "      <th>sat_2018_part</th>\n",
       "    </tr>\n",
       "    <tr>\n",
       "      <th>State</th>\n",
       "      <th></th>\n",
       "      <th></th>\n",
       "    </tr>\n",
       "  </thead>\n",
       "  <tbody>\n",
       "    <tr>\n",
       "      <th>DC</th>\n",
       "      <td>977</td>\n",
       "      <td>92</td>\n",
       "    </tr>\n",
       "    <tr>\n",
       "      <th>Delaware</th>\n",
       "      <td>998</td>\n",
       "      <td>100</td>\n",
       "    </tr>\n",
       "    <tr>\n",
       "      <th>West Virginia</th>\n",
       "      <td>999</td>\n",
       "      <td>28</td>\n",
       "    </tr>\n",
       "    <tr>\n",
       "      <th>Idaho</th>\n",
       "      <td>1001</td>\n",
       "      <td>100</td>\n",
       "    </tr>\n",
       "    <tr>\n",
       "      <th>Michigan</th>\n",
       "      <td>1011</td>\n",
       "      <td>100</td>\n",
       "    </tr>\n",
       "  </tbody>\n",
       "</table>\n",
       "</div>"
      ],
      "text/plain": [
       "               sat_2018  sat_2018_part\n",
       "State                                 \n",
       "DC                  977             92\n",
       "Delaware            998            100\n",
       "West Virginia       999             28\n",
       "Idaho              1001            100\n",
       "Michigan           1011            100"
      ]
     },
     "execution_count": 60,
     "metadata": {},
     "output_type": "execute_result"
    }
   ],
   "source": [
    "test_scores.loc[test_scores['sat_2018'].sort_values().head(5).index, ['sat_2018', 'sat_2018_part']]"
   ]
  },
  {
   "cell_type": "code",
   "execution_count": 91,
   "metadata": {},
   "outputs": [
    {
     "data": {
      "application/vnd.plotly.v1+json": {
       "config": {
        "plotlyServerURL": "https://plot.ly"
       },
       "data": [
        {
         "colorbar": {
          "title": {
           "text": "Average SAT Score"
          }
         },
         "colorscale": [
          [
           0,
           "rgb(247,252,245)"
          ],
          [
           0.125,
           "rgb(229,245,224)"
          ],
          [
           0.25,
           "rgb(199,233,192)"
          ],
          [
           0.375,
           "rgb(161,217,155)"
          ],
          [
           0.5,
           "rgb(116,196,118)"
          ],
          [
           0.625,
           "rgb(65,171,93)"
          ],
          [
           0.75,
           "rgb(35,139,69)"
          ],
          [
           0.875,
           "rgb(0,109,44)"
          ],
          [
           1,
           "rgb(0,68,27)"
          ]
         ],
         "locationmode": "USA-states",
         "locations": [
          "AL",
          "AK",
          "AZ",
          "AR",
          "CA",
          "CO",
          "CT",
          "DE",
          "DC",
          "FL",
          "GA",
          "HI",
          "ID",
          "IL",
          "IN",
          "IA",
          "KS",
          "KY",
          "LA",
          "ME",
          "MD",
          "MA",
          "MI",
          "MN",
          "MS",
          "MO",
          "MT",
          "NE",
          "NV",
          "NH",
          "NJ",
          "NM",
          "NY",
          "NC",
          "ND",
          "OH",
          "OK",
          "OR",
          "PA",
          "RI",
          "SC",
          "SD",
          "TN",
          "TX",
          "UT",
          "VT",
          "VA",
          "WA",
          "WV",
          "WI",
          "WY"
         ],
         "text": [
          "SAT Average: 1166<br>SAT Math Avg: 571<br>SAT ERW Avg: 595<br>SAT Participation: 6%",
          "SAT Average: 1106<br>SAT Math Avg: 544<br>SAT ERW Avg: 562<br>SAT Participation: 43%",
          "SAT Average: 1149<br>SAT Math Avg: 572<br>SAT ERW Avg: 577<br>SAT Participation: 29%",
          "SAT Average: 1169<br>SAT Math Avg: 576<br>SAT ERW Avg: 592<br>SAT Participation: 5%",
          "SAT Average: 1076<br>SAT Math Avg: 536<br>SAT ERW Avg: 540<br>SAT Participation: 60%",
          "SAT Average: 1025<br>SAT Math Avg: 506<br>SAT ERW Avg: 519<br>SAT Participation: 100%",
          "SAT Average: 1053<br>SAT Math Avg: 519<br>SAT ERW Avg: 535<br>SAT Participation: 100%",
          "SAT Average: 998<br>SAT Math Avg: 492<br>SAT ERW Avg: 505<br>SAT Participation: 100%",
          "SAT Average: 977<br>SAT Math Avg: 480<br>SAT ERW Avg: 497<br>SAT Participation: 92%",
          "SAT Average: 1014<br>SAT Math Avg: 493<br>SAT ERW Avg: 522<br>SAT Participation: 97%",
          "SAT Average: 1064<br>SAT Math Avg: 522<br>SAT ERW Avg: 542<br>SAT Participation: 70%",
          "SAT Average: 1099<br>SAT Math Avg: 549<br>SAT ERW Avg: 550<br>SAT Participation: 56%",
          "SAT Average: 1001<br>SAT Math Avg: 493<br>SAT ERW Avg: 508<br>SAT Participation: 100%",
          "SAT Average: 1019<br>SAT Math Avg: 506<br>SAT ERW Avg: 513<br>SAT Participation: 99%",
          "SAT Average: 1086<br>SAT Math Avg: 539<br>SAT ERW Avg: 546<br>SAT Participation: 67%",
          "SAT Average: 1265<br>SAT Math Avg: 631<br>SAT ERW Avg: 634<br>SAT Participation: 3%",
          "SAT Average: 1265<br>SAT Math Avg: 631<br>SAT ERW Avg: 633<br>SAT Participation: 4%",
          "SAT Average: 1248<br>SAT Math Avg: 618<br>SAT ERW Avg: 630<br>SAT Participation: 4%",
          "SAT Average: 1210<br>SAT Math Avg: 595<br>SAT ERW Avg: 615<br>SAT Participation: 4%",
          "SAT Average: 1013<br>SAT Math Avg: 501<br>SAT ERW Avg: 512<br>SAT Participation: 99%",
          "SAT Average: 1080<br>SAT Math Avg: 535<br>SAT ERW Avg: 545<br>SAT Participation: 76%",
          "SAT Average: 1125<br>SAT Math Avg: 563<br>SAT ERW Avg: 562<br>SAT Participation: 80%",
          "SAT Average: 1011<br>SAT Math Avg: 499<br>SAT ERW Avg: 511<br>SAT Participation: 100%",
          "SAT Average: 1298<br>SAT Math Avg: 655<br>SAT ERW Avg: 643<br>SAT Participation: 4%",
          "SAT Average: 1236<br>SAT Math Avg: 606<br>SAT ERW Avg: 630<br>SAT Participation: 3%",
          "SAT Average: 1262<br>SAT Math Avg: 629<br>SAT ERW Avg: 633<br>SAT Participation: 4%",
          "SAT Average: 1198<br>SAT Math Avg: 592<br>SAT ERW Avg: 606<br>SAT Participation: 10%",
          "SAT Average: 1252<br>SAT Math Avg: 623<br>SAT ERW Avg: 629<br>SAT Participation: 3%",
          "SAT Average: 1140<br>SAT Math Avg: 566<br>SAT ERW Avg: 574<br>SAT Participation: 23%",
          "SAT Average: 1063<br>SAT Math Avg: 528<br>SAT ERW Avg: 535<br>SAT Participation: 96%",
          "SAT Average: 1094<br>SAT Math Avg: 547<br>SAT ERW Avg: 547<br>SAT Participation: 82%",
          "SAT Average: 1093<br>SAT Math Avg: 540<br>SAT ERW Avg: 552<br>SAT Participation: 16%",
          "SAT Average: 1068<br>SAT Math Avg: 534<br>SAT ERW Avg: 534<br>SAT Participation: 79%",
          "SAT Average: 1098<br>SAT Math Avg: 543<br>SAT ERW Avg: 554<br>SAT Participation: 52%",
          "SAT Average: 1283<br>SAT Math Avg: 643<br>SAT ERW Avg: 640<br>SAT Participation: 2%",
          "SAT Average: 1099<br>SAT Math Avg: 547<br>SAT ERW Avg: 552<br>SAT Participation: 18%",
          "SAT Average: 1062<br>SAT Math Avg: 521<br>SAT ERW Avg: 541<br>SAT Participation: 8%",
          "SAT Average: 1117<br>SAT Math Avg: 553<br>SAT ERW Avg: 564<br>SAT Participation: 48%",
          "SAT Average: 1086<br>SAT Math Avg: 539<br>SAT ERW Avg: 547<br>SAT Participation: 70%",
          "SAT Average: 1018<br>SAT Math Avg: 505<br>SAT ERW Avg: 513<br>SAT Participation: 97%",
          "SAT Average: 1070<br>SAT Math Avg: 523<br>SAT ERW Avg: 547<br>SAT Participation: 55%",
          "SAT Average: 1241<br>SAT Math Avg: 618<br>SAT ERW Avg: 622<br>SAT Participation: 3%",
          "SAT Average: 1231<br>SAT Math Avg: 607<br>SAT ERW Avg: 624<br>SAT Participation: 6%",
          "SAT Average: 1032<br>SAT Math Avg: 512<br>SAT ERW Avg: 520<br>SAT Participation: 66%",
          "SAT Average: 1230<br>SAT Math Avg: 612<br>SAT ERW Avg: 618<br>SAT Participation: 4%",
          "SAT Average: 1120<br>SAT Math Avg: 554<br>SAT ERW Avg: 565<br>SAT Participation: 64%",
          "SAT Average: 1117<br>SAT Math Avg: 550<br>SAT ERW Avg: 567<br>SAT Participation: 68%",
          "SAT Average: 1081<br>SAT Math Avg: 538<br>SAT ERW Avg: 543<br>SAT Participation: 69%",
          "SAT Average: 999<br>SAT Math Avg: 486<br>SAT ERW Avg: 513<br>SAT Participation: 28%",
          "SAT Average: 1294<br>SAT Math Avg: 653<br>SAT ERW Avg: 641<br>SAT Participation: 3%",
          "SAT Average: 1257<br>SAT Math Avg: 625<br>SAT ERW Avg: 633<br>SAT Participation: 3%"
         ],
         "type": "choropleth",
         "z": [
          1166,
          1106,
          1149,
          1169,
          1076,
          1025,
          1053,
          998,
          977,
          1014,
          1064,
          1099,
          1001,
          1019,
          1086,
          1265,
          1265,
          1248,
          1210,
          1013,
          1080,
          1125,
          1011,
          1298,
          1236,
          1262,
          1198,
          1252,
          1140,
          1063,
          1094,
          1093,
          1068,
          1098,
          1283,
          1099,
          1062,
          1117,
          1086,
          1018,
          1070,
          1241,
          1231,
          1032,
          1230,
          1120,
          1117,
          1081,
          999,
          1294,
          1257
         ]
        }
       ],
       "layout": {
        "geo": {
         "projection": {
          "type": "albers usa"
         },
         "scope": "usa"
        },
        "template": {
         "data": {
          "bar": [
           {
            "error_x": {
             "color": "#2a3f5f"
            },
            "error_y": {
             "color": "#2a3f5f"
            },
            "marker": {
             "line": {
              "color": "#E5ECF6",
              "width": 0.5
             }
            },
            "type": "bar"
           }
          ],
          "barpolar": [
           {
            "marker": {
             "line": {
              "color": "#E5ECF6",
              "width": 0.5
             }
            },
            "type": "barpolar"
           }
          ],
          "carpet": [
           {
            "aaxis": {
             "endlinecolor": "#2a3f5f",
             "gridcolor": "white",
             "linecolor": "white",
             "minorgridcolor": "white",
             "startlinecolor": "#2a3f5f"
            },
            "baxis": {
             "endlinecolor": "#2a3f5f",
             "gridcolor": "white",
             "linecolor": "white",
             "minorgridcolor": "white",
             "startlinecolor": "#2a3f5f"
            },
            "type": "carpet"
           }
          ],
          "choropleth": [
           {
            "colorbar": {
             "outlinewidth": 0,
             "ticks": ""
            },
            "type": "choropleth"
           }
          ],
          "contour": [
           {
            "colorbar": {
             "outlinewidth": 0,
             "ticks": ""
            },
            "colorscale": [
             [
              0,
              "#0d0887"
             ],
             [
              0.1111111111111111,
              "#46039f"
             ],
             [
              0.2222222222222222,
              "#7201a8"
             ],
             [
              0.3333333333333333,
              "#9c179e"
             ],
             [
              0.4444444444444444,
              "#bd3786"
             ],
             [
              0.5555555555555556,
              "#d8576b"
             ],
             [
              0.6666666666666666,
              "#ed7953"
             ],
             [
              0.7777777777777778,
              "#fb9f3a"
             ],
             [
              0.8888888888888888,
              "#fdca26"
             ],
             [
              1,
              "#f0f921"
             ]
            ],
            "type": "contour"
           }
          ],
          "contourcarpet": [
           {
            "colorbar": {
             "outlinewidth": 0,
             "ticks": ""
            },
            "type": "contourcarpet"
           }
          ],
          "heatmap": [
           {
            "colorbar": {
             "outlinewidth": 0,
             "ticks": ""
            },
            "colorscale": [
             [
              0,
              "#0d0887"
             ],
             [
              0.1111111111111111,
              "#46039f"
             ],
             [
              0.2222222222222222,
              "#7201a8"
             ],
             [
              0.3333333333333333,
              "#9c179e"
             ],
             [
              0.4444444444444444,
              "#bd3786"
             ],
             [
              0.5555555555555556,
              "#d8576b"
             ],
             [
              0.6666666666666666,
              "#ed7953"
             ],
             [
              0.7777777777777778,
              "#fb9f3a"
             ],
             [
              0.8888888888888888,
              "#fdca26"
             ],
             [
              1,
              "#f0f921"
             ]
            ],
            "type": "heatmap"
           }
          ],
          "heatmapgl": [
           {
            "colorbar": {
             "outlinewidth": 0,
             "ticks": ""
            },
            "colorscale": [
             [
              0,
              "#0d0887"
             ],
             [
              0.1111111111111111,
              "#46039f"
             ],
             [
              0.2222222222222222,
              "#7201a8"
             ],
             [
              0.3333333333333333,
              "#9c179e"
             ],
             [
              0.4444444444444444,
              "#bd3786"
             ],
             [
              0.5555555555555556,
              "#d8576b"
             ],
             [
              0.6666666666666666,
              "#ed7953"
             ],
             [
              0.7777777777777778,
              "#fb9f3a"
             ],
             [
              0.8888888888888888,
              "#fdca26"
             ],
             [
              1,
              "#f0f921"
             ]
            ],
            "type": "heatmapgl"
           }
          ],
          "histogram": [
           {
            "marker": {
             "colorbar": {
              "outlinewidth": 0,
              "ticks": ""
             }
            },
            "type": "histogram"
           }
          ],
          "histogram2d": [
           {
            "colorbar": {
             "outlinewidth": 0,
             "ticks": ""
            },
            "colorscale": [
             [
              0,
              "#0d0887"
             ],
             [
              0.1111111111111111,
              "#46039f"
             ],
             [
              0.2222222222222222,
              "#7201a8"
             ],
             [
              0.3333333333333333,
              "#9c179e"
             ],
             [
              0.4444444444444444,
              "#bd3786"
             ],
             [
              0.5555555555555556,
              "#d8576b"
             ],
             [
              0.6666666666666666,
              "#ed7953"
             ],
             [
              0.7777777777777778,
              "#fb9f3a"
             ],
             [
              0.8888888888888888,
              "#fdca26"
             ],
             [
              1,
              "#f0f921"
             ]
            ],
            "type": "histogram2d"
           }
          ],
          "histogram2dcontour": [
           {
            "colorbar": {
             "outlinewidth": 0,
             "ticks": ""
            },
            "colorscale": [
             [
              0,
              "#0d0887"
             ],
             [
              0.1111111111111111,
              "#46039f"
             ],
             [
              0.2222222222222222,
              "#7201a8"
             ],
             [
              0.3333333333333333,
              "#9c179e"
             ],
             [
              0.4444444444444444,
              "#bd3786"
             ],
             [
              0.5555555555555556,
              "#d8576b"
             ],
             [
              0.6666666666666666,
              "#ed7953"
             ],
             [
              0.7777777777777778,
              "#fb9f3a"
             ],
             [
              0.8888888888888888,
              "#fdca26"
             ],
             [
              1,
              "#f0f921"
             ]
            ],
            "type": "histogram2dcontour"
           }
          ],
          "mesh3d": [
           {
            "colorbar": {
             "outlinewidth": 0,
             "ticks": ""
            },
            "type": "mesh3d"
           }
          ],
          "parcoords": [
           {
            "line": {
             "colorbar": {
              "outlinewidth": 0,
              "ticks": ""
             }
            },
            "type": "parcoords"
           }
          ],
          "pie": [
           {
            "automargin": true,
            "type": "pie"
           }
          ],
          "scatter": [
           {
            "marker": {
             "colorbar": {
              "outlinewidth": 0,
              "ticks": ""
             }
            },
            "type": "scatter"
           }
          ],
          "scatter3d": [
           {
            "line": {
             "colorbar": {
              "outlinewidth": 0,
              "ticks": ""
             }
            },
            "marker": {
             "colorbar": {
              "outlinewidth": 0,
              "ticks": ""
             }
            },
            "type": "scatter3d"
           }
          ],
          "scattercarpet": [
           {
            "marker": {
             "colorbar": {
              "outlinewidth": 0,
              "ticks": ""
             }
            },
            "type": "scattercarpet"
           }
          ],
          "scattergeo": [
           {
            "marker": {
             "colorbar": {
              "outlinewidth": 0,
              "ticks": ""
             }
            },
            "type": "scattergeo"
           }
          ],
          "scattergl": [
           {
            "marker": {
             "colorbar": {
              "outlinewidth": 0,
              "ticks": ""
             }
            },
            "type": "scattergl"
           }
          ],
          "scattermapbox": [
           {
            "marker": {
             "colorbar": {
              "outlinewidth": 0,
              "ticks": ""
             }
            },
            "type": "scattermapbox"
           }
          ],
          "scatterpolar": [
           {
            "marker": {
             "colorbar": {
              "outlinewidth": 0,
              "ticks": ""
             }
            },
            "type": "scatterpolar"
           }
          ],
          "scatterpolargl": [
           {
            "marker": {
             "colorbar": {
              "outlinewidth": 0,
              "ticks": ""
             }
            },
            "type": "scatterpolargl"
           }
          ],
          "scatterternary": [
           {
            "marker": {
             "colorbar": {
              "outlinewidth": 0,
              "ticks": ""
             }
            },
            "type": "scatterternary"
           }
          ],
          "surface": [
           {
            "colorbar": {
             "outlinewidth": 0,
             "ticks": ""
            },
            "colorscale": [
             [
              0,
              "#0d0887"
             ],
             [
              0.1111111111111111,
              "#46039f"
             ],
             [
              0.2222222222222222,
              "#7201a8"
             ],
             [
              0.3333333333333333,
              "#9c179e"
             ],
             [
              0.4444444444444444,
              "#bd3786"
             ],
             [
              0.5555555555555556,
              "#d8576b"
             ],
             [
              0.6666666666666666,
              "#ed7953"
             ],
             [
              0.7777777777777778,
              "#fb9f3a"
             ],
             [
              0.8888888888888888,
              "#fdca26"
             ],
             [
              1,
              "#f0f921"
             ]
            ],
            "type": "surface"
           }
          ],
          "table": [
           {
            "cells": {
             "fill": {
              "color": "#EBF0F8"
             },
             "line": {
              "color": "white"
             }
            },
            "header": {
             "fill": {
              "color": "#C8D4E3"
             },
             "line": {
              "color": "white"
             }
            },
            "type": "table"
           }
          ]
         },
         "layout": {
          "annotationdefaults": {
           "arrowcolor": "#2a3f5f",
           "arrowhead": 0,
           "arrowwidth": 1
          },
          "coloraxis": {
           "colorbar": {
            "outlinewidth": 0,
            "ticks": ""
           }
          },
          "colorscale": {
           "diverging": [
            [
             0,
             "#8e0152"
            ],
            [
             0.1,
             "#c51b7d"
            ],
            [
             0.2,
             "#de77ae"
            ],
            [
             0.3,
             "#f1b6da"
            ],
            [
             0.4,
             "#fde0ef"
            ],
            [
             0.5,
             "#f7f7f7"
            ],
            [
             0.6,
             "#e6f5d0"
            ],
            [
             0.7,
             "#b8e186"
            ],
            [
             0.8,
             "#7fbc41"
            ],
            [
             0.9,
             "#4d9221"
            ],
            [
             1,
             "#276419"
            ]
           ],
           "sequential": [
            [
             0,
             "#0d0887"
            ],
            [
             0.1111111111111111,
             "#46039f"
            ],
            [
             0.2222222222222222,
             "#7201a8"
            ],
            [
             0.3333333333333333,
             "#9c179e"
            ],
            [
             0.4444444444444444,
             "#bd3786"
            ],
            [
             0.5555555555555556,
             "#d8576b"
            ],
            [
             0.6666666666666666,
             "#ed7953"
            ],
            [
             0.7777777777777778,
             "#fb9f3a"
            ],
            [
             0.8888888888888888,
             "#fdca26"
            ],
            [
             1,
             "#f0f921"
            ]
           ],
           "sequentialminus": [
            [
             0,
             "#0d0887"
            ],
            [
             0.1111111111111111,
             "#46039f"
            ],
            [
             0.2222222222222222,
             "#7201a8"
            ],
            [
             0.3333333333333333,
             "#9c179e"
            ],
            [
             0.4444444444444444,
             "#bd3786"
            ],
            [
             0.5555555555555556,
             "#d8576b"
            ],
            [
             0.6666666666666666,
             "#ed7953"
            ],
            [
             0.7777777777777778,
             "#fb9f3a"
            ],
            [
             0.8888888888888888,
             "#fdca26"
            ],
            [
             1,
             "#f0f921"
            ]
           ]
          },
          "colorway": [
           "#636efa",
           "#EF553B",
           "#00cc96",
           "#ab63fa",
           "#FFA15A",
           "#19d3f3",
           "#FF6692",
           "#B6E880",
           "#FF97FF",
           "#FECB52"
          ],
          "font": {
           "color": "#2a3f5f"
          },
          "geo": {
           "bgcolor": "white",
           "lakecolor": "white",
           "landcolor": "#E5ECF6",
           "showlakes": true,
           "showland": true,
           "subunitcolor": "white"
          },
          "hoverlabel": {
           "align": "left"
          },
          "hovermode": "closest",
          "mapbox": {
           "style": "light"
          },
          "paper_bgcolor": "white",
          "plot_bgcolor": "#E5ECF6",
          "polar": {
           "angularaxis": {
            "gridcolor": "white",
            "linecolor": "white",
            "ticks": ""
           },
           "bgcolor": "#E5ECF6",
           "radialaxis": {
            "gridcolor": "white",
            "linecolor": "white",
            "ticks": ""
           }
          },
          "scene": {
           "xaxis": {
            "backgroundcolor": "#E5ECF6",
            "gridcolor": "white",
            "gridwidth": 2,
            "linecolor": "white",
            "showbackground": true,
            "ticks": "",
            "zerolinecolor": "white"
           },
           "yaxis": {
            "backgroundcolor": "#E5ECF6",
            "gridcolor": "white",
            "gridwidth": 2,
            "linecolor": "white",
            "showbackground": true,
            "ticks": "",
            "zerolinecolor": "white"
           },
           "zaxis": {
            "backgroundcolor": "#E5ECF6",
            "gridcolor": "white",
            "gridwidth": 2,
            "linecolor": "white",
            "showbackground": true,
            "ticks": "",
            "zerolinecolor": "white"
           }
          },
          "shapedefaults": {
           "line": {
            "color": "#2a3f5f"
           }
          },
          "ternary": {
           "aaxis": {
            "gridcolor": "white",
            "linecolor": "white",
            "ticks": ""
           },
           "baxis": {
            "gridcolor": "white",
            "linecolor": "white",
            "ticks": ""
           },
           "bgcolor": "#E5ECF6",
           "caxis": {
            "gridcolor": "white",
            "linecolor": "white",
            "ticks": ""
           }
          },
          "title": {
           "x": 0.05
          },
          "xaxis": {
           "automargin": true,
           "gridcolor": "white",
           "linecolor": "white",
           "ticks": "",
           "title": {
            "standoff": 15
           },
           "zerolinecolor": "white",
           "zerolinewidth": 2
          },
          "yaxis": {
           "automargin": true,
           "gridcolor": "white",
           "linecolor": "white",
           "ticks": "",
           "title": {
            "standoff": 15
           },
           "zerolinecolor": "white",
           "zerolinewidth": 2
          }
         }
        },
        "title": {
         "text": "High SAT Average Score States (2018)"
        }
       }
      },
      "text/html": [
       "<div>\n",
       "        \n",
       "        \n",
       "            <div id=\"9123a86b-380a-497c-9cf4-b22ab67a0e87\" class=\"plotly-graph-div\" style=\"height:525px; width:100%;\"></div>\n",
       "            <script type=\"text/javascript\">\n",
       "                require([\"plotly\"], function(Plotly) {\n",
       "                    window.PLOTLYENV=window.PLOTLYENV || {};\n",
       "                    \n",
       "                if (document.getElementById(\"9123a86b-380a-497c-9cf4-b22ab67a0e87\")) {\n",
       "                    Plotly.newPlot(\n",
       "                        '9123a86b-380a-497c-9cf4-b22ab67a0e87',\n",
       "                        [{\"colorbar\": {\"title\": {\"text\": \"Average SAT Score\"}}, \"colorscale\": [[0.0, \"rgb(247,252,245)\"], [0.125, \"rgb(229,245,224)\"], [0.25, \"rgb(199,233,192)\"], [0.375, \"rgb(161,217,155)\"], [0.5, \"rgb(116,196,118)\"], [0.625, \"rgb(65,171,93)\"], [0.75, \"rgb(35,139,69)\"], [0.875, \"rgb(0,109,44)\"], [1.0, \"rgb(0,68,27)\"]], \"locationmode\": \"USA-states\", \"locations\": [\"AL\", \"AK\", \"AZ\", \"AR\", \"CA\", \"CO\", \"CT\", \"DE\", \"DC\", \"FL\", \"GA\", \"HI\", \"ID\", \"IL\", \"IN\", \"IA\", \"KS\", \"KY\", \"LA\", \"ME\", \"MD\", \"MA\", \"MI\", \"MN\", \"MS\", \"MO\", \"MT\", \"NE\", \"NV\", \"NH\", \"NJ\", \"NM\", \"NY\", \"NC\", \"ND\", \"OH\", \"OK\", \"OR\", \"PA\", \"RI\", \"SC\", \"SD\", \"TN\", \"TX\", \"UT\", \"VT\", \"VA\", \"WA\", \"WV\", \"WI\", \"WY\"], \"text\": [\"SAT Average: 1166<br>SAT Math Avg: 571<br>SAT ERW Avg: 595<br>SAT Participation: 6%\", \"SAT Average: 1106<br>SAT Math Avg: 544<br>SAT ERW Avg: 562<br>SAT Participation: 43%\", \"SAT Average: 1149<br>SAT Math Avg: 572<br>SAT ERW Avg: 577<br>SAT Participation: 29%\", \"SAT Average: 1169<br>SAT Math Avg: 576<br>SAT ERW Avg: 592<br>SAT Participation: 5%\", \"SAT Average: 1076<br>SAT Math Avg: 536<br>SAT ERW Avg: 540<br>SAT Participation: 60%\", \"SAT Average: 1025<br>SAT Math Avg: 506<br>SAT ERW Avg: 519<br>SAT Participation: 100%\", \"SAT Average: 1053<br>SAT Math Avg: 519<br>SAT ERW Avg: 535<br>SAT Participation: 100%\", \"SAT Average: 998<br>SAT Math Avg: 492<br>SAT ERW Avg: 505<br>SAT Participation: 100%\", \"SAT Average: 977<br>SAT Math Avg: 480<br>SAT ERW Avg: 497<br>SAT Participation: 92%\", \"SAT Average: 1014<br>SAT Math Avg: 493<br>SAT ERW Avg: 522<br>SAT Participation: 97%\", \"SAT Average: 1064<br>SAT Math Avg: 522<br>SAT ERW Avg: 542<br>SAT Participation: 70%\", \"SAT Average: 1099<br>SAT Math Avg: 549<br>SAT ERW Avg: 550<br>SAT Participation: 56%\", \"SAT Average: 1001<br>SAT Math Avg: 493<br>SAT ERW Avg: 508<br>SAT Participation: 100%\", \"SAT Average: 1019<br>SAT Math Avg: 506<br>SAT ERW Avg: 513<br>SAT Participation: 99%\", \"SAT Average: 1086<br>SAT Math Avg: 539<br>SAT ERW Avg: 546<br>SAT Participation: 67%\", \"SAT Average: 1265<br>SAT Math Avg: 631<br>SAT ERW Avg: 634<br>SAT Participation: 3%\", \"SAT Average: 1265<br>SAT Math Avg: 631<br>SAT ERW Avg: 633<br>SAT Participation: 4%\", \"SAT Average: 1248<br>SAT Math Avg: 618<br>SAT ERW Avg: 630<br>SAT Participation: 4%\", \"SAT Average: 1210<br>SAT Math Avg: 595<br>SAT ERW Avg: 615<br>SAT Participation: 4%\", \"SAT Average: 1013<br>SAT Math Avg: 501<br>SAT ERW Avg: 512<br>SAT Participation: 99%\", \"SAT Average: 1080<br>SAT Math Avg: 535<br>SAT ERW Avg: 545<br>SAT Participation: 76%\", \"SAT Average: 1125<br>SAT Math Avg: 563<br>SAT ERW Avg: 562<br>SAT Participation: 80%\", \"SAT Average: 1011<br>SAT Math Avg: 499<br>SAT ERW Avg: 511<br>SAT Participation: 100%\", \"SAT Average: 1298<br>SAT Math Avg: 655<br>SAT ERW Avg: 643<br>SAT Participation: 4%\", \"SAT Average: 1236<br>SAT Math Avg: 606<br>SAT ERW Avg: 630<br>SAT Participation: 3%\", \"SAT Average: 1262<br>SAT Math Avg: 629<br>SAT ERW Avg: 633<br>SAT Participation: 4%\", \"SAT Average: 1198<br>SAT Math Avg: 592<br>SAT ERW Avg: 606<br>SAT Participation: 10%\", \"SAT Average: 1252<br>SAT Math Avg: 623<br>SAT ERW Avg: 629<br>SAT Participation: 3%\", \"SAT Average: 1140<br>SAT Math Avg: 566<br>SAT ERW Avg: 574<br>SAT Participation: 23%\", \"SAT Average: 1063<br>SAT Math Avg: 528<br>SAT ERW Avg: 535<br>SAT Participation: 96%\", \"SAT Average: 1094<br>SAT Math Avg: 547<br>SAT ERW Avg: 547<br>SAT Participation: 82%\", \"SAT Average: 1093<br>SAT Math Avg: 540<br>SAT ERW Avg: 552<br>SAT Participation: 16%\", \"SAT Average: 1068<br>SAT Math Avg: 534<br>SAT ERW Avg: 534<br>SAT Participation: 79%\", \"SAT Average: 1098<br>SAT Math Avg: 543<br>SAT ERW Avg: 554<br>SAT Participation: 52%\", \"SAT Average: 1283<br>SAT Math Avg: 643<br>SAT ERW Avg: 640<br>SAT Participation: 2%\", \"SAT Average: 1099<br>SAT Math Avg: 547<br>SAT ERW Avg: 552<br>SAT Participation: 18%\", \"SAT Average: 1062<br>SAT Math Avg: 521<br>SAT ERW Avg: 541<br>SAT Participation: 8%\", \"SAT Average: 1117<br>SAT Math Avg: 553<br>SAT ERW Avg: 564<br>SAT Participation: 48%\", \"SAT Average: 1086<br>SAT Math Avg: 539<br>SAT ERW Avg: 547<br>SAT Participation: 70%\", \"SAT Average: 1018<br>SAT Math Avg: 505<br>SAT ERW Avg: 513<br>SAT Participation: 97%\", \"SAT Average: 1070<br>SAT Math Avg: 523<br>SAT ERW Avg: 547<br>SAT Participation: 55%\", \"SAT Average: 1241<br>SAT Math Avg: 618<br>SAT ERW Avg: 622<br>SAT Participation: 3%\", \"SAT Average: 1231<br>SAT Math Avg: 607<br>SAT ERW Avg: 624<br>SAT Participation: 6%\", \"SAT Average: 1032<br>SAT Math Avg: 512<br>SAT ERW Avg: 520<br>SAT Participation: 66%\", \"SAT Average: 1230<br>SAT Math Avg: 612<br>SAT ERW Avg: 618<br>SAT Participation: 4%\", \"SAT Average: 1120<br>SAT Math Avg: 554<br>SAT ERW Avg: 565<br>SAT Participation: 64%\", \"SAT Average: 1117<br>SAT Math Avg: 550<br>SAT ERW Avg: 567<br>SAT Participation: 68%\", \"SAT Average: 1081<br>SAT Math Avg: 538<br>SAT ERW Avg: 543<br>SAT Participation: 69%\", \"SAT Average: 999<br>SAT Math Avg: 486<br>SAT ERW Avg: 513<br>SAT Participation: 28%\", \"SAT Average: 1294<br>SAT Math Avg: 653<br>SAT ERW Avg: 641<br>SAT Participation: 3%\", \"SAT Average: 1257<br>SAT Math Avg: 625<br>SAT ERW Avg: 633<br>SAT Participation: 3%\"], \"type\": \"choropleth\", \"z\": [1166, 1106, 1149, 1169, 1076, 1025, 1053, 998, 977, 1014, 1064, 1099, 1001, 1019, 1086, 1265, 1265, 1248, 1210, 1013, 1080, 1125, 1011, 1298, 1236, 1262, 1198, 1252, 1140, 1063, 1094, 1093, 1068, 1098, 1283, 1099, 1062, 1117, 1086, 1018, 1070, 1241, 1231, 1032, 1230, 1120, 1117, 1081, 999, 1294, 1257]}],\n",
       "                        {\"geo\": {\"projection\": {\"type\": \"albers usa\"}, \"scope\": \"usa\"}, \"template\": {\"data\": {\"bar\": [{\"error_x\": {\"color\": \"#2a3f5f\"}, \"error_y\": {\"color\": \"#2a3f5f\"}, \"marker\": {\"line\": {\"color\": \"#E5ECF6\", \"width\": 0.5}}, \"type\": \"bar\"}], \"barpolar\": [{\"marker\": {\"line\": {\"color\": \"#E5ECF6\", \"width\": 0.5}}, \"type\": \"barpolar\"}], \"carpet\": [{\"aaxis\": {\"endlinecolor\": \"#2a3f5f\", \"gridcolor\": \"white\", \"linecolor\": \"white\", \"minorgridcolor\": \"white\", \"startlinecolor\": \"#2a3f5f\"}, \"baxis\": {\"endlinecolor\": \"#2a3f5f\", \"gridcolor\": \"white\", \"linecolor\": \"white\", \"minorgridcolor\": \"white\", \"startlinecolor\": \"#2a3f5f\"}, \"type\": \"carpet\"}], \"choropleth\": [{\"colorbar\": {\"outlinewidth\": 0, \"ticks\": \"\"}, \"type\": \"choropleth\"}], \"contour\": [{\"colorbar\": {\"outlinewidth\": 0, \"ticks\": \"\"}, \"colorscale\": [[0.0, \"#0d0887\"], [0.1111111111111111, \"#46039f\"], [0.2222222222222222, \"#7201a8\"], [0.3333333333333333, \"#9c179e\"], [0.4444444444444444, \"#bd3786\"], [0.5555555555555556, \"#d8576b\"], [0.6666666666666666, \"#ed7953\"], [0.7777777777777778, \"#fb9f3a\"], [0.8888888888888888, \"#fdca26\"], [1.0, \"#f0f921\"]], \"type\": \"contour\"}], \"contourcarpet\": [{\"colorbar\": {\"outlinewidth\": 0, \"ticks\": \"\"}, \"type\": \"contourcarpet\"}], \"heatmap\": [{\"colorbar\": {\"outlinewidth\": 0, \"ticks\": \"\"}, \"colorscale\": [[0.0, \"#0d0887\"], [0.1111111111111111, \"#46039f\"], [0.2222222222222222, \"#7201a8\"], [0.3333333333333333, \"#9c179e\"], [0.4444444444444444, \"#bd3786\"], [0.5555555555555556, \"#d8576b\"], [0.6666666666666666, \"#ed7953\"], [0.7777777777777778, \"#fb9f3a\"], [0.8888888888888888, \"#fdca26\"], [1.0, \"#f0f921\"]], \"type\": \"heatmap\"}], \"heatmapgl\": [{\"colorbar\": {\"outlinewidth\": 0, \"ticks\": \"\"}, \"colorscale\": [[0.0, \"#0d0887\"], [0.1111111111111111, \"#46039f\"], [0.2222222222222222, \"#7201a8\"], [0.3333333333333333, \"#9c179e\"], [0.4444444444444444, \"#bd3786\"], [0.5555555555555556, \"#d8576b\"], [0.6666666666666666, \"#ed7953\"], [0.7777777777777778, \"#fb9f3a\"], [0.8888888888888888, \"#fdca26\"], [1.0, \"#f0f921\"]], \"type\": \"heatmapgl\"}], \"histogram\": [{\"marker\": {\"colorbar\": {\"outlinewidth\": 0, \"ticks\": \"\"}}, \"type\": \"histogram\"}], \"histogram2d\": [{\"colorbar\": {\"outlinewidth\": 0, \"ticks\": \"\"}, \"colorscale\": [[0.0, \"#0d0887\"], [0.1111111111111111, \"#46039f\"], [0.2222222222222222, \"#7201a8\"], [0.3333333333333333, \"#9c179e\"], [0.4444444444444444, \"#bd3786\"], [0.5555555555555556, \"#d8576b\"], [0.6666666666666666, \"#ed7953\"], [0.7777777777777778, \"#fb9f3a\"], [0.8888888888888888, \"#fdca26\"], [1.0, \"#f0f921\"]], \"type\": \"histogram2d\"}], \"histogram2dcontour\": [{\"colorbar\": {\"outlinewidth\": 0, \"ticks\": \"\"}, \"colorscale\": [[0.0, \"#0d0887\"], [0.1111111111111111, \"#46039f\"], [0.2222222222222222, \"#7201a8\"], [0.3333333333333333, \"#9c179e\"], [0.4444444444444444, \"#bd3786\"], [0.5555555555555556, \"#d8576b\"], [0.6666666666666666, \"#ed7953\"], [0.7777777777777778, \"#fb9f3a\"], [0.8888888888888888, \"#fdca26\"], [1.0, \"#f0f921\"]], \"type\": \"histogram2dcontour\"}], \"mesh3d\": [{\"colorbar\": {\"outlinewidth\": 0, \"ticks\": \"\"}, \"type\": \"mesh3d\"}], \"parcoords\": [{\"line\": {\"colorbar\": {\"outlinewidth\": 0, \"ticks\": \"\"}}, \"type\": \"parcoords\"}], \"pie\": [{\"automargin\": true, \"type\": \"pie\"}], \"scatter\": [{\"marker\": {\"colorbar\": {\"outlinewidth\": 0, \"ticks\": \"\"}}, \"type\": \"scatter\"}], \"scatter3d\": [{\"line\": {\"colorbar\": {\"outlinewidth\": 0, \"ticks\": \"\"}}, \"marker\": {\"colorbar\": {\"outlinewidth\": 0, \"ticks\": \"\"}}, \"type\": \"scatter3d\"}], \"scattercarpet\": [{\"marker\": {\"colorbar\": {\"outlinewidth\": 0, \"ticks\": \"\"}}, \"type\": \"scattercarpet\"}], \"scattergeo\": [{\"marker\": {\"colorbar\": {\"outlinewidth\": 0, \"ticks\": \"\"}}, \"type\": \"scattergeo\"}], \"scattergl\": [{\"marker\": {\"colorbar\": {\"outlinewidth\": 0, \"ticks\": \"\"}}, \"type\": \"scattergl\"}], \"scattermapbox\": [{\"marker\": {\"colorbar\": {\"outlinewidth\": 0, \"ticks\": \"\"}}, \"type\": \"scattermapbox\"}], \"scatterpolar\": [{\"marker\": {\"colorbar\": {\"outlinewidth\": 0, \"ticks\": \"\"}}, \"type\": \"scatterpolar\"}], \"scatterpolargl\": [{\"marker\": {\"colorbar\": {\"outlinewidth\": 0, \"ticks\": \"\"}}, \"type\": \"scatterpolargl\"}], \"scatterternary\": [{\"marker\": {\"colorbar\": {\"outlinewidth\": 0, \"ticks\": \"\"}}, \"type\": \"scatterternary\"}], \"surface\": [{\"colorbar\": {\"outlinewidth\": 0, \"ticks\": \"\"}, \"colorscale\": [[0.0, \"#0d0887\"], [0.1111111111111111, \"#46039f\"], [0.2222222222222222, \"#7201a8\"], [0.3333333333333333, \"#9c179e\"], [0.4444444444444444, \"#bd3786\"], [0.5555555555555556, \"#d8576b\"], [0.6666666666666666, \"#ed7953\"], [0.7777777777777778, \"#fb9f3a\"], [0.8888888888888888, \"#fdca26\"], [1.0, \"#f0f921\"]], \"type\": \"surface\"}], \"table\": [{\"cells\": {\"fill\": {\"color\": \"#EBF0F8\"}, \"line\": {\"color\": \"white\"}}, \"header\": {\"fill\": {\"color\": \"#C8D4E3\"}, \"line\": {\"color\": \"white\"}}, \"type\": \"table\"}]}, \"layout\": {\"annotationdefaults\": {\"arrowcolor\": \"#2a3f5f\", \"arrowhead\": 0, \"arrowwidth\": 1}, \"coloraxis\": {\"colorbar\": {\"outlinewidth\": 0, \"ticks\": \"\"}}, \"colorscale\": {\"diverging\": [[0, \"#8e0152\"], [0.1, \"#c51b7d\"], [0.2, \"#de77ae\"], [0.3, \"#f1b6da\"], [0.4, \"#fde0ef\"], [0.5, \"#f7f7f7\"], [0.6, \"#e6f5d0\"], [0.7, \"#b8e186\"], [0.8, \"#7fbc41\"], [0.9, \"#4d9221\"], [1, \"#276419\"]], \"sequential\": [[0.0, \"#0d0887\"], [0.1111111111111111, \"#46039f\"], [0.2222222222222222, \"#7201a8\"], [0.3333333333333333, \"#9c179e\"], [0.4444444444444444, \"#bd3786\"], [0.5555555555555556, \"#d8576b\"], [0.6666666666666666, \"#ed7953\"], [0.7777777777777778, \"#fb9f3a\"], [0.8888888888888888, \"#fdca26\"], [1.0, \"#f0f921\"]], \"sequentialminus\": [[0.0, \"#0d0887\"], [0.1111111111111111, \"#46039f\"], [0.2222222222222222, \"#7201a8\"], [0.3333333333333333, \"#9c179e\"], [0.4444444444444444, \"#bd3786\"], [0.5555555555555556, \"#d8576b\"], [0.6666666666666666, \"#ed7953\"], [0.7777777777777778, \"#fb9f3a\"], [0.8888888888888888, \"#fdca26\"], [1.0, \"#f0f921\"]]}, \"colorway\": [\"#636efa\", \"#EF553B\", \"#00cc96\", \"#ab63fa\", \"#FFA15A\", \"#19d3f3\", \"#FF6692\", \"#B6E880\", \"#FF97FF\", \"#FECB52\"], \"font\": {\"color\": \"#2a3f5f\"}, \"geo\": {\"bgcolor\": \"white\", \"lakecolor\": \"white\", \"landcolor\": \"#E5ECF6\", \"showlakes\": true, \"showland\": true, \"subunitcolor\": \"white\"}, \"hoverlabel\": {\"align\": \"left\"}, \"hovermode\": \"closest\", \"mapbox\": {\"style\": \"light\"}, \"paper_bgcolor\": \"white\", \"plot_bgcolor\": \"#E5ECF6\", \"polar\": {\"angularaxis\": {\"gridcolor\": \"white\", \"linecolor\": \"white\", \"ticks\": \"\"}, \"bgcolor\": \"#E5ECF6\", \"radialaxis\": {\"gridcolor\": \"white\", \"linecolor\": \"white\", \"ticks\": \"\"}}, \"scene\": {\"xaxis\": {\"backgroundcolor\": \"#E5ECF6\", \"gridcolor\": \"white\", \"gridwidth\": 2, \"linecolor\": \"white\", \"showbackground\": true, \"ticks\": \"\", \"zerolinecolor\": \"white\"}, \"yaxis\": {\"backgroundcolor\": \"#E5ECF6\", \"gridcolor\": \"white\", \"gridwidth\": 2, \"linecolor\": \"white\", \"showbackground\": true, \"ticks\": \"\", \"zerolinecolor\": \"white\"}, \"zaxis\": {\"backgroundcolor\": \"#E5ECF6\", \"gridcolor\": \"white\", \"gridwidth\": 2, \"linecolor\": \"white\", \"showbackground\": true, \"ticks\": \"\", \"zerolinecolor\": \"white\"}}, \"shapedefaults\": {\"line\": {\"color\": \"#2a3f5f\"}}, \"ternary\": {\"aaxis\": {\"gridcolor\": \"white\", \"linecolor\": \"white\", \"ticks\": \"\"}, \"baxis\": {\"gridcolor\": \"white\", \"linecolor\": \"white\", \"ticks\": \"\"}, \"bgcolor\": \"#E5ECF6\", \"caxis\": {\"gridcolor\": \"white\", \"linecolor\": \"white\", \"ticks\": \"\"}}, \"title\": {\"x\": 0.05}, \"xaxis\": {\"automargin\": true, \"gridcolor\": \"white\", \"linecolor\": \"white\", \"ticks\": \"\", \"title\": {\"standoff\": 15}, \"zerolinecolor\": \"white\", \"zerolinewidth\": 2}, \"yaxis\": {\"automargin\": true, \"gridcolor\": \"white\", \"linecolor\": \"white\", \"ticks\": \"\", \"title\": {\"standoff\": 15}, \"zerolinecolor\": \"white\", \"zerolinewidth\": 2}}}, \"title\": {\"text\": \"High SAT Average Score States (2018)\"}},\n",
       "                        {\"responsive\": true}\n",
       "                    ).then(function(){\n",
       "                            \n",
       "var gd = document.getElementById('9123a86b-380a-497c-9cf4-b22ab67a0e87');\n",
       "var x = new MutationObserver(function (mutations, observer) {{\n",
       "        var display = window.getComputedStyle(gd).display;\n",
       "        if (!display || display === 'none') {{\n",
       "            console.log([gd, 'removed!']);\n",
       "            Plotly.purge(gd);\n",
       "            observer.disconnect();\n",
       "        }}\n",
       "}});\n",
       "\n",
       "// Listen for the removal of the full notebook cells\n",
       "var notebookContainer = gd.closest('#notebook-container');\n",
       "if (notebookContainer) {{\n",
       "    x.observe(notebookContainer, {childList: true});\n",
       "}}\n",
       "\n",
       "// Listen for the clearing of the current output cell\n",
       "var outputEl = gd.closest('.output');\n",
       "if (outputEl) {{\n",
       "    x.observe(outputEl, {childList: true});\n",
       "}}\n",
       "\n",
       "                        })\n",
       "                };\n",
       "                });\n",
       "            </script>\n",
       "        </div>"
      ]
     },
     "metadata": {},
     "output_type": "display_data"
    }
   ],
   "source": [
    "test_scores['text'] = 'SAT Average: ' + test_scores['sat_2018'].astype(str) + '<br>' + \\\n",
    "    'SAT Math Avg: ' + test_scores['sat_2018_math'].astype(str) + '<br>' + \\\n",
    "    'SAT ERW Avg: ' + test_scores['sat_2018_erw'].astype(str) + '<br>' + \\\n",
    "    'SAT Participation: ' + test_scores['sat_2018_part'].astype(str) +'%'\n",
    "\n",
    "sat_map = go.Figure(data=go.Choropleth(\n",
    "    locations=test_scores['state_code'], \n",
    "    locationmode=\"USA-states\", \n",
    "    text=test_scores['text'],\n",
    "    z=test_scores['sat_2018'],\n",
    "    colorscale='Greens',\n",
    "    colorbar_title=\"Average SAT Score\"\n",
    "))\n",
    "\n",
    "sat_map.update_layout(\n",
    "    title_text = 'High SAT Average Score States (2018)',\n",
    "    geo = dict(\n",
    "        scope='usa',\n",
    "        projection=go.layout.geo.Projection(type = 'albers usa'))\n",
    ")\n",
    "sat_map.show()"
   ]
  },
  {
   "cell_type": "markdown",
   "metadata": {},
   "source": [
    "#### Extreme ACT Performers\n",
    "\n",
    "We see New Hampshire, Massachusettes, and Connecticut scored achieved top 5 both years for ACT. We note the absence of overlap between these two top 5 lists. A similar pattern emerges as with the SAT scores above, where the top 10 ACT performers tend to have low participation rates whereas low performers tend to have high participation rates, with 8 of the bottom 10 states implmenenting universal testing."
   ]
  },
  {
   "cell_type": "code",
   "execution_count": 80,
   "metadata": {},
   "outputs": [
    {
     "data": {
      "text/html": [
       "<div>\n",
       "<style scoped>\n",
       "    .dataframe tbody tr th:only-of-type {\n",
       "        vertical-align: middle;\n",
       "    }\n",
       "\n",
       "    .dataframe tbody tr th {\n",
       "        vertical-align: top;\n",
       "    }\n",
       "\n",
       "    .dataframe thead th {\n",
       "        text-align: right;\n",
       "    }\n",
       "</style>\n",
       "<table border=\"1\" class=\"dataframe\">\n",
       "  <thead>\n",
       "    <tr style=\"text-align: right;\">\n",
       "      <th></th>\n",
       "      <th>act_2017</th>\n",
       "      <th>act_2017_english</th>\n",
       "      <th>act_2017_math</th>\n",
       "      <th>act_2017_reading</th>\n",
       "      <th>act_2017_science</th>\n",
       "      <th>act_2018</th>\n",
       "      <th>act_2018_english</th>\n",
       "      <th>act_2018_math</th>\n",
       "      <th>act_2018_reading</th>\n",
       "      <th>act_2018_science</th>\n",
       "    </tr>\n",
       "  </thead>\n",
       "  <tbody>\n",
       "    <tr>\n",
       "      <th>1st</th>\n",
       "      <td>Massachusetts</td>\n",
       "      <td>Connecticut</td>\n",
       "      <td>Massachusetts</td>\n",
       "      <td>New Hampshire</td>\n",
       "      <td>Massachusetts</td>\n",
       "      <td>New Hampshire</td>\n",
       "      <td>Connecticut</td>\n",
       "      <td>Massachusetts</td>\n",
       "      <td>Connecticut</td>\n",
       "      <td>New Hampshire</td>\n",
       "    </tr>\n",
       "    <tr>\n",
       "      <th>2nd</th>\n",
       "      <td>New Hampshire</td>\n",
       "      <td>New Hampshire</td>\n",
       "      <td>New Hampshire</td>\n",
       "      <td>Connecticut</td>\n",
       "      <td>Connecticut</td>\n",
       "      <td>Connecticut</td>\n",
       "      <td>New Hampshire</td>\n",
       "      <td>New Hampshire</td>\n",
       "      <td>Rhode Island</td>\n",
       "      <td>New York</td>\n",
       "    </tr>\n",
       "    <tr>\n",
       "      <th>3rd</th>\n",
       "      <td>Connecticut</td>\n",
       "      <td>Massachusetts</td>\n",
       "      <td>Maine</td>\n",
       "      <td>Massachusetts</td>\n",
       "      <td>New Hampshire</td>\n",
       "      <td>Massachusetts</td>\n",
       "      <td>Massachusetts</td>\n",
       "      <td>New York</td>\n",
       "      <td>Massachusetts</td>\n",
       "      <td>Massachusetts</td>\n",
       "    </tr>\n",
       "    <tr>\n",
       "      <th>4th</th>\n",
       "      <td>Michigan</td>\n",
       "      <td>Maine</td>\n",
       "      <td>Connecticut</td>\n",
       "      <td>Delaware</td>\n",
       "      <td>New York</td>\n",
       "      <td>Michigan</td>\n",
       "      <td>New York</td>\n",
       "      <td>Connecticut</td>\n",
       "      <td>New Hampshire</td>\n",
       "      <td>Connecticut</td>\n",
       "    </tr>\n",
       "    <tr>\n",
       "      <th>5th</th>\n",
       "      <td>Maine</td>\n",
       "      <td>Rhode Island</td>\n",
       "      <td>New York</td>\n",
       "      <td>New York</td>\n",
       "      <td>Michigan</td>\n",
       "      <td>Rhode Island</td>\n",
       "      <td>Michigan</td>\n",
       "      <td>Delaware</td>\n",
       "      <td>DC</td>\n",
       "      <td>DC</td>\n",
       "    </tr>\n",
       "  </tbody>\n",
       "</table>\n",
       "</div>"
      ],
      "text/plain": [
       "          act_2017 act_2017_english  act_2017_math act_2017_reading  \\\n",
       "1st  Massachusetts      Connecticut  Massachusetts    New Hampshire   \n",
       "2nd  New Hampshire    New Hampshire  New Hampshire      Connecticut   \n",
       "3rd    Connecticut    Massachusetts          Maine    Massachusetts   \n",
       "4th       Michigan            Maine    Connecticut         Delaware   \n",
       "5th          Maine     Rhode Island       New York         New York   \n",
       "\n",
       "    act_2017_science       act_2018 act_2018_english  act_2018_math  \\\n",
       "1st    Massachusetts  New Hampshire      Connecticut  Massachusetts   \n",
       "2nd      Connecticut    Connecticut    New Hampshire  New Hampshire   \n",
       "3rd    New Hampshire  Massachusetts    Massachusetts       New York   \n",
       "4th         New York       Michigan         New York    Connecticut   \n",
       "5th         Michigan   Rhode Island         Michigan       Delaware   \n",
       "\n",
       "    act_2018_reading act_2018_science  \n",
       "1st      Connecticut    New Hampshire  \n",
       "2nd     Rhode Island         New York  \n",
       "3rd    Massachusetts    Massachusetts  \n",
       "4th    New Hampshire      Connecticut  \n",
       "5th               DC               DC  "
      ]
     },
     "execution_count": 80,
     "metadata": {},
     "output_type": "execute_result"
    }
   ],
   "source": [
    "top_act = pd.DataFrame(columns = act_cols)\n",
    "for col in act_cols:\n",
    "    top_act[col] = test_scores[col].sort_values(ascending=False).head(5).index\n",
    "top_act.set_index(pd.Index(['1st', '2nd', '3rd', '4th', '5th']), inplace=True)\n",
    "\n",
    "top_act"
   ]
  },
  {
   "cell_type": "code",
   "execution_count": 82,
   "metadata": {},
   "outputs": [
    {
     "data": {
      "text/html": [
       "<div>\n",
       "<style scoped>\n",
       "    .dataframe tbody tr th:only-of-type {\n",
       "        vertical-align: middle;\n",
       "    }\n",
       "\n",
       "    .dataframe tbody tr th {\n",
       "        vertical-align: top;\n",
       "    }\n",
       "\n",
       "    .dataframe thead th {\n",
       "        text-align: right;\n",
       "    }\n",
       "</style>\n",
       "<table border=\"1\" class=\"dataframe\">\n",
       "  <thead>\n",
       "    <tr style=\"text-align: right;\">\n",
       "      <th></th>\n",
       "      <th>act_2018</th>\n",
       "      <th>act_2018_part</th>\n",
       "    </tr>\n",
       "    <tr>\n",
       "      <th>State</th>\n",
       "      <th></th>\n",
       "      <th></th>\n",
       "    </tr>\n",
       "  </thead>\n",
       "  <tbody>\n",
       "    <tr>\n",
       "      <th>New Hampshire</th>\n",
       "      <td>25</td>\n",
       "      <td>16</td>\n",
       "    </tr>\n",
       "    <tr>\n",
       "      <th>Connecticut</th>\n",
       "      <td>25</td>\n",
       "      <td>26</td>\n",
       "    </tr>\n",
       "    <tr>\n",
       "      <th>Massachusetts</th>\n",
       "      <td>25</td>\n",
       "      <td>25</td>\n",
       "    </tr>\n",
       "    <tr>\n",
       "      <th>Michigan</th>\n",
       "      <td>24</td>\n",
       "      <td>22</td>\n",
       "    </tr>\n",
       "    <tr>\n",
       "      <th>Rhode Island</th>\n",
       "      <td>24</td>\n",
       "      <td>15</td>\n",
       "    </tr>\n",
       "  </tbody>\n",
       "</table>\n",
       "</div>"
      ],
      "text/plain": [
       "               act_2018  act_2018_part\n",
       "State                                 \n",
       "New Hampshire        25             16\n",
       "Connecticut          25             26\n",
       "Massachusetts        25             25\n",
       "Michigan             24             22\n",
       "Rhode Island         24             15"
      ]
     },
     "execution_count": 82,
     "metadata": {},
     "output_type": "execute_result"
    }
   ],
   "source": [
    "test_scores.loc[test_scores['act_2018'].sort_values(ascending=False).head(5).index, ['act_2018', 'act_2018_part']]"
   ]
  },
  {
   "cell_type": "code",
   "execution_count": 83,
   "metadata": {},
   "outputs": [
    {
     "data": {
      "text/html": [
       "<div>\n",
       "<style scoped>\n",
       "    .dataframe tbody tr th:only-of-type {\n",
       "        vertical-align: middle;\n",
       "    }\n",
       "\n",
       "    .dataframe tbody tr th {\n",
       "        vertical-align: top;\n",
       "    }\n",
       "\n",
       "    .dataframe thead th {\n",
       "        text-align: right;\n",
       "    }\n",
       "</style>\n",
       "<table border=\"1\" class=\"dataframe\">\n",
       "  <thead>\n",
       "    <tr style=\"text-align: right;\">\n",
       "      <th></th>\n",
       "      <th>act_2018</th>\n",
       "      <th>act_2018_part</th>\n",
       "    </tr>\n",
       "    <tr>\n",
       "      <th>State</th>\n",
       "      <th></th>\n",
       "      <th></th>\n",
       "    </tr>\n",
       "  </thead>\n",
       "  <tbody>\n",
       "    <tr>\n",
       "      <th>Nevada</th>\n",
       "      <td>17</td>\n",
       "      <td>100</td>\n",
       "    </tr>\n",
       "    <tr>\n",
       "      <th>Mississippi</th>\n",
       "      <td>18</td>\n",
       "      <td>100</td>\n",
       "    </tr>\n",
       "    <tr>\n",
       "      <th>Hawaii</th>\n",
       "      <td>18</td>\n",
       "      <td>89</td>\n",
       "    </tr>\n",
       "    <tr>\n",
       "      <th>South Carolina</th>\n",
       "      <td>18</td>\n",
       "      <td>100</td>\n",
       "    </tr>\n",
       "    <tr>\n",
       "      <th>Louisiana</th>\n",
       "      <td>19</td>\n",
       "      <td>100</td>\n",
       "    </tr>\n",
       "  </tbody>\n",
       "</table>\n",
       "</div>"
      ],
      "text/plain": [
       "                act_2018  act_2018_part\n",
       "State                                  \n",
       "Nevada                17            100\n",
       "Mississippi           18            100\n",
       "Hawaii                18             89\n",
       "South Carolina        18            100\n",
       "Louisiana             19            100"
      ]
     },
     "execution_count": 83,
     "metadata": {},
     "output_type": "execute_result"
    }
   ],
   "source": [
    "test_scores.loc[test_scores['act_2018'].sort_values().head(5).index, ['act_2018', 'act_2018_part']]"
   ]
  },
  {
   "cell_type": "code",
   "execution_count": 84,
   "metadata": {},
   "outputs": [
    {
     "data": {
      "text/plain": [
       "Index(['sat_2017', 'sat_2017_erw', 'sat_2017_math', 'sat_2017_part',\n",
       "       'sat_2018', 'sat_2018_erw', 'sat_2018_math', 'sat_2018_part',\n",
       "       'act_2017', 'act_2017_english', 'act_2017_math', 'act_2017_reading',\n",
       "       'act_2017_science', 'act_2017_part', 'act_2018', 'act_2018_english',\n",
       "       'act_2018_math', 'act_2018_reading', 'act_2018_science',\n",
       "       'act_2018_part', 'state_code', 'region', 'text'],\n",
       "      dtype='object')"
      ]
     },
     "execution_count": 84,
     "metadata": {},
     "output_type": "execute_result"
    }
   ],
   "source": [
    "test_scores.columns"
   ]
  },
  {
   "cell_type": "code",
   "execution_count": 90,
   "metadata": {},
   "outputs": [
    {
     "data": {
      "application/vnd.plotly.v1+json": {
       "config": {
        "plotlyServerURL": "https://plot.ly"
       },
       "data": [
        {
         "colorbar": {
          "title": {
           "text": "Average ACT Score"
          }
         },
         "colorscale": [
          [
           0,
           "rgb(247,251,255)"
          ],
          [
           0.125,
           "rgb(222,235,247)"
          ],
          [
           0.25,
           "rgb(198,219,239)"
          ],
          [
           0.375,
           "rgb(158,202,225)"
          ],
          [
           0.5,
           "rgb(107,174,214)"
          ],
          [
           0.625,
           "rgb(66,146,198)"
          ],
          [
           0.75,
           "rgb(33,113,181)"
          ],
          [
           0.875,
           "rgb(8,81,156)"
          ],
          [
           1,
           "rgb(8,48,107)"
          ]
         ],
         "locationmode": "USA-states",
         "locations": [
          "AL",
          "AK",
          "AZ",
          "AR",
          "CA",
          "CO",
          "CT",
          "DE",
          "DC",
          "FL",
          "GA",
          "HI",
          "ID",
          "IL",
          "IN",
          "IA",
          "KS",
          "KY",
          "LA",
          "ME",
          "MD",
          "MA",
          "MI",
          "MN",
          "MS",
          "MO",
          "MT",
          "NE",
          "NV",
          "NH",
          "NJ",
          "NM",
          "NY",
          "NC",
          "ND",
          "OH",
          "OK",
          "OR",
          "PA",
          "RI",
          "SC",
          "SD",
          "TN",
          "TX",
          "UT",
          "VT",
          "VA",
          "WA",
          "WV",
          "WI",
          "WY"
         ],
         "text": [
          "ACT Average: 19<br>ACT English Avg: 18<br>ACT Reading Avg: 19<br>ACT Math Avg: 18<br>ACT Science Avg: 19<br>ACT Participation: 100%",
          "ACT Average: 20<br>ACT English Avg: 19<br>ACT Reading Avg: 21<br>ACT Math Avg: 20<br>ACT Science Avg: 20<br>ACT Participation: 33%",
          "ACT Average: 19<br>ACT English Avg: 18<br>ACT Reading Avg: 19<br>ACT Math Avg: 19<br>ACT Science Avg: 19<br>ACT Participation: 66%",
          "ACT Average: 19<br>ACT English Avg: 19<br>ACT Reading Avg: 19<br>ACT Math Avg: 18<br>ACT Science Avg: 19<br>ACT Participation: 100%",
          "ACT Average: 22<br>ACT English Avg: 22<br>ACT Reading Avg: 23<br>ACT Math Avg: 22<br>ACT Science Avg: 22<br>ACT Participation: 27%",
          "ACT Average: 23<br>ACT English Avg: 23<br>ACT Reading Avg: 24<br>ACT Math Avg: 23<br>ACT Science Avg: 23<br>ACT Participation: 30%",
          "ACT Average: 25<br>ACT English Avg: 26<br>ACT Reading Avg: 26<br>ACT Math Avg: 24<br>ACT Science Avg: 24<br>ACT Participation: 26%",
          "ACT Average: 23<br>ACT English Avg: 23<br>ACT Reading Avg: 24<br>ACT Math Avg: 23<br>ACT Science Avg: 23<br>ACT Participation: 17%",
          "ACT Average: 23<br>ACT English Avg: 23<br>ACT Reading Avg: 24<br>ACT Math Avg: 22<br>ACT Science Avg: 23<br>ACT Participation: 32%",
          "ACT Average: 19<br>ACT English Avg: 19<br>ACT Reading Avg: 21<br>ACT Math Avg: 19<br>ACT Science Avg: 19<br>ACT Participation: 66%",
          "ACT Average: 21<br>ACT English Avg: 20<br>ACT Reading Avg: 22<br>ACT Math Avg: 20<br>ACT Science Avg: 21<br>ACT Participation: 53%",
          "ACT Average: 18<br>ACT English Avg: 18<br>ACT Reading Avg: 19<br>ACT Math Avg: 19<br>ACT Science Avg: 19<br>ACT Participation: 89%",
          "ACT Average: 22<br>ACT English Avg: 21<br>ACT Reading Avg: 23<br>ACT Math Avg: 21<br>ACT Science Avg: 22<br>ACT Participation: 36%",
          "ACT Average: 23<br>ACT English Avg: 24<br>ACT Reading Avg: 24<br>ACT Math Avg: 23<br>ACT Science Avg: 23<br>ACT Participation: 43%",
          "ACT Average: 22<br>ACT English Avg: 21<br>ACT Reading Avg: 23<br>ACT Math Avg: 22<br>ACT Science Avg: 22<br>ACT Participation: 32%",
          "ACT Average: 21<br>ACT English Avg: 21<br>ACT Reading Avg: 22<br>ACT Math Avg: 21<br>ACT Science Avg: 22<br>ACT Participation: 68%",
          "ACT Average: 21<br>ACT English Avg: 21<br>ACT Reading Avg: 22<br>ACT Math Avg: 21<br>ACT Science Avg: 21<br>ACT Participation: 71%",
          "ACT Average: 20<br>ACT English Avg: 19<br>ACT Reading Avg: 20<br>ACT Math Avg: 19<br>ACT Science Avg: 20<br>ACT Participation: 100%",
          "ACT Average: 19<br>ACT English Avg: 19<br>ACT Reading Avg: 19<br>ACT Math Avg: 18<br>ACT Science Avg: 19<br>ACT Participation: 100%",
          "ACT Average: 24<br>ACT English Avg: 23<br>ACT Reading Avg: 24<br>ACT Math Avg: 23<br>ACT Science Avg: 23<br>ACT Participation: 7%",
          "ACT Average: 22<br>ACT English Avg: 22<br>ACT Reading Avg: 23<br>ACT Math Avg: 22<br>ACT Science Avg: 22<br>ACT Participation: 31%",
          "ACT Average: 25<br>ACT English Avg: 25<br>ACT Reading Avg: 25<br>ACT Math Avg: 25<br>ACT Science Avg: 24<br>ACT Participation: 25%",
          "ACT Average: 24<br>ACT English Avg: 24<br>ACT Reading Avg: 24<br>ACT Math Avg: 23<br>ACT Science Avg: 23<br>ACT Participation: 22%",
          "ACT Average: 21<br>ACT English Avg: 20<br>ACT Reading Avg: 21<br>ACT Math Avg: 21<br>ACT Science Avg: 21<br>ACT Participation: 99%",
          "ACT Average: 18<br>ACT English Avg: 18<br>ACT Reading Avg: 18<br>ACT Math Avg: 18<br>ACT Science Avg: 18<br>ACT Participation: 100%",
          "ACT Average: 20<br>ACT English Avg: 19<br>ACT Reading Avg: 20<br>ACT Math Avg: 19<br>ACT Science Avg: 20<br>ACT Participation: 100%",
          "ACT Average: 20<br>ACT English Avg: 18<br>ACT Reading Avg: 20<br>ACT Math Avg: 19<br>ACT Science Avg: 20<br>ACT Participation: 100%",
          "ACT Average: 20<br>ACT English Avg: 19<br>ACT Reading Avg: 20<br>ACT Math Avg: 19<br>ACT Science Avg: 20<br>ACT Participation: 100%",
          "ACT Average: 17<br>ACT English Avg: 16<br>ACT Reading Avg: 18<br>ACT Math Avg: 17<br>ACT Science Avg: 17<br>ACT Participation: 100%",
          "ACT Average: 25<br>ACT English Avg: 25<br>ACT Reading Avg: 25<br>ACT Math Avg: 24<br>ACT Science Avg: 24<br>ACT Participation: 16%",
          "ACT Average: 23<br>ACT English Avg: 23<br>ACT Reading Avg: 24<br>ACT Math Avg: 23<br>ACT Science Avg: 23<br>ACT Participation: 31%",
          "ACT Average: 19<br>ACT English Avg: 18<br>ACT Reading Avg: 20<br>ACT Math Avg: 19<br>ACT Science Avg: 19<br>ACT Participation: 67%",
          "ACT Average: 24<br>ACT English Avg: 24<br>ACT Reading Avg: 24<br>ACT Math Avg: 24<br>ACT Science Avg: 24<br>ACT Participation: 27%",
          "ACT Average: 19<br>ACT English Avg: 18<br>ACT Reading Avg: 19<br>ACT Math Avg: 19<br>ACT Science Avg: 19<br>ACT Participation: 100%",
          "ACT Average: 20<br>ACT English Avg: 19<br>ACT Reading Avg: 20<br>ACT Math Avg: 20<br>ACT Science Avg: 20<br>ACT Participation: 98%",
          "ACT Average: 20<br>ACT English Avg: 19<br>ACT Reading Avg: 20<br>ACT Math Avg: 20<br>ACT Science Avg: 20<br>ACT Participation: 100%",
          "ACT Average: 19<br>ACT English Avg: 18<br>ACT Reading Avg: 20<br>ACT Math Avg: 18<br>ACT Science Avg: 19<br>ACT Participation: 100%",
          "ACT Average: 21<br>ACT English Avg: 20<br>ACT Reading Avg: 21<br>ACT Math Avg: 20<br>ACT Science Avg: 21<br>ACT Participation: 42%",
          "ACT Average: 23<br>ACT English Avg: 23<br>ACT Reading Avg: 24<br>ACT Math Avg: 23<br>ACT Science Avg: 23<br>ACT Participation: 20%",
          "ACT Average: 24<br>ACT English Avg: 24<br>ACT Reading Avg: 25<br>ACT Math Avg: 23<br>ACT Science Avg: 23<br>ACT Participation: 15%",
          "ACT Average: 18<br>ACT English Avg: 17<br>ACT Reading Avg: 18<br>ACT Math Avg: 18<br>ACT Science Avg: 18<br>ACT Participation: 100%",
          "ACT Average: 21<br>ACT English Avg: 20<br>ACT Reading Avg: 22<br>ACT Math Avg: 21<br>ACT Science Avg: 22<br>ACT Participation: 77%",
          "ACT Average: 19<br>ACT English Avg: 19<br>ACT Reading Avg: 19<br>ACT Math Avg: 19<br>ACT Science Avg: 19<br>ACT Participation: 100%",
          "ACT Average: 20<br>ACT English Avg: 19<br>ACT Reading Avg: 21<br>ACT Math Avg: 20<br>ACT Science Avg: 20<br>ACT Participation: 41%",
          "ACT Average: 20<br>ACT English Avg: 19<br>ACT Reading Avg: 20<br>ACT Math Avg: 19<br>ACT Science Avg: 20<br>ACT Participation: 100%",
          "ACT Average: 24<br>ACT English Avg: 23<br>ACT Reading Avg: 24<br>ACT Math Avg: 23<br>ACT Science Avg: 23<br>ACT Participation: 24%",
          "ACT Average: 23<br>ACT English Avg: 23<br>ACT Reading Avg: 24<br>ACT Math Avg: 23<br>ACT Science Avg: 23<br>ACT Participation: 24%",
          "ACT Average: 22<br>ACT English Avg: 21<br>ACT Reading Avg: 22<br>ACT Math Avg: 22<br>ACT Science Avg: 22<br>ACT Participation: 24%",
          "ACT Average: 20<br>ACT English Avg: 19<br>ACT Reading Avg: 21<br>ACT Math Avg: 19<br>ACT Science Avg: 20<br>ACT Participation: 65%",
          "ACT Average: 20<br>ACT English Avg: 19<br>ACT Reading Avg: 20<br>ACT Math Avg: 20<br>ACT Science Avg: 20<br>ACT Participation: 100%",
          "ACT Average: 20<br>ACT English Avg: 19<br>ACT Reading Avg: 20<br>ACT Math Avg: 19<br>ACT Science Avg: 20<br>ACT Participation: 100%"
         ],
         "type": "choropleth",
         "z": [
          19,
          20,
          19,
          19,
          22,
          23,
          25,
          23,
          23,
          19,
          21,
          18,
          22,
          23,
          22,
          21,
          21,
          20,
          19,
          24,
          22,
          25,
          24,
          21,
          18,
          20,
          20,
          20,
          17,
          25,
          23,
          19,
          24,
          19,
          20,
          20,
          19,
          21,
          23,
          24,
          18,
          21,
          19,
          20,
          20,
          24,
          23,
          22,
          20,
          20,
          20
         ]
        }
       ],
       "layout": {
        "geo": {
         "projection": {
          "type": "albers usa"
         },
         "scope": "usa"
        },
        "template": {
         "data": {
          "bar": [
           {
            "error_x": {
             "color": "#2a3f5f"
            },
            "error_y": {
             "color": "#2a3f5f"
            },
            "marker": {
             "line": {
              "color": "#E5ECF6",
              "width": 0.5
             }
            },
            "type": "bar"
           }
          ],
          "barpolar": [
           {
            "marker": {
             "line": {
              "color": "#E5ECF6",
              "width": 0.5
             }
            },
            "type": "barpolar"
           }
          ],
          "carpet": [
           {
            "aaxis": {
             "endlinecolor": "#2a3f5f",
             "gridcolor": "white",
             "linecolor": "white",
             "minorgridcolor": "white",
             "startlinecolor": "#2a3f5f"
            },
            "baxis": {
             "endlinecolor": "#2a3f5f",
             "gridcolor": "white",
             "linecolor": "white",
             "minorgridcolor": "white",
             "startlinecolor": "#2a3f5f"
            },
            "type": "carpet"
           }
          ],
          "choropleth": [
           {
            "colorbar": {
             "outlinewidth": 0,
             "ticks": ""
            },
            "type": "choropleth"
           }
          ],
          "contour": [
           {
            "colorbar": {
             "outlinewidth": 0,
             "ticks": ""
            },
            "colorscale": [
             [
              0,
              "#0d0887"
             ],
             [
              0.1111111111111111,
              "#46039f"
             ],
             [
              0.2222222222222222,
              "#7201a8"
             ],
             [
              0.3333333333333333,
              "#9c179e"
             ],
             [
              0.4444444444444444,
              "#bd3786"
             ],
             [
              0.5555555555555556,
              "#d8576b"
             ],
             [
              0.6666666666666666,
              "#ed7953"
             ],
             [
              0.7777777777777778,
              "#fb9f3a"
             ],
             [
              0.8888888888888888,
              "#fdca26"
             ],
             [
              1,
              "#f0f921"
             ]
            ],
            "type": "contour"
           }
          ],
          "contourcarpet": [
           {
            "colorbar": {
             "outlinewidth": 0,
             "ticks": ""
            },
            "type": "contourcarpet"
           }
          ],
          "heatmap": [
           {
            "colorbar": {
             "outlinewidth": 0,
             "ticks": ""
            },
            "colorscale": [
             [
              0,
              "#0d0887"
             ],
             [
              0.1111111111111111,
              "#46039f"
             ],
             [
              0.2222222222222222,
              "#7201a8"
             ],
             [
              0.3333333333333333,
              "#9c179e"
             ],
             [
              0.4444444444444444,
              "#bd3786"
             ],
             [
              0.5555555555555556,
              "#d8576b"
             ],
             [
              0.6666666666666666,
              "#ed7953"
             ],
             [
              0.7777777777777778,
              "#fb9f3a"
             ],
             [
              0.8888888888888888,
              "#fdca26"
             ],
             [
              1,
              "#f0f921"
             ]
            ],
            "type": "heatmap"
           }
          ],
          "heatmapgl": [
           {
            "colorbar": {
             "outlinewidth": 0,
             "ticks": ""
            },
            "colorscale": [
             [
              0,
              "#0d0887"
             ],
             [
              0.1111111111111111,
              "#46039f"
             ],
             [
              0.2222222222222222,
              "#7201a8"
             ],
             [
              0.3333333333333333,
              "#9c179e"
             ],
             [
              0.4444444444444444,
              "#bd3786"
             ],
             [
              0.5555555555555556,
              "#d8576b"
             ],
             [
              0.6666666666666666,
              "#ed7953"
             ],
             [
              0.7777777777777778,
              "#fb9f3a"
             ],
             [
              0.8888888888888888,
              "#fdca26"
             ],
             [
              1,
              "#f0f921"
             ]
            ],
            "type": "heatmapgl"
           }
          ],
          "histogram": [
           {
            "marker": {
             "colorbar": {
              "outlinewidth": 0,
              "ticks": ""
             }
            },
            "type": "histogram"
           }
          ],
          "histogram2d": [
           {
            "colorbar": {
             "outlinewidth": 0,
             "ticks": ""
            },
            "colorscale": [
             [
              0,
              "#0d0887"
             ],
             [
              0.1111111111111111,
              "#46039f"
             ],
             [
              0.2222222222222222,
              "#7201a8"
             ],
             [
              0.3333333333333333,
              "#9c179e"
             ],
             [
              0.4444444444444444,
              "#bd3786"
             ],
             [
              0.5555555555555556,
              "#d8576b"
             ],
             [
              0.6666666666666666,
              "#ed7953"
             ],
             [
              0.7777777777777778,
              "#fb9f3a"
             ],
             [
              0.8888888888888888,
              "#fdca26"
             ],
             [
              1,
              "#f0f921"
             ]
            ],
            "type": "histogram2d"
           }
          ],
          "histogram2dcontour": [
           {
            "colorbar": {
             "outlinewidth": 0,
             "ticks": ""
            },
            "colorscale": [
             [
              0,
              "#0d0887"
             ],
             [
              0.1111111111111111,
              "#46039f"
             ],
             [
              0.2222222222222222,
              "#7201a8"
             ],
             [
              0.3333333333333333,
              "#9c179e"
             ],
             [
              0.4444444444444444,
              "#bd3786"
             ],
             [
              0.5555555555555556,
              "#d8576b"
             ],
             [
              0.6666666666666666,
              "#ed7953"
             ],
             [
              0.7777777777777778,
              "#fb9f3a"
             ],
             [
              0.8888888888888888,
              "#fdca26"
             ],
             [
              1,
              "#f0f921"
             ]
            ],
            "type": "histogram2dcontour"
           }
          ],
          "mesh3d": [
           {
            "colorbar": {
             "outlinewidth": 0,
             "ticks": ""
            },
            "type": "mesh3d"
           }
          ],
          "parcoords": [
           {
            "line": {
             "colorbar": {
              "outlinewidth": 0,
              "ticks": ""
             }
            },
            "type": "parcoords"
           }
          ],
          "pie": [
           {
            "automargin": true,
            "type": "pie"
           }
          ],
          "scatter": [
           {
            "marker": {
             "colorbar": {
              "outlinewidth": 0,
              "ticks": ""
             }
            },
            "type": "scatter"
           }
          ],
          "scatter3d": [
           {
            "line": {
             "colorbar": {
              "outlinewidth": 0,
              "ticks": ""
             }
            },
            "marker": {
             "colorbar": {
              "outlinewidth": 0,
              "ticks": ""
             }
            },
            "type": "scatter3d"
           }
          ],
          "scattercarpet": [
           {
            "marker": {
             "colorbar": {
              "outlinewidth": 0,
              "ticks": ""
             }
            },
            "type": "scattercarpet"
           }
          ],
          "scattergeo": [
           {
            "marker": {
             "colorbar": {
              "outlinewidth": 0,
              "ticks": ""
             }
            },
            "type": "scattergeo"
           }
          ],
          "scattergl": [
           {
            "marker": {
             "colorbar": {
              "outlinewidth": 0,
              "ticks": ""
             }
            },
            "type": "scattergl"
           }
          ],
          "scattermapbox": [
           {
            "marker": {
             "colorbar": {
              "outlinewidth": 0,
              "ticks": ""
             }
            },
            "type": "scattermapbox"
           }
          ],
          "scatterpolar": [
           {
            "marker": {
             "colorbar": {
              "outlinewidth": 0,
              "ticks": ""
             }
            },
            "type": "scatterpolar"
           }
          ],
          "scatterpolargl": [
           {
            "marker": {
             "colorbar": {
              "outlinewidth": 0,
              "ticks": ""
             }
            },
            "type": "scatterpolargl"
           }
          ],
          "scatterternary": [
           {
            "marker": {
             "colorbar": {
              "outlinewidth": 0,
              "ticks": ""
             }
            },
            "type": "scatterternary"
           }
          ],
          "surface": [
           {
            "colorbar": {
             "outlinewidth": 0,
             "ticks": ""
            },
            "colorscale": [
             [
              0,
              "#0d0887"
             ],
             [
              0.1111111111111111,
              "#46039f"
             ],
             [
              0.2222222222222222,
              "#7201a8"
             ],
             [
              0.3333333333333333,
              "#9c179e"
             ],
             [
              0.4444444444444444,
              "#bd3786"
             ],
             [
              0.5555555555555556,
              "#d8576b"
             ],
             [
              0.6666666666666666,
              "#ed7953"
             ],
             [
              0.7777777777777778,
              "#fb9f3a"
             ],
             [
              0.8888888888888888,
              "#fdca26"
             ],
             [
              1,
              "#f0f921"
             ]
            ],
            "type": "surface"
           }
          ],
          "table": [
           {
            "cells": {
             "fill": {
              "color": "#EBF0F8"
             },
             "line": {
              "color": "white"
             }
            },
            "header": {
             "fill": {
              "color": "#C8D4E3"
             },
             "line": {
              "color": "white"
             }
            },
            "type": "table"
           }
          ]
         },
         "layout": {
          "annotationdefaults": {
           "arrowcolor": "#2a3f5f",
           "arrowhead": 0,
           "arrowwidth": 1
          },
          "coloraxis": {
           "colorbar": {
            "outlinewidth": 0,
            "ticks": ""
           }
          },
          "colorscale": {
           "diverging": [
            [
             0,
             "#8e0152"
            ],
            [
             0.1,
             "#c51b7d"
            ],
            [
             0.2,
             "#de77ae"
            ],
            [
             0.3,
             "#f1b6da"
            ],
            [
             0.4,
             "#fde0ef"
            ],
            [
             0.5,
             "#f7f7f7"
            ],
            [
             0.6,
             "#e6f5d0"
            ],
            [
             0.7,
             "#b8e186"
            ],
            [
             0.8,
             "#7fbc41"
            ],
            [
             0.9,
             "#4d9221"
            ],
            [
             1,
             "#276419"
            ]
           ],
           "sequential": [
            [
             0,
             "#0d0887"
            ],
            [
             0.1111111111111111,
             "#46039f"
            ],
            [
             0.2222222222222222,
             "#7201a8"
            ],
            [
             0.3333333333333333,
             "#9c179e"
            ],
            [
             0.4444444444444444,
             "#bd3786"
            ],
            [
             0.5555555555555556,
             "#d8576b"
            ],
            [
             0.6666666666666666,
             "#ed7953"
            ],
            [
             0.7777777777777778,
             "#fb9f3a"
            ],
            [
             0.8888888888888888,
             "#fdca26"
            ],
            [
             1,
             "#f0f921"
            ]
           ],
           "sequentialminus": [
            [
             0,
             "#0d0887"
            ],
            [
             0.1111111111111111,
             "#46039f"
            ],
            [
             0.2222222222222222,
             "#7201a8"
            ],
            [
             0.3333333333333333,
             "#9c179e"
            ],
            [
             0.4444444444444444,
             "#bd3786"
            ],
            [
             0.5555555555555556,
             "#d8576b"
            ],
            [
             0.6666666666666666,
             "#ed7953"
            ],
            [
             0.7777777777777778,
             "#fb9f3a"
            ],
            [
             0.8888888888888888,
             "#fdca26"
            ],
            [
             1,
             "#f0f921"
            ]
           ]
          },
          "colorway": [
           "#636efa",
           "#EF553B",
           "#00cc96",
           "#ab63fa",
           "#FFA15A",
           "#19d3f3",
           "#FF6692",
           "#B6E880",
           "#FF97FF",
           "#FECB52"
          ],
          "font": {
           "color": "#2a3f5f"
          },
          "geo": {
           "bgcolor": "white",
           "lakecolor": "white",
           "landcolor": "#E5ECF6",
           "showlakes": true,
           "showland": true,
           "subunitcolor": "white"
          },
          "hoverlabel": {
           "align": "left"
          },
          "hovermode": "closest",
          "mapbox": {
           "style": "light"
          },
          "paper_bgcolor": "white",
          "plot_bgcolor": "#E5ECF6",
          "polar": {
           "angularaxis": {
            "gridcolor": "white",
            "linecolor": "white",
            "ticks": ""
           },
           "bgcolor": "#E5ECF6",
           "radialaxis": {
            "gridcolor": "white",
            "linecolor": "white",
            "ticks": ""
           }
          },
          "scene": {
           "xaxis": {
            "backgroundcolor": "#E5ECF6",
            "gridcolor": "white",
            "gridwidth": 2,
            "linecolor": "white",
            "showbackground": true,
            "ticks": "",
            "zerolinecolor": "white"
           },
           "yaxis": {
            "backgroundcolor": "#E5ECF6",
            "gridcolor": "white",
            "gridwidth": 2,
            "linecolor": "white",
            "showbackground": true,
            "ticks": "",
            "zerolinecolor": "white"
           },
           "zaxis": {
            "backgroundcolor": "#E5ECF6",
            "gridcolor": "white",
            "gridwidth": 2,
            "linecolor": "white",
            "showbackground": true,
            "ticks": "",
            "zerolinecolor": "white"
           }
          },
          "shapedefaults": {
           "line": {
            "color": "#2a3f5f"
           }
          },
          "ternary": {
           "aaxis": {
            "gridcolor": "white",
            "linecolor": "white",
            "ticks": ""
           },
           "baxis": {
            "gridcolor": "white",
            "linecolor": "white",
            "ticks": ""
           },
           "bgcolor": "#E5ECF6",
           "caxis": {
            "gridcolor": "white",
            "linecolor": "white",
            "ticks": ""
           }
          },
          "title": {
           "x": 0.05
          },
          "xaxis": {
           "automargin": true,
           "gridcolor": "white",
           "linecolor": "white",
           "ticks": "",
           "title": {
            "standoff": 15
           },
           "zerolinecolor": "white",
           "zerolinewidth": 2
          },
          "yaxis": {
           "automargin": true,
           "gridcolor": "white",
           "linecolor": "white",
           "ticks": "",
           "title": {
            "standoff": 15
           },
           "zerolinecolor": "white",
           "zerolinewidth": 2
          }
         }
        },
        "title": {
         "text": "High ACT Average Score States (2018)"
        }
       }
      },
      "text/html": [
       "<div>\n",
       "        \n",
       "        \n",
       "            <div id=\"d67ccab0-08be-4b9c-836c-ff397ddbe70a\" class=\"plotly-graph-div\" style=\"height:525px; width:100%;\"></div>\n",
       "            <script type=\"text/javascript\">\n",
       "                require([\"plotly\"], function(Plotly) {\n",
       "                    window.PLOTLYENV=window.PLOTLYENV || {};\n",
       "                    \n",
       "                if (document.getElementById(\"d67ccab0-08be-4b9c-836c-ff397ddbe70a\")) {\n",
       "                    Plotly.newPlot(\n",
       "                        'd67ccab0-08be-4b9c-836c-ff397ddbe70a',\n",
       "                        [{\"colorbar\": {\"title\": {\"text\": \"Average ACT Score\"}}, \"colorscale\": [[0.0, \"rgb(247,251,255)\"], [0.125, \"rgb(222,235,247)\"], [0.25, \"rgb(198,219,239)\"], [0.375, \"rgb(158,202,225)\"], [0.5, \"rgb(107,174,214)\"], [0.625, \"rgb(66,146,198)\"], [0.75, \"rgb(33,113,181)\"], [0.875, \"rgb(8,81,156)\"], [1.0, \"rgb(8,48,107)\"]], \"locationmode\": \"USA-states\", \"locations\": [\"AL\", \"AK\", \"AZ\", \"AR\", \"CA\", \"CO\", \"CT\", \"DE\", \"DC\", \"FL\", \"GA\", \"HI\", \"ID\", \"IL\", \"IN\", \"IA\", \"KS\", \"KY\", \"LA\", \"ME\", \"MD\", \"MA\", \"MI\", \"MN\", \"MS\", \"MO\", \"MT\", \"NE\", \"NV\", \"NH\", \"NJ\", \"NM\", \"NY\", \"NC\", \"ND\", \"OH\", \"OK\", \"OR\", \"PA\", \"RI\", \"SC\", \"SD\", \"TN\", \"TX\", \"UT\", \"VT\", \"VA\", \"WA\", \"WV\", \"WI\", \"WY\"], \"text\": [\"ACT Average: 19<br>ACT English Avg: 18<br>ACT Reading Avg: 19<br>ACT Math Avg: 18<br>ACT Science Avg: 19<br>ACT Participation: 100%\", \"ACT Average: 20<br>ACT English Avg: 19<br>ACT Reading Avg: 21<br>ACT Math Avg: 20<br>ACT Science Avg: 20<br>ACT Participation: 33%\", \"ACT Average: 19<br>ACT English Avg: 18<br>ACT Reading Avg: 19<br>ACT Math Avg: 19<br>ACT Science Avg: 19<br>ACT Participation: 66%\", \"ACT Average: 19<br>ACT English Avg: 19<br>ACT Reading Avg: 19<br>ACT Math Avg: 18<br>ACT Science Avg: 19<br>ACT Participation: 100%\", \"ACT Average: 22<br>ACT English Avg: 22<br>ACT Reading Avg: 23<br>ACT Math Avg: 22<br>ACT Science Avg: 22<br>ACT Participation: 27%\", \"ACT Average: 23<br>ACT English Avg: 23<br>ACT Reading Avg: 24<br>ACT Math Avg: 23<br>ACT Science Avg: 23<br>ACT Participation: 30%\", \"ACT Average: 25<br>ACT English Avg: 26<br>ACT Reading Avg: 26<br>ACT Math Avg: 24<br>ACT Science Avg: 24<br>ACT Participation: 26%\", \"ACT Average: 23<br>ACT English Avg: 23<br>ACT Reading Avg: 24<br>ACT Math Avg: 23<br>ACT Science Avg: 23<br>ACT Participation: 17%\", \"ACT Average: 23<br>ACT English Avg: 23<br>ACT Reading Avg: 24<br>ACT Math Avg: 22<br>ACT Science Avg: 23<br>ACT Participation: 32%\", \"ACT Average: 19<br>ACT English Avg: 19<br>ACT Reading Avg: 21<br>ACT Math Avg: 19<br>ACT Science Avg: 19<br>ACT Participation: 66%\", \"ACT Average: 21<br>ACT English Avg: 20<br>ACT Reading Avg: 22<br>ACT Math Avg: 20<br>ACT Science Avg: 21<br>ACT Participation: 53%\", \"ACT Average: 18<br>ACT English Avg: 18<br>ACT Reading Avg: 19<br>ACT Math Avg: 19<br>ACT Science Avg: 19<br>ACT Participation: 89%\", \"ACT Average: 22<br>ACT English Avg: 21<br>ACT Reading Avg: 23<br>ACT Math Avg: 21<br>ACT Science Avg: 22<br>ACT Participation: 36%\", \"ACT Average: 23<br>ACT English Avg: 24<br>ACT Reading Avg: 24<br>ACT Math Avg: 23<br>ACT Science Avg: 23<br>ACT Participation: 43%\", \"ACT Average: 22<br>ACT English Avg: 21<br>ACT Reading Avg: 23<br>ACT Math Avg: 22<br>ACT Science Avg: 22<br>ACT Participation: 32%\", \"ACT Average: 21<br>ACT English Avg: 21<br>ACT Reading Avg: 22<br>ACT Math Avg: 21<br>ACT Science Avg: 22<br>ACT Participation: 68%\", \"ACT Average: 21<br>ACT English Avg: 21<br>ACT Reading Avg: 22<br>ACT Math Avg: 21<br>ACT Science Avg: 21<br>ACT Participation: 71%\", \"ACT Average: 20<br>ACT English Avg: 19<br>ACT Reading Avg: 20<br>ACT Math Avg: 19<br>ACT Science Avg: 20<br>ACT Participation: 100%\", \"ACT Average: 19<br>ACT English Avg: 19<br>ACT Reading Avg: 19<br>ACT Math Avg: 18<br>ACT Science Avg: 19<br>ACT Participation: 100%\", \"ACT Average: 24<br>ACT English Avg: 23<br>ACT Reading Avg: 24<br>ACT Math Avg: 23<br>ACT Science Avg: 23<br>ACT Participation: 7%\", \"ACT Average: 22<br>ACT English Avg: 22<br>ACT Reading Avg: 23<br>ACT Math Avg: 22<br>ACT Science Avg: 22<br>ACT Participation: 31%\", \"ACT Average: 25<br>ACT English Avg: 25<br>ACT Reading Avg: 25<br>ACT Math Avg: 25<br>ACT Science Avg: 24<br>ACT Participation: 25%\", \"ACT Average: 24<br>ACT English Avg: 24<br>ACT Reading Avg: 24<br>ACT Math Avg: 23<br>ACT Science Avg: 23<br>ACT Participation: 22%\", \"ACT Average: 21<br>ACT English Avg: 20<br>ACT Reading Avg: 21<br>ACT Math Avg: 21<br>ACT Science Avg: 21<br>ACT Participation: 99%\", \"ACT Average: 18<br>ACT English Avg: 18<br>ACT Reading Avg: 18<br>ACT Math Avg: 18<br>ACT Science Avg: 18<br>ACT Participation: 100%\", \"ACT Average: 20<br>ACT English Avg: 19<br>ACT Reading Avg: 20<br>ACT Math Avg: 19<br>ACT Science Avg: 20<br>ACT Participation: 100%\", \"ACT Average: 20<br>ACT English Avg: 18<br>ACT Reading Avg: 20<br>ACT Math Avg: 19<br>ACT Science Avg: 20<br>ACT Participation: 100%\", \"ACT Average: 20<br>ACT English Avg: 19<br>ACT Reading Avg: 20<br>ACT Math Avg: 19<br>ACT Science Avg: 20<br>ACT Participation: 100%\", \"ACT Average: 17<br>ACT English Avg: 16<br>ACT Reading Avg: 18<br>ACT Math Avg: 17<br>ACT Science Avg: 17<br>ACT Participation: 100%\", \"ACT Average: 25<br>ACT English Avg: 25<br>ACT Reading Avg: 25<br>ACT Math Avg: 24<br>ACT Science Avg: 24<br>ACT Participation: 16%\", \"ACT Average: 23<br>ACT English Avg: 23<br>ACT Reading Avg: 24<br>ACT Math Avg: 23<br>ACT Science Avg: 23<br>ACT Participation: 31%\", \"ACT Average: 19<br>ACT English Avg: 18<br>ACT Reading Avg: 20<br>ACT Math Avg: 19<br>ACT Science Avg: 19<br>ACT Participation: 67%\", \"ACT Average: 24<br>ACT English Avg: 24<br>ACT Reading Avg: 24<br>ACT Math Avg: 24<br>ACT Science Avg: 24<br>ACT Participation: 27%\", \"ACT Average: 19<br>ACT English Avg: 18<br>ACT Reading Avg: 19<br>ACT Math Avg: 19<br>ACT Science Avg: 19<br>ACT Participation: 100%\", \"ACT Average: 20<br>ACT English Avg: 19<br>ACT Reading Avg: 20<br>ACT Math Avg: 20<br>ACT Science Avg: 20<br>ACT Participation: 98%\", \"ACT Average: 20<br>ACT English Avg: 19<br>ACT Reading Avg: 20<br>ACT Math Avg: 20<br>ACT Science Avg: 20<br>ACT Participation: 100%\", \"ACT Average: 19<br>ACT English Avg: 18<br>ACT Reading Avg: 20<br>ACT Math Avg: 18<br>ACT Science Avg: 19<br>ACT Participation: 100%\", \"ACT Average: 21<br>ACT English Avg: 20<br>ACT Reading Avg: 21<br>ACT Math Avg: 20<br>ACT Science Avg: 21<br>ACT Participation: 42%\", \"ACT Average: 23<br>ACT English Avg: 23<br>ACT Reading Avg: 24<br>ACT Math Avg: 23<br>ACT Science Avg: 23<br>ACT Participation: 20%\", \"ACT Average: 24<br>ACT English Avg: 24<br>ACT Reading Avg: 25<br>ACT Math Avg: 23<br>ACT Science Avg: 23<br>ACT Participation: 15%\", \"ACT Average: 18<br>ACT English Avg: 17<br>ACT Reading Avg: 18<br>ACT Math Avg: 18<br>ACT Science Avg: 18<br>ACT Participation: 100%\", \"ACT Average: 21<br>ACT English Avg: 20<br>ACT Reading Avg: 22<br>ACT Math Avg: 21<br>ACT Science Avg: 22<br>ACT Participation: 77%\", \"ACT Average: 19<br>ACT English Avg: 19<br>ACT Reading Avg: 19<br>ACT Math Avg: 19<br>ACT Science Avg: 19<br>ACT Participation: 100%\", \"ACT Average: 20<br>ACT English Avg: 19<br>ACT Reading Avg: 21<br>ACT Math Avg: 20<br>ACT Science Avg: 20<br>ACT Participation: 41%\", \"ACT Average: 20<br>ACT English Avg: 19<br>ACT Reading Avg: 20<br>ACT Math Avg: 19<br>ACT Science Avg: 20<br>ACT Participation: 100%\", \"ACT Average: 24<br>ACT English Avg: 23<br>ACT Reading Avg: 24<br>ACT Math Avg: 23<br>ACT Science Avg: 23<br>ACT Participation: 24%\", \"ACT Average: 23<br>ACT English Avg: 23<br>ACT Reading Avg: 24<br>ACT Math Avg: 23<br>ACT Science Avg: 23<br>ACT Participation: 24%\", \"ACT Average: 22<br>ACT English Avg: 21<br>ACT Reading Avg: 22<br>ACT Math Avg: 22<br>ACT Science Avg: 22<br>ACT Participation: 24%\", \"ACT Average: 20<br>ACT English Avg: 19<br>ACT Reading Avg: 21<br>ACT Math Avg: 19<br>ACT Science Avg: 20<br>ACT Participation: 65%\", \"ACT Average: 20<br>ACT English Avg: 19<br>ACT Reading Avg: 20<br>ACT Math Avg: 20<br>ACT Science Avg: 20<br>ACT Participation: 100%\", \"ACT Average: 20<br>ACT English Avg: 19<br>ACT Reading Avg: 20<br>ACT Math Avg: 19<br>ACT Science Avg: 20<br>ACT Participation: 100%\"], \"type\": \"choropleth\", \"z\": [19, 20, 19, 19, 22, 23, 25, 23, 23, 19, 21, 18, 22, 23, 22, 21, 21, 20, 19, 24, 22, 25, 24, 21, 18, 20, 20, 20, 17, 25, 23, 19, 24, 19, 20, 20, 19, 21, 23, 24, 18, 21, 19, 20, 20, 24, 23, 22, 20, 20, 20]}],\n",
       "                        {\"geo\": {\"projection\": {\"type\": \"albers usa\"}, \"scope\": \"usa\"}, \"template\": {\"data\": {\"bar\": [{\"error_x\": {\"color\": \"#2a3f5f\"}, \"error_y\": {\"color\": \"#2a3f5f\"}, \"marker\": {\"line\": {\"color\": \"#E5ECF6\", \"width\": 0.5}}, \"type\": \"bar\"}], \"barpolar\": [{\"marker\": {\"line\": {\"color\": \"#E5ECF6\", \"width\": 0.5}}, \"type\": \"barpolar\"}], \"carpet\": [{\"aaxis\": {\"endlinecolor\": \"#2a3f5f\", \"gridcolor\": \"white\", \"linecolor\": \"white\", \"minorgridcolor\": \"white\", \"startlinecolor\": \"#2a3f5f\"}, \"baxis\": {\"endlinecolor\": \"#2a3f5f\", \"gridcolor\": \"white\", \"linecolor\": \"white\", \"minorgridcolor\": \"white\", \"startlinecolor\": \"#2a3f5f\"}, \"type\": \"carpet\"}], \"choropleth\": [{\"colorbar\": {\"outlinewidth\": 0, \"ticks\": \"\"}, \"type\": \"choropleth\"}], \"contour\": [{\"colorbar\": {\"outlinewidth\": 0, \"ticks\": \"\"}, \"colorscale\": [[0.0, \"#0d0887\"], [0.1111111111111111, \"#46039f\"], [0.2222222222222222, \"#7201a8\"], [0.3333333333333333, \"#9c179e\"], [0.4444444444444444, \"#bd3786\"], [0.5555555555555556, \"#d8576b\"], [0.6666666666666666, \"#ed7953\"], [0.7777777777777778, \"#fb9f3a\"], [0.8888888888888888, \"#fdca26\"], [1.0, \"#f0f921\"]], \"type\": \"contour\"}], \"contourcarpet\": [{\"colorbar\": {\"outlinewidth\": 0, \"ticks\": \"\"}, \"type\": \"contourcarpet\"}], \"heatmap\": [{\"colorbar\": {\"outlinewidth\": 0, \"ticks\": \"\"}, \"colorscale\": [[0.0, \"#0d0887\"], [0.1111111111111111, \"#46039f\"], [0.2222222222222222, \"#7201a8\"], [0.3333333333333333, \"#9c179e\"], [0.4444444444444444, \"#bd3786\"], [0.5555555555555556, \"#d8576b\"], [0.6666666666666666, \"#ed7953\"], [0.7777777777777778, \"#fb9f3a\"], [0.8888888888888888, \"#fdca26\"], [1.0, \"#f0f921\"]], \"type\": \"heatmap\"}], \"heatmapgl\": [{\"colorbar\": {\"outlinewidth\": 0, \"ticks\": \"\"}, \"colorscale\": [[0.0, \"#0d0887\"], [0.1111111111111111, \"#46039f\"], [0.2222222222222222, \"#7201a8\"], [0.3333333333333333, \"#9c179e\"], [0.4444444444444444, \"#bd3786\"], [0.5555555555555556, \"#d8576b\"], [0.6666666666666666, \"#ed7953\"], [0.7777777777777778, \"#fb9f3a\"], [0.8888888888888888, \"#fdca26\"], [1.0, \"#f0f921\"]], \"type\": \"heatmapgl\"}], \"histogram\": [{\"marker\": {\"colorbar\": {\"outlinewidth\": 0, \"ticks\": \"\"}}, \"type\": \"histogram\"}], \"histogram2d\": [{\"colorbar\": {\"outlinewidth\": 0, \"ticks\": \"\"}, \"colorscale\": [[0.0, \"#0d0887\"], [0.1111111111111111, \"#46039f\"], [0.2222222222222222, \"#7201a8\"], [0.3333333333333333, \"#9c179e\"], [0.4444444444444444, \"#bd3786\"], [0.5555555555555556, \"#d8576b\"], [0.6666666666666666, \"#ed7953\"], [0.7777777777777778, \"#fb9f3a\"], [0.8888888888888888, \"#fdca26\"], [1.0, \"#f0f921\"]], \"type\": \"histogram2d\"}], \"histogram2dcontour\": [{\"colorbar\": {\"outlinewidth\": 0, \"ticks\": \"\"}, \"colorscale\": [[0.0, \"#0d0887\"], [0.1111111111111111, \"#46039f\"], [0.2222222222222222, \"#7201a8\"], [0.3333333333333333, \"#9c179e\"], [0.4444444444444444, \"#bd3786\"], [0.5555555555555556, \"#d8576b\"], [0.6666666666666666, \"#ed7953\"], [0.7777777777777778, \"#fb9f3a\"], [0.8888888888888888, \"#fdca26\"], [1.0, \"#f0f921\"]], \"type\": \"histogram2dcontour\"}], \"mesh3d\": [{\"colorbar\": {\"outlinewidth\": 0, \"ticks\": \"\"}, \"type\": \"mesh3d\"}], \"parcoords\": [{\"line\": {\"colorbar\": {\"outlinewidth\": 0, \"ticks\": \"\"}}, \"type\": \"parcoords\"}], \"pie\": [{\"automargin\": true, \"type\": \"pie\"}], \"scatter\": [{\"marker\": {\"colorbar\": {\"outlinewidth\": 0, \"ticks\": \"\"}}, \"type\": \"scatter\"}], \"scatter3d\": [{\"line\": {\"colorbar\": {\"outlinewidth\": 0, \"ticks\": \"\"}}, \"marker\": {\"colorbar\": {\"outlinewidth\": 0, \"ticks\": \"\"}}, \"type\": \"scatter3d\"}], \"scattercarpet\": [{\"marker\": {\"colorbar\": {\"outlinewidth\": 0, \"ticks\": \"\"}}, \"type\": \"scattercarpet\"}], \"scattergeo\": [{\"marker\": {\"colorbar\": {\"outlinewidth\": 0, \"ticks\": \"\"}}, \"type\": \"scattergeo\"}], \"scattergl\": [{\"marker\": {\"colorbar\": {\"outlinewidth\": 0, \"ticks\": \"\"}}, \"type\": \"scattergl\"}], \"scattermapbox\": [{\"marker\": {\"colorbar\": {\"outlinewidth\": 0, \"ticks\": \"\"}}, \"type\": \"scattermapbox\"}], \"scatterpolar\": [{\"marker\": {\"colorbar\": {\"outlinewidth\": 0, \"ticks\": \"\"}}, \"type\": \"scatterpolar\"}], \"scatterpolargl\": [{\"marker\": {\"colorbar\": {\"outlinewidth\": 0, \"ticks\": \"\"}}, \"type\": \"scatterpolargl\"}], \"scatterternary\": [{\"marker\": {\"colorbar\": {\"outlinewidth\": 0, \"ticks\": \"\"}}, \"type\": \"scatterternary\"}], \"surface\": [{\"colorbar\": {\"outlinewidth\": 0, \"ticks\": \"\"}, \"colorscale\": [[0.0, \"#0d0887\"], [0.1111111111111111, \"#46039f\"], [0.2222222222222222, \"#7201a8\"], [0.3333333333333333, \"#9c179e\"], [0.4444444444444444, \"#bd3786\"], [0.5555555555555556, \"#d8576b\"], [0.6666666666666666, \"#ed7953\"], [0.7777777777777778, \"#fb9f3a\"], [0.8888888888888888, \"#fdca26\"], [1.0, \"#f0f921\"]], \"type\": \"surface\"}], \"table\": [{\"cells\": {\"fill\": {\"color\": \"#EBF0F8\"}, \"line\": {\"color\": \"white\"}}, \"header\": {\"fill\": {\"color\": \"#C8D4E3\"}, \"line\": {\"color\": \"white\"}}, \"type\": \"table\"}]}, \"layout\": {\"annotationdefaults\": {\"arrowcolor\": \"#2a3f5f\", \"arrowhead\": 0, \"arrowwidth\": 1}, \"coloraxis\": {\"colorbar\": {\"outlinewidth\": 0, \"ticks\": \"\"}}, \"colorscale\": {\"diverging\": [[0, \"#8e0152\"], [0.1, \"#c51b7d\"], [0.2, \"#de77ae\"], [0.3, \"#f1b6da\"], [0.4, \"#fde0ef\"], [0.5, \"#f7f7f7\"], [0.6, \"#e6f5d0\"], [0.7, \"#b8e186\"], [0.8, \"#7fbc41\"], [0.9, \"#4d9221\"], [1, \"#276419\"]], \"sequential\": [[0.0, \"#0d0887\"], [0.1111111111111111, \"#46039f\"], [0.2222222222222222, \"#7201a8\"], [0.3333333333333333, \"#9c179e\"], [0.4444444444444444, \"#bd3786\"], [0.5555555555555556, \"#d8576b\"], [0.6666666666666666, \"#ed7953\"], [0.7777777777777778, \"#fb9f3a\"], [0.8888888888888888, \"#fdca26\"], [1.0, \"#f0f921\"]], \"sequentialminus\": [[0.0, \"#0d0887\"], [0.1111111111111111, \"#46039f\"], [0.2222222222222222, \"#7201a8\"], [0.3333333333333333, \"#9c179e\"], [0.4444444444444444, \"#bd3786\"], [0.5555555555555556, \"#d8576b\"], [0.6666666666666666, \"#ed7953\"], [0.7777777777777778, \"#fb9f3a\"], [0.8888888888888888, \"#fdca26\"], [1.0, \"#f0f921\"]]}, \"colorway\": [\"#636efa\", \"#EF553B\", \"#00cc96\", \"#ab63fa\", \"#FFA15A\", \"#19d3f3\", \"#FF6692\", \"#B6E880\", \"#FF97FF\", \"#FECB52\"], \"font\": {\"color\": \"#2a3f5f\"}, \"geo\": {\"bgcolor\": \"white\", \"lakecolor\": \"white\", \"landcolor\": \"#E5ECF6\", \"showlakes\": true, \"showland\": true, \"subunitcolor\": \"white\"}, \"hoverlabel\": {\"align\": \"left\"}, \"hovermode\": \"closest\", \"mapbox\": {\"style\": \"light\"}, \"paper_bgcolor\": \"white\", \"plot_bgcolor\": \"#E5ECF6\", \"polar\": {\"angularaxis\": {\"gridcolor\": \"white\", \"linecolor\": \"white\", \"ticks\": \"\"}, \"bgcolor\": \"#E5ECF6\", \"radialaxis\": {\"gridcolor\": \"white\", \"linecolor\": \"white\", \"ticks\": \"\"}}, \"scene\": {\"xaxis\": {\"backgroundcolor\": \"#E5ECF6\", \"gridcolor\": \"white\", \"gridwidth\": 2, \"linecolor\": \"white\", \"showbackground\": true, \"ticks\": \"\", \"zerolinecolor\": \"white\"}, \"yaxis\": {\"backgroundcolor\": \"#E5ECF6\", \"gridcolor\": \"white\", \"gridwidth\": 2, \"linecolor\": \"white\", \"showbackground\": true, \"ticks\": \"\", \"zerolinecolor\": \"white\"}, \"zaxis\": {\"backgroundcolor\": \"#E5ECF6\", \"gridcolor\": \"white\", \"gridwidth\": 2, \"linecolor\": \"white\", \"showbackground\": true, \"ticks\": \"\", \"zerolinecolor\": \"white\"}}, \"shapedefaults\": {\"line\": {\"color\": \"#2a3f5f\"}}, \"ternary\": {\"aaxis\": {\"gridcolor\": \"white\", \"linecolor\": \"white\", \"ticks\": \"\"}, \"baxis\": {\"gridcolor\": \"white\", \"linecolor\": \"white\", \"ticks\": \"\"}, \"bgcolor\": \"#E5ECF6\", \"caxis\": {\"gridcolor\": \"white\", \"linecolor\": \"white\", \"ticks\": \"\"}}, \"title\": {\"x\": 0.05}, \"xaxis\": {\"automargin\": true, \"gridcolor\": \"white\", \"linecolor\": \"white\", \"ticks\": \"\", \"title\": {\"standoff\": 15}, \"zerolinecolor\": \"white\", \"zerolinewidth\": 2}, \"yaxis\": {\"automargin\": true, \"gridcolor\": \"white\", \"linecolor\": \"white\", \"ticks\": \"\", \"title\": {\"standoff\": 15}, \"zerolinecolor\": \"white\", \"zerolinewidth\": 2}}}, \"title\": {\"text\": \"High ACT Average Score States (2018)\"}},\n",
       "                        {\"responsive\": true}\n",
       "                    ).then(function(){\n",
       "                            \n",
       "var gd = document.getElementById('d67ccab0-08be-4b9c-836c-ff397ddbe70a');\n",
       "var x = new MutationObserver(function (mutations, observer) {{\n",
       "        var display = window.getComputedStyle(gd).display;\n",
       "        if (!display || display === 'none') {{\n",
       "            console.log([gd, 'removed!']);\n",
       "            Plotly.purge(gd);\n",
       "            observer.disconnect();\n",
       "        }}\n",
       "}});\n",
       "\n",
       "// Listen for the removal of the full notebook cells\n",
       "var notebookContainer = gd.closest('#notebook-container');\n",
       "if (notebookContainer) {{\n",
       "    x.observe(notebookContainer, {childList: true});\n",
       "}}\n",
       "\n",
       "// Listen for the clearing of the current output cell\n",
       "var outputEl = gd.closest('.output');\n",
       "if (outputEl) {{\n",
       "    x.observe(outputEl, {childList: true});\n",
       "}}\n",
       "\n",
       "                        })\n",
       "                };\n",
       "                });\n",
       "            </script>\n",
       "        </div>"
      ]
     },
     "metadata": {},
     "output_type": "display_data"
    }
   ],
   "source": [
    "test_scores['text'] = 'ACT Average: ' + test_scores['act_2018'].astype(str) + '<br>' + \\\n",
    "    'ACT English Avg: ' + test_scores['act_2018_english'].astype(str) + '<br>' + \\\n",
    "    'ACT Reading Avg: ' + test_scores['act_2018_reading'].astype(str) + '<br>' + \\\n",
    "    'ACT Math Avg: ' + test_scores['act_2018_math'].astype(str) + '<br>' + \\\n",
    "    'ACT Science Avg: ' + test_scores['act_2018_science'].astype(str) + '<br>' + \\\n",
    "    'ACT Participation: ' + test_scores['act_2018_part'].astype(str) +'%'\n",
    "\n",
    "sat_map = go.Figure(data=go.Choropleth(\n",
    "    locations=test_scores['state_code'], \n",
    "    locationmode=\"USA-states\", \n",
    "    text=test_scores['text'],\n",
    "    z=test_scores['act_2018'],\n",
    "    colorscale='Blues',\n",
    "    colorbar_title=\"Average ACT Score\"\n",
    "))\n",
    "\n",
    "sat_map.update_layout(\n",
    "    title_text = 'High ACT Average Score States (2018)',\n",
    "    geo = dict(\n",
    "        scope='usa',\n",
    "        projection=go.layout.geo.Projection(type = 'albers usa'))\n",
    ")\n",
    "sat_map.show()"
   ]
  },
  {
   "cell_type": "markdown",
   "metadata": {},
   "source": [
    "## Participation Rates\n",
    "\n",
    "A quick survey confirms students within a state tend to prioritize taking only one of the two assessments. No state boasts participation rates for both the ACT and SAT over 80% in either 2017 or 2018. Florida lead the nation in 2017 cross-participation with 73% taking the ACT and 83% taking the SAT, as well as 2018 with 66% taking the ACT and 97% taking the SAT. Only six states had participation rates over 40% for both assessments in 2017, while eight did in 2018.\n",
    "\n",
    "Examining those states with near universal test participation for one assessment reveals a clear of pattern of prioritizing a single assessment and to ignore the other. Of the nineteen states with over 95% participation in the ACT assessment, only two experienced over 50% participation taking the SAT, with a median of 4%. Of the nine states with over 95% participation in the SAT assessment, none had an ACT participation rate over 50%, but they have a much higher median ACT participation rate of 22%."
   ]
  },
  {
   "cell_type": "code",
   "execution_count": 87,
   "metadata": {},
   "outputs": [
    {
     "data": {
      "text/html": [
       "<div>\n",
       "<style scoped>\n",
       "    .dataframe tbody tr th:only-of-type {\n",
       "        vertical-align: middle;\n",
       "    }\n",
       "\n",
       "    .dataframe tbody tr th {\n",
       "        vertical-align: top;\n",
       "    }\n",
       "\n",
       "    .dataframe thead th {\n",
       "        text-align: right;\n",
       "    }\n",
       "</style>\n",
       "<table border=\"1\" class=\"dataframe\">\n",
       "  <thead>\n",
       "    <tr style=\"text-align: right;\">\n",
       "      <th></th>\n",
       "      <th>sat_2017_part</th>\n",
       "      <th>act_2017_part</th>\n",
       "      <th>sat_2018_part</th>\n",
       "      <th>act_2018_part</th>\n",
       "    </tr>\n",
       "    <tr>\n",
       "      <th>State</th>\n",
       "      <th></th>\n",
       "      <th></th>\n",
       "      <th></th>\n",
       "      <th></th>\n",
       "    </tr>\n",
       "  </thead>\n",
       "  <tbody>\n",
       "    <tr>\n",
       "      <th>Florida</th>\n",
       "      <td>83</td>\n",
       "      <td>73</td>\n",
       "      <td>97</td>\n",
       "      <td>66</td>\n",
       "    </tr>\n",
       "  </tbody>\n",
       "</table>\n",
       "</div>"
      ],
      "text/plain": [
       "         sat_2017_part  act_2017_part  sat_2018_part  act_2018_part\n",
       "State                                                              \n",
       "Florida             83             73             97             66"
      ]
     },
     "execution_count": 87,
     "metadata": {},
     "output_type": "execute_result"
    }
   ],
   "source": [
    "test_scores.loc[(test_scores['act_2017_part'] > 60) \n",
    "                & (test_scores['sat_2017_part'] > 60), \n",
    "                ['sat_2017_part', 'act_2017_part','sat_2018_part', 'act_2018_part']]"
   ]
  },
  {
   "cell_type": "code",
   "execution_count": 86,
   "metadata": {},
   "outputs": [
    {
     "data": {
      "text/html": [
       "<div>\n",
       "<style scoped>\n",
       "    .dataframe tbody tr th:only-of-type {\n",
       "        vertical-align: middle;\n",
       "    }\n",
       "\n",
       "    .dataframe tbody tr th {\n",
       "        vertical-align: top;\n",
       "    }\n",
       "\n",
       "    .dataframe thead th {\n",
       "        text-align: right;\n",
       "    }\n",
       "</style>\n",
       "<table border=\"1\" class=\"dataframe\">\n",
       "  <thead>\n",
       "    <tr style=\"text-align: right;\">\n",
       "      <th></th>\n",
       "      <th>sat_2017_part</th>\n",
       "      <th>act_2017_part</th>\n",
       "      <th>sat_2018_part</th>\n",
       "      <th>act_2018_part</th>\n",
       "    </tr>\n",
       "    <tr>\n",
       "      <th>State</th>\n",
       "      <th></th>\n",
       "      <th></th>\n",
       "      <th></th>\n",
       "      <th></th>\n",
       "    </tr>\n",
       "  </thead>\n",
       "  <tbody>\n",
       "    <tr>\n",
       "      <th>Florida</th>\n",
       "      <td>83</td>\n",
       "      <td>73</td>\n",
       "      <td>97</td>\n",
       "      <td>66</td>\n",
       "    </tr>\n",
       "    <tr>\n",
       "      <th>Georgia</th>\n",
       "      <td>61</td>\n",
       "      <td>55</td>\n",
       "      <td>70</td>\n",
       "      <td>53</td>\n",
       "    </tr>\n",
       "    <tr>\n",
       "      <th>Hawaii</th>\n",
       "      <td>55</td>\n",
       "      <td>90</td>\n",
       "      <td>56</td>\n",
       "      <td>89</td>\n",
       "    </tr>\n",
       "    <tr>\n",
       "      <th>Illinois</th>\n",
       "      <td>9</td>\n",
       "      <td>93</td>\n",
       "      <td>99</td>\n",
       "      <td>43</td>\n",
       "    </tr>\n",
       "    <tr>\n",
       "      <th>North Carolina</th>\n",
       "      <td>49</td>\n",
       "      <td>100</td>\n",
       "      <td>52</td>\n",
       "      <td>100</td>\n",
       "    </tr>\n",
       "    <tr>\n",
       "      <th>Oregon</th>\n",
       "      <td>43</td>\n",
       "      <td>40</td>\n",
       "      <td>48</td>\n",
       "      <td>42</td>\n",
       "    </tr>\n",
       "    <tr>\n",
       "      <th>South Carolina</th>\n",
       "      <td>50</td>\n",
       "      <td>100</td>\n",
       "      <td>55</td>\n",
       "      <td>100</td>\n",
       "    </tr>\n",
       "    <tr>\n",
       "      <th>Texas</th>\n",
       "      <td>62</td>\n",
       "      <td>45</td>\n",
       "      <td>66</td>\n",
       "      <td>41</td>\n",
       "    </tr>\n",
       "  </tbody>\n",
       "</table>\n",
       "</div>"
      ],
      "text/plain": [
       "                sat_2017_part  act_2017_part  sat_2018_part  act_2018_part\n",
       "State                                                                     \n",
       "Florida                    83             73             97             66\n",
       "Georgia                    61             55             70             53\n",
       "Hawaii                     55             90             56             89\n",
       "Illinois                    9             93             99             43\n",
       "North Carolina             49            100             52            100\n",
       "Oregon                     43             40             48             42\n",
       "South Carolina             50            100             55            100\n",
       "Texas                      62             45             66             41"
      ]
     },
     "execution_count": 86,
     "metadata": {},
     "output_type": "execute_result"
    }
   ],
   "source": [
    "test_scores.loc[(test_scores['act_2018_part'] > 40) \n",
    "                & (test_scores['sat_2018_part'] > 40), \n",
    "                ['sat_2017_part', 'act_2017_part','sat_2018_part', 'act_2018_part']]"
   ]
  },
  {
   "cell_type": "code",
   "execution_count": 88,
   "metadata": {},
   "outputs": [
    {
     "data": {
      "text/html": [
       "<div>\n",
       "<style scoped>\n",
       "    .dataframe tbody tr th:only-of-type {\n",
       "        vertical-align: middle;\n",
       "    }\n",
       "\n",
       "    .dataframe tbody tr th {\n",
       "        vertical-align: top;\n",
       "    }\n",
       "\n",
       "    .dataframe thead th {\n",
       "        text-align: right;\n",
       "    }\n",
       "</style>\n",
       "<table border=\"1\" class=\"dataframe\">\n",
       "  <thead>\n",
       "    <tr style=\"text-align: right;\">\n",
       "      <th>State</th>\n",
       "      <th>South Carolina</th>\n",
       "      <th>North Carolina</th>\n",
       "      <th>Nevada</th>\n",
       "      <th>Ohio</th>\n",
       "      <th>Montana</th>\n",
       "      <th>Oklahoma</th>\n",
       "      <th>Tennessee</th>\n",
       "      <th>Alabama</th>\n",
       "      <th>Arkansas</th>\n",
       "      <th>Missouri</th>\n",
       "      <th>Minnesota</th>\n",
       "      <th>Louisiana</th>\n",
       "      <th>Kentucky</th>\n",
       "      <th>Utah</th>\n",
       "      <th>Nebraska</th>\n",
       "      <th>Mississippi</th>\n",
       "      <th>Wisconsin</th>\n",
       "      <th>Wyoming</th>\n",
       "      <th>North Dakota</th>\n",
       "    </tr>\n",
       "  </thead>\n",
       "  <tbody>\n",
       "    <tr>\n",
       "      <th>act_2018_part</th>\n",
       "      <td>100</td>\n",
       "      <td>100</td>\n",
       "      <td>100</td>\n",
       "      <td>100</td>\n",
       "      <td>100</td>\n",
       "      <td>100</td>\n",
       "      <td>100</td>\n",
       "      <td>100</td>\n",
       "      <td>100</td>\n",
       "      <td>100</td>\n",
       "      <td>99</td>\n",
       "      <td>100</td>\n",
       "      <td>100</td>\n",
       "      <td>100</td>\n",
       "      <td>100</td>\n",
       "      <td>100</td>\n",
       "      <td>100</td>\n",
       "      <td>100</td>\n",
       "      <td>98</td>\n",
       "    </tr>\n",
       "    <tr>\n",
       "      <th>sat_2018_part</th>\n",
       "      <td>55</td>\n",
       "      <td>52</td>\n",
       "      <td>23</td>\n",
       "      <td>18</td>\n",
       "      <td>10</td>\n",
       "      <td>8</td>\n",
       "      <td>6</td>\n",
       "      <td>6</td>\n",
       "      <td>5</td>\n",
       "      <td>4</td>\n",
       "      <td>4</td>\n",
       "      <td>4</td>\n",
       "      <td>4</td>\n",
       "      <td>4</td>\n",
       "      <td>3</td>\n",
       "      <td>3</td>\n",
       "      <td>3</td>\n",
       "      <td>3</td>\n",
       "      <td>2</td>\n",
       "    </tr>\n",
       "  </tbody>\n",
       "</table>\n",
       "</div>"
      ],
      "text/plain": [
       "State          South Carolina  North Carolina  Nevada  Ohio  Montana  \\\n",
       "act_2018_part             100             100     100   100      100   \n",
       "sat_2018_part              55              52      23    18       10   \n",
       "\n",
       "State          Oklahoma  Tennessee  Alabama  Arkansas  Missouri  Minnesota  \\\n",
       "act_2018_part       100        100      100       100       100         99   \n",
       "sat_2018_part         8          6        6         5         4          4   \n",
       "\n",
       "State          Louisiana  Kentucky  Utah  Nebraska  Mississippi  Wisconsin  \\\n",
       "act_2018_part        100       100   100       100          100        100   \n",
       "sat_2018_part          4         4     4         3            3          3   \n",
       "\n",
       "State          Wyoming  North Dakota  \n",
       "act_2018_part      100            98  \n",
       "sat_2018_part        3             2  "
      ]
     },
     "execution_count": 88,
     "metadata": {},
     "output_type": "execute_result"
    }
   ],
   "source": [
    "test_scores.loc[(test_scores['act_2018_part'] > 95) , \n",
    "                ['act_2018_part','sat_2018_part']].sort_values('sat_2018_part', ascending=False).T"
   ]
  },
  {
   "cell_type": "code",
   "execution_count": 89,
   "metadata": {},
   "outputs": [
    {
     "data": {
      "text/html": [
       "<div>\n",
       "<style scoped>\n",
       "    .dataframe tbody tr th:only-of-type {\n",
       "        vertical-align: middle;\n",
       "    }\n",
       "\n",
       "    .dataframe tbody tr th {\n",
       "        vertical-align: top;\n",
       "    }\n",
       "\n",
       "    .dataframe thead th {\n",
       "        text-align: right;\n",
       "    }\n",
       "</style>\n",
       "<table border=\"1\" class=\"dataframe\">\n",
       "  <thead>\n",
       "    <tr style=\"text-align: right;\">\n",
       "      <th>State</th>\n",
       "      <th>Colorado</th>\n",
       "      <th>Connecticut</th>\n",
       "      <th>Delaware</th>\n",
       "      <th>Idaho</th>\n",
       "      <th>Michigan</th>\n",
       "      <th>Illinois</th>\n",
       "      <th>Maine</th>\n",
       "      <th>Florida</th>\n",
       "      <th>Rhode Island</th>\n",
       "      <th>New Hampshire</th>\n",
       "    </tr>\n",
       "  </thead>\n",
       "  <tbody>\n",
       "    <tr>\n",
       "      <th>act_2018_part</th>\n",
       "      <td>30</td>\n",
       "      <td>26</td>\n",
       "      <td>17</td>\n",
       "      <td>36</td>\n",
       "      <td>22</td>\n",
       "      <td>43</td>\n",
       "      <td>7</td>\n",
       "      <td>66</td>\n",
       "      <td>15</td>\n",
       "      <td>16</td>\n",
       "    </tr>\n",
       "    <tr>\n",
       "      <th>sat_2018_part</th>\n",
       "      <td>100</td>\n",
       "      <td>100</td>\n",
       "      <td>100</td>\n",
       "      <td>100</td>\n",
       "      <td>100</td>\n",
       "      <td>99</td>\n",
       "      <td>99</td>\n",
       "      <td>97</td>\n",
       "      <td>97</td>\n",
       "      <td>96</td>\n",
       "    </tr>\n",
       "  </tbody>\n",
       "</table>\n",
       "</div>"
      ],
      "text/plain": [
       "State          Colorado  Connecticut  Delaware  Idaho  Michigan  Illinois  \\\n",
       "act_2018_part        30           26        17     36        22        43   \n",
       "sat_2018_part       100          100       100    100       100        99   \n",
       "\n",
       "State          Maine  Florida  Rhode Island  New Hampshire  \n",
       "act_2018_part      7       66            15             16  \n",
       "sat_2018_part     99       97            97             96  "
      ]
     },
     "execution_count": 89,
     "metadata": {},
     "output_type": "execute_result"
    }
   ],
   "source": [
    "test_scores.loc[(test_scores['sat_2018_part'] > 95) , \n",
    "                ['act_2018_part','sat_2018_part']].sort_values('sat_2018_part', ascending=False).T"
   ]
  },
  {
   "cell_type": "markdown",
   "metadata": {},
   "source": [
    "#### Geographic Distribution of Participation Rates\n",
    "\n",
    "Below we observe that ACT dominates the market in the Midwest while SAT leads more modestly along the coasts. Two noticable color changes occur between 2017 and 2018 for Colorado and Illinois which are discussed later. Comparing to the previous maps displaying average score by state, one can already see a tendency for high score averages to match low participation rates for each test."
   ]
  },
  {
   "cell_type": "code",
   "execution_count": 92,
   "metadata": {},
   "outputs": [
    {
     "data": {
      "application/vnd.plotly.v1+json": {
       "config": {
        "plotlyServerURL": "https://plot.ly"
       },
       "data": [
        {
         "coloraxis": "coloraxis",
         "geo": "geo",
         "hoverlabel": {
          "namelength": 0
         },
         "hovertemplate": "locations=%{location}<br>color=%{z}",
         "locationmode": "USA-states",
         "locations": [
          "AL",
          "AK",
          "AZ",
          "AR",
          "CA",
          "CO",
          "CT",
          "DE",
          "DC",
          "FL",
          "GA",
          "HI",
          "ID",
          "IL",
          "IN",
          "IA",
          "KS",
          "KY",
          "LA",
          "ME",
          "MD",
          "MA",
          "MI",
          "MN",
          "MS",
          "MO",
          "MT",
          "NE",
          "NV",
          "NH",
          "NJ",
          "NM",
          "NY",
          "NC",
          "ND",
          "OH",
          "OK",
          "OR",
          "PA",
          "RI",
          "SC",
          "SD",
          "TN",
          "TX",
          "UT",
          "VT",
          "VA",
          "WA",
          "WV",
          "WI",
          "WY"
         ],
         "name": "",
         "type": "choropleth",
         "z": [
          95,
          27,
          32,
          97,
          -22,
          89,
          -69,
          -82,
          -58,
          -10,
          -6,
          35,
          -55,
          84,
          -28,
          65,
          69,
          96,
          96,
          -87,
          -41,
          -47,
          -71,
          97,
          98,
          97,
          90,
          81,
          74,
          -78,
          -36,
          55,
          -36,
          51,
          96,
          63,
          93,
          -3,
          -42,
          -50,
          50,
          77,
          95,
          -17,
          97,
          -31,
          -36,
          -35,
          55,
          97,
          97
         ]
        }
       ],
       "layout": {
        "coloraxis": {
         "colorbar": {
          "title": {
           "text": "color"
          }
         },
         "colorscale": [
          [
           0,
           "#2ca02c"
          ],
          [
           0.5,
           "white"
          ],
          [
           1,
           "#1f77b4"
          ]
         ]
        },
        "geo": {
         "center": {},
         "domain": {
          "x": [
           0,
           1
          ],
          "y": [
           0,
           1
          ]
         },
         "scope": "usa"
        },
        "legend": {
         "tracegroupgap": 0
        },
        "margin": {
         "t": 60
        },
        "template": {
         "data": {
          "bar": [
           {
            "error_x": {
             "color": "#2a3f5f"
            },
            "error_y": {
             "color": "#2a3f5f"
            },
            "marker": {
             "line": {
              "color": "#E5ECF6",
              "width": 0.5
             }
            },
            "type": "bar"
           }
          ],
          "barpolar": [
           {
            "marker": {
             "line": {
              "color": "#E5ECF6",
              "width": 0.5
             }
            },
            "type": "barpolar"
           }
          ],
          "carpet": [
           {
            "aaxis": {
             "endlinecolor": "#2a3f5f",
             "gridcolor": "white",
             "linecolor": "white",
             "minorgridcolor": "white",
             "startlinecolor": "#2a3f5f"
            },
            "baxis": {
             "endlinecolor": "#2a3f5f",
             "gridcolor": "white",
             "linecolor": "white",
             "minorgridcolor": "white",
             "startlinecolor": "#2a3f5f"
            },
            "type": "carpet"
           }
          ],
          "choropleth": [
           {
            "colorbar": {
             "outlinewidth": 0,
             "ticks": ""
            },
            "type": "choropleth"
           }
          ],
          "contour": [
           {
            "colorbar": {
             "outlinewidth": 0,
             "ticks": ""
            },
            "colorscale": [
             [
              0,
              "#0d0887"
             ],
             [
              0.1111111111111111,
              "#46039f"
             ],
             [
              0.2222222222222222,
              "#7201a8"
             ],
             [
              0.3333333333333333,
              "#9c179e"
             ],
             [
              0.4444444444444444,
              "#bd3786"
             ],
             [
              0.5555555555555556,
              "#d8576b"
             ],
             [
              0.6666666666666666,
              "#ed7953"
             ],
             [
              0.7777777777777778,
              "#fb9f3a"
             ],
             [
              0.8888888888888888,
              "#fdca26"
             ],
             [
              1,
              "#f0f921"
             ]
            ],
            "type": "contour"
           }
          ],
          "contourcarpet": [
           {
            "colorbar": {
             "outlinewidth": 0,
             "ticks": ""
            },
            "type": "contourcarpet"
           }
          ],
          "heatmap": [
           {
            "colorbar": {
             "outlinewidth": 0,
             "ticks": ""
            },
            "colorscale": [
             [
              0,
              "#0d0887"
             ],
             [
              0.1111111111111111,
              "#46039f"
             ],
             [
              0.2222222222222222,
              "#7201a8"
             ],
             [
              0.3333333333333333,
              "#9c179e"
             ],
             [
              0.4444444444444444,
              "#bd3786"
             ],
             [
              0.5555555555555556,
              "#d8576b"
             ],
             [
              0.6666666666666666,
              "#ed7953"
             ],
             [
              0.7777777777777778,
              "#fb9f3a"
             ],
             [
              0.8888888888888888,
              "#fdca26"
             ],
             [
              1,
              "#f0f921"
             ]
            ],
            "type": "heatmap"
           }
          ],
          "heatmapgl": [
           {
            "colorbar": {
             "outlinewidth": 0,
             "ticks": ""
            },
            "colorscale": [
             [
              0,
              "#0d0887"
             ],
             [
              0.1111111111111111,
              "#46039f"
             ],
             [
              0.2222222222222222,
              "#7201a8"
             ],
             [
              0.3333333333333333,
              "#9c179e"
             ],
             [
              0.4444444444444444,
              "#bd3786"
             ],
             [
              0.5555555555555556,
              "#d8576b"
             ],
             [
              0.6666666666666666,
              "#ed7953"
             ],
             [
              0.7777777777777778,
              "#fb9f3a"
             ],
             [
              0.8888888888888888,
              "#fdca26"
             ],
             [
              1,
              "#f0f921"
             ]
            ],
            "type": "heatmapgl"
           }
          ],
          "histogram": [
           {
            "marker": {
             "colorbar": {
              "outlinewidth": 0,
              "ticks": ""
             }
            },
            "type": "histogram"
           }
          ],
          "histogram2d": [
           {
            "colorbar": {
             "outlinewidth": 0,
             "ticks": ""
            },
            "colorscale": [
             [
              0,
              "#0d0887"
             ],
             [
              0.1111111111111111,
              "#46039f"
             ],
             [
              0.2222222222222222,
              "#7201a8"
             ],
             [
              0.3333333333333333,
              "#9c179e"
             ],
             [
              0.4444444444444444,
              "#bd3786"
             ],
             [
              0.5555555555555556,
              "#d8576b"
             ],
             [
              0.6666666666666666,
              "#ed7953"
             ],
             [
              0.7777777777777778,
              "#fb9f3a"
             ],
             [
              0.8888888888888888,
              "#fdca26"
             ],
             [
              1,
              "#f0f921"
             ]
            ],
            "type": "histogram2d"
           }
          ],
          "histogram2dcontour": [
           {
            "colorbar": {
             "outlinewidth": 0,
             "ticks": ""
            },
            "colorscale": [
             [
              0,
              "#0d0887"
             ],
             [
              0.1111111111111111,
              "#46039f"
             ],
             [
              0.2222222222222222,
              "#7201a8"
             ],
             [
              0.3333333333333333,
              "#9c179e"
             ],
             [
              0.4444444444444444,
              "#bd3786"
             ],
             [
              0.5555555555555556,
              "#d8576b"
             ],
             [
              0.6666666666666666,
              "#ed7953"
             ],
             [
              0.7777777777777778,
              "#fb9f3a"
             ],
             [
              0.8888888888888888,
              "#fdca26"
             ],
             [
              1,
              "#f0f921"
             ]
            ],
            "type": "histogram2dcontour"
           }
          ],
          "mesh3d": [
           {
            "colorbar": {
             "outlinewidth": 0,
             "ticks": ""
            },
            "type": "mesh3d"
           }
          ],
          "parcoords": [
           {
            "line": {
             "colorbar": {
              "outlinewidth": 0,
              "ticks": ""
             }
            },
            "type": "parcoords"
           }
          ],
          "pie": [
           {
            "automargin": true,
            "type": "pie"
           }
          ],
          "scatter": [
           {
            "marker": {
             "colorbar": {
              "outlinewidth": 0,
              "ticks": ""
             }
            },
            "type": "scatter"
           }
          ],
          "scatter3d": [
           {
            "line": {
             "colorbar": {
              "outlinewidth": 0,
              "ticks": ""
             }
            },
            "marker": {
             "colorbar": {
              "outlinewidth": 0,
              "ticks": ""
             }
            },
            "type": "scatter3d"
           }
          ],
          "scattercarpet": [
           {
            "marker": {
             "colorbar": {
              "outlinewidth": 0,
              "ticks": ""
             }
            },
            "type": "scattercarpet"
           }
          ],
          "scattergeo": [
           {
            "marker": {
             "colorbar": {
              "outlinewidth": 0,
              "ticks": ""
             }
            },
            "type": "scattergeo"
           }
          ],
          "scattergl": [
           {
            "marker": {
             "colorbar": {
              "outlinewidth": 0,
              "ticks": ""
             }
            },
            "type": "scattergl"
           }
          ],
          "scattermapbox": [
           {
            "marker": {
             "colorbar": {
              "outlinewidth": 0,
              "ticks": ""
             }
            },
            "type": "scattermapbox"
           }
          ],
          "scatterpolar": [
           {
            "marker": {
             "colorbar": {
              "outlinewidth": 0,
              "ticks": ""
             }
            },
            "type": "scatterpolar"
           }
          ],
          "scatterpolargl": [
           {
            "marker": {
             "colorbar": {
              "outlinewidth": 0,
              "ticks": ""
             }
            },
            "type": "scatterpolargl"
           }
          ],
          "scatterternary": [
           {
            "marker": {
             "colorbar": {
              "outlinewidth": 0,
              "ticks": ""
             }
            },
            "type": "scatterternary"
           }
          ],
          "surface": [
           {
            "colorbar": {
             "outlinewidth": 0,
             "ticks": ""
            },
            "colorscale": [
             [
              0,
              "#0d0887"
             ],
             [
              0.1111111111111111,
              "#46039f"
             ],
             [
              0.2222222222222222,
              "#7201a8"
             ],
             [
              0.3333333333333333,
              "#9c179e"
             ],
             [
              0.4444444444444444,
              "#bd3786"
             ],
             [
              0.5555555555555556,
              "#d8576b"
             ],
             [
              0.6666666666666666,
              "#ed7953"
             ],
             [
              0.7777777777777778,
              "#fb9f3a"
             ],
             [
              0.8888888888888888,
              "#fdca26"
             ],
             [
              1,
              "#f0f921"
             ]
            ],
            "type": "surface"
           }
          ],
          "table": [
           {
            "cells": {
             "fill": {
              "color": "#EBF0F8"
             },
             "line": {
              "color": "white"
             }
            },
            "header": {
             "fill": {
              "color": "#C8D4E3"
             },
             "line": {
              "color": "white"
             }
            },
            "type": "table"
           }
          ]
         },
         "layout": {
          "annotationdefaults": {
           "arrowcolor": "#2a3f5f",
           "arrowhead": 0,
           "arrowwidth": 1
          },
          "coloraxis": {
           "colorbar": {
            "outlinewidth": 0,
            "ticks": ""
           }
          },
          "colorscale": {
           "diverging": [
            [
             0,
             "#8e0152"
            ],
            [
             0.1,
             "#c51b7d"
            ],
            [
             0.2,
             "#de77ae"
            ],
            [
             0.3,
             "#f1b6da"
            ],
            [
             0.4,
             "#fde0ef"
            ],
            [
             0.5,
             "#f7f7f7"
            ],
            [
             0.6,
             "#e6f5d0"
            ],
            [
             0.7,
             "#b8e186"
            ],
            [
             0.8,
             "#7fbc41"
            ],
            [
             0.9,
             "#4d9221"
            ],
            [
             1,
             "#276419"
            ]
           ],
           "sequential": [
            [
             0,
             "#0d0887"
            ],
            [
             0.1111111111111111,
             "#46039f"
            ],
            [
             0.2222222222222222,
             "#7201a8"
            ],
            [
             0.3333333333333333,
             "#9c179e"
            ],
            [
             0.4444444444444444,
             "#bd3786"
            ],
            [
             0.5555555555555556,
             "#d8576b"
            ],
            [
             0.6666666666666666,
             "#ed7953"
            ],
            [
             0.7777777777777778,
             "#fb9f3a"
            ],
            [
             0.8888888888888888,
             "#fdca26"
            ],
            [
             1,
             "#f0f921"
            ]
           ],
           "sequentialminus": [
            [
             0,
             "#0d0887"
            ],
            [
             0.1111111111111111,
             "#46039f"
            ],
            [
             0.2222222222222222,
             "#7201a8"
            ],
            [
             0.3333333333333333,
             "#9c179e"
            ],
            [
             0.4444444444444444,
             "#bd3786"
            ],
            [
             0.5555555555555556,
             "#d8576b"
            ],
            [
             0.6666666666666666,
             "#ed7953"
            ],
            [
             0.7777777777777778,
             "#fb9f3a"
            ],
            [
             0.8888888888888888,
             "#fdca26"
            ],
            [
             1,
             "#f0f921"
            ]
           ]
          },
          "colorway": [
           "#636efa",
           "#EF553B",
           "#00cc96",
           "#ab63fa",
           "#FFA15A",
           "#19d3f3",
           "#FF6692",
           "#B6E880",
           "#FF97FF",
           "#FECB52"
          ],
          "font": {
           "color": "#2a3f5f"
          },
          "geo": {
           "bgcolor": "white",
           "lakecolor": "white",
           "landcolor": "#E5ECF6",
           "showlakes": true,
           "showland": true,
           "subunitcolor": "white"
          },
          "hoverlabel": {
           "align": "left"
          },
          "hovermode": "closest",
          "mapbox": {
           "style": "light"
          },
          "paper_bgcolor": "white",
          "plot_bgcolor": "#E5ECF6",
          "polar": {
           "angularaxis": {
            "gridcolor": "white",
            "linecolor": "white",
            "ticks": ""
           },
           "bgcolor": "#E5ECF6",
           "radialaxis": {
            "gridcolor": "white",
            "linecolor": "white",
            "ticks": ""
           }
          },
          "scene": {
           "xaxis": {
            "backgroundcolor": "#E5ECF6",
            "gridcolor": "white",
            "gridwidth": 2,
            "linecolor": "white",
            "showbackground": true,
            "ticks": "",
            "zerolinecolor": "white"
           },
           "yaxis": {
            "backgroundcolor": "#E5ECF6",
            "gridcolor": "white",
            "gridwidth": 2,
            "linecolor": "white",
            "showbackground": true,
            "ticks": "",
            "zerolinecolor": "white"
           },
           "zaxis": {
            "backgroundcolor": "#E5ECF6",
            "gridcolor": "white",
            "gridwidth": 2,
            "linecolor": "white",
            "showbackground": true,
            "ticks": "",
            "zerolinecolor": "white"
           }
          },
          "shapedefaults": {
           "line": {
            "color": "#2a3f5f"
           }
          },
          "ternary": {
           "aaxis": {
            "gridcolor": "white",
            "linecolor": "white",
            "ticks": ""
           },
           "baxis": {
            "gridcolor": "white",
            "linecolor": "white",
            "ticks": ""
           },
           "bgcolor": "#E5ECF6",
           "caxis": {
            "gridcolor": "white",
            "linecolor": "white",
            "ticks": ""
           }
          },
          "title": {
           "x": 0.05
          },
          "xaxis": {
           "automargin": true,
           "gridcolor": "white",
           "linecolor": "white",
           "ticks": "",
           "title": {
            "standoff": 15
           },
           "zerolinecolor": "white",
           "zerolinewidth": 2
          },
          "yaxis": {
           "automargin": true,
           "gridcolor": "white",
           "linecolor": "white",
           "ticks": "",
           "title": {
            "standoff": 15
           },
           "zerolinecolor": "white",
           "zerolinewidth": 2
          }
         }
        },
        "title": {
         "text": "ACT Participation Rate - SAT Participation Rate (2017)"
        }
       }
      },
      "text/html": [
       "<div>\n",
       "        \n",
       "        \n",
       "            <div id=\"10339397-40d8-4a6b-b37a-f837de8c62ea\" class=\"plotly-graph-div\" style=\"height:525px; width:100%;\"></div>\n",
       "            <script type=\"text/javascript\">\n",
       "                require([\"plotly\"], function(Plotly) {\n",
       "                    window.PLOTLYENV=window.PLOTLYENV || {};\n",
       "                    \n",
       "                if (document.getElementById(\"10339397-40d8-4a6b-b37a-f837de8c62ea\")) {\n",
       "                    Plotly.newPlot(\n",
       "                        '10339397-40d8-4a6b-b37a-f837de8c62ea',\n",
       "                        [{\"coloraxis\": \"coloraxis\", \"geo\": \"geo\", \"hoverlabel\": {\"namelength\": 0}, \"hovertemplate\": \"locations=%{location}<br>color=%{z}\", \"locationmode\": \"USA-states\", \"locations\": [\"AL\", \"AK\", \"AZ\", \"AR\", \"CA\", \"CO\", \"CT\", \"DE\", \"DC\", \"FL\", \"GA\", \"HI\", \"ID\", \"IL\", \"IN\", \"IA\", \"KS\", \"KY\", \"LA\", \"ME\", \"MD\", \"MA\", \"MI\", \"MN\", \"MS\", \"MO\", \"MT\", \"NE\", \"NV\", \"NH\", \"NJ\", \"NM\", \"NY\", \"NC\", \"ND\", \"OH\", \"OK\", \"OR\", \"PA\", \"RI\", \"SC\", \"SD\", \"TN\", \"TX\", \"UT\", \"VT\", \"VA\", \"WA\", \"WV\", \"WI\", \"WY\"], \"name\": \"\", \"type\": \"choropleth\", \"z\": [95, 27, 32, 97, -22, 89, -69, -82, -58, -10, -6, 35, -55, 84, -28, 65, 69, 96, 96, -87, -41, -47, -71, 97, 98, 97, 90, 81, 74, -78, -36, 55, -36, 51, 96, 63, 93, -3, -42, -50, 50, 77, 95, -17, 97, -31, -36, -35, 55, 97, 97]}],\n",
       "                        {\"coloraxis\": {\"colorbar\": {\"title\": {\"text\": \"color\"}}, \"colorscale\": [[0.0, \"#2ca02c\"], [0.5, \"white\"], [1.0, \"#1f77b4\"]]}, \"geo\": {\"center\": {}, \"domain\": {\"x\": [0.0, 1.0], \"y\": [0.0, 1.0]}, \"scope\": \"usa\"}, \"legend\": {\"tracegroupgap\": 0}, \"margin\": {\"t\": 60}, \"template\": {\"data\": {\"bar\": [{\"error_x\": {\"color\": \"#2a3f5f\"}, \"error_y\": {\"color\": \"#2a3f5f\"}, \"marker\": {\"line\": {\"color\": \"#E5ECF6\", \"width\": 0.5}}, \"type\": \"bar\"}], \"barpolar\": [{\"marker\": {\"line\": {\"color\": \"#E5ECF6\", \"width\": 0.5}}, \"type\": \"barpolar\"}], \"carpet\": [{\"aaxis\": {\"endlinecolor\": \"#2a3f5f\", \"gridcolor\": \"white\", \"linecolor\": \"white\", \"minorgridcolor\": \"white\", \"startlinecolor\": \"#2a3f5f\"}, \"baxis\": {\"endlinecolor\": \"#2a3f5f\", \"gridcolor\": \"white\", \"linecolor\": \"white\", \"minorgridcolor\": \"white\", \"startlinecolor\": \"#2a3f5f\"}, \"type\": \"carpet\"}], \"choropleth\": [{\"colorbar\": {\"outlinewidth\": 0, \"ticks\": \"\"}, \"type\": \"choropleth\"}], \"contour\": [{\"colorbar\": {\"outlinewidth\": 0, \"ticks\": \"\"}, \"colorscale\": [[0.0, \"#0d0887\"], [0.1111111111111111, \"#46039f\"], [0.2222222222222222, \"#7201a8\"], [0.3333333333333333, \"#9c179e\"], [0.4444444444444444, \"#bd3786\"], [0.5555555555555556, \"#d8576b\"], [0.6666666666666666, \"#ed7953\"], [0.7777777777777778, \"#fb9f3a\"], [0.8888888888888888, \"#fdca26\"], [1.0, \"#f0f921\"]], \"type\": \"contour\"}], \"contourcarpet\": [{\"colorbar\": {\"outlinewidth\": 0, \"ticks\": \"\"}, \"type\": \"contourcarpet\"}], \"heatmap\": [{\"colorbar\": {\"outlinewidth\": 0, \"ticks\": \"\"}, \"colorscale\": [[0.0, \"#0d0887\"], [0.1111111111111111, \"#46039f\"], [0.2222222222222222, \"#7201a8\"], [0.3333333333333333, \"#9c179e\"], [0.4444444444444444, \"#bd3786\"], [0.5555555555555556, \"#d8576b\"], [0.6666666666666666, \"#ed7953\"], [0.7777777777777778, \"#fb9f3a\"], [0.8888888888888888, \"#fdca26\"], [1.0, \"#f0f921\"]], \"type\": \"heatmap\"}], \"heatmapgl\": [{\"colorbar\": {\"outlinewidth\": 0, \"ticks\": \"\"}, \"colorscale\": [[0.0, \"#0d0887\"], [0.1111111111111111, \"#46039f\"], [0.2222222222222222, \"#7201a8\"], [0.3333333333333333, \"#9c179e\"], [0.4444444444444444, \"#bd3786\"], [0.5555555555555556, \"#d8576b\"], [0.6666666666666666, \"#ed7953\"], [0.7777777777777778, \"#fb9f3a\"], [0.8888888888888888, \"#fdca26\"], [1.0, \"#f0f921\"]], \"type\": \"heatmapgl\"}], \"histogram\": [{\"marker\": {\"colorbar\": {\"outlinewidth\": 0, \"ticks\": \"\"}}, \"type\": \"histogram\"}], \"histogram2d\": [{\"colorbar\": {\"outlinewidth\": 0, \"ticks\": \"\"}, \"colorscale\": [[0.0, \"#0d0887\"], [0.1111111111111111, \"#46039f\"], [0.2222222222222222, \"#7201a8\"], [0.3333333333333333, \"#9c179e\"], [0.4444444444444444, \"#bd3786\"], [0.5555555555555556, \"#d8576b\"], [0.6666666666666666, \"#ed7953\"], [0.7777777777777778, \"#fb9f3a\"], [0.8888888888888888, \"#fdca26\"], [1.0, \"#f0f921\"]], \"type\": \"histogram2d\"}], \"histogram2dcontour\": [{\"colorbar\": {\"outlinewidth\": 0, \"ticks\": \"\"}, \"colorscale\": [[0.0, \"#0d0887\"], [0.1111111111111111, \"#46039f\"], [0.2222222222222222, \"#7201a8\"], [0.3333333333333333, \"#9c179e\"], [0.4444444444444444, \"#bd3786\"], [0.5555555555555556, \"#d8576b\"], [0.6666666666666666, \"#ed7953\"], [0.7777777777777778, \"#fb9f3a\"], [0.8888888888888888, \"#fdca26\"], [1.0, \"#f0f921\"]], \"type\": \"histogram2dcontour\"}], \"mesh3d\": [{\"colorbar\": {\"outlinewidth\": 0, \"ticks\": \"\"}, \"type\": \"mesh3d\"}], \"parcoords\": [{\"line\": {\"colorbar\": {\"outlinewidth\": 0, \"ticks\": \"\"}}, \"type\": \"parcoords\"}], \"pie\": [{\"automargin\": true, \"type\": \"pie\"}], \"scatter\": [{\"marker\": {\"colorbar\": {\"outlinewidth\": 0, \"ticks\": \"\"}}, \"type\": \"scatter\"}], \"scatter3d\": [{\"line\": {\"colorbar\": {\"outlinewidth\": 0, \"ticks\": \"\"}}, \"marker\": {\"colorbar\": {\"outlinewidth\": 0, \"ticks\": \"\"}}, \"type\": \"scatter3d\"}], \"scattercarpet\": [{\"marker\": {\"colorbar\": {\"outlinewidth\": 0, \"ticks\": \"\"}}, \"type\": \"scattercarpet\"}], \"scattergeo\": [{\"marker\": {\"colorbar\": {\"outlinewidth\": 0, \"ticks\": \"\"}}, \"type\": \"scattergeo\"}], \"scattergl\": [{\"marker\": {\"colorbar\": {\"outlinewidth\": 0, \"ticks\": \"\"}}, \"type\": \"scattergl\"}], \"scattermapbox\": [{\"marker\": {\"colorbar\": {\"outlinewidth\": 0, \"ticks\": \"\"}}, \"type\": \"scattermapbox\"}], \"scatterpolar\": [{\"marker\": {\"colorbar\": {\"outlinewidth\": 0, \"ticks\": \"\"}}, \"type\": \"scatterpolar\"}], \"scatterpolargl\": [{\"marker\": {\"colorbar\": {\"outlinewidth\": 0, \"ticks\": \"\"}}, \"type\": \"scatterpolargl\"}], \"scatterternary\": [{\"marker\": {\"colorbar\": {\"outlinewidth\": 0, \"ticks\": \"\"}}, \"type\": \"scatterternary\"}], \"surface\": [{\"colorbar\": {\"outlinewidth\": 0, \"ticks\": \"\"}, \"colorscale\": [[0.0, \"#0d0887\"], [0.1111111111111111, \"#46039f\"], [0.2222222222222222, \"#7201a8\"], [0.3333333333333333, \"#9c179e\"], [0.4444444444444444, \"#bd3786\"], [0.5555555555555556, \"#d8576b\"], [0.6666666666666666, \"#ed7953\"], [0.7777777777777778, \"#fb9f3a\"], [0.8888888888888888, \"#fdca26\"], [1.0, \"#f0f921\"]], \"type\": \"surface\"}], \"table\": [{\"cells\": {\"fill\": {\"color\": \"#EBF0F8\"}, \"line\": {\"color\": \"white\"}}, \"header\": {\"fill\": {\"color\": \"#C8D4E3\"}, \"line\": {\"color\": \"white\"}}, \"type\": \"table\"}]}, \"layout\": {\"annotationdefaults\": {\"arrowcolor\": \"#2a3f5f\", \"arrowhead\": 0, \"arrowwidth\": 1}, \"coloraxis\": {\"colorbar\": {\"outlinewidth\": 0, \"ticks\": \"\"}}, \"colorscale\": {\"diverging\": [[0, \"#8e0152\"], [0.1, \"#c51b7d\"], [0.2, \"#de77ae\"], [0.3, \"#f1b6da\"], [0.4, \"#fde0ef\"], [0.5, \"#f7f7f7\"], [0.6, \"#e6f5d0\"], [0.7, \"#b8e186\"], [0.8, \"#7fbc41\"], [0.9, \"#4d9221\"], [1, \"#276419\"]], \"sequential\": [[0.0, \"#0d0887\"], [0.1111111111111111, \"#46039f\"], [0.2222222222222222, \"#7201a8\"], [0.3333333333333333, \"#9c179e\"], [0.4444444444444444, \"#bd3786\"], [0.5555555555555556, \"#d8576b\"], [0.6666666666666666, \"#ed7953\"], [0.7777777777777778, \"#fb9f3a\"], [0.8888888888888888, \"#fdca26\"], [1.0, \"#f0f921\"]], \"sequentialminus\": [[0.0, \"#0d0887\"], [0.1111111111111111, \"#46039f\"], [0.2222222222222222, \"#7201a8\"], [0.3333333333333333, \"#9c179e\"], [0.4444444444444444, \"#bd3786\"], [0.5555555555555556, \"#d8576b\"], [0.6666666666666666, \"#ed7953\"], [0.7777777777777778, \"#fb9f3a\"], [0.8888888888888888, \"#fdca26\"], [1.0, \"#f0f921\"]]}, \"colorway\": [\"#636efa\", \"#EF553B\", \"#00cc96\", \"#ab63fa\", \"#FFA15A\", \"#19d3f3\", \"#FF6692\", \"#B6E880\", \"#FF97FF\", \"#FECB52\"], \"font\": {\"color\": \"#2a3f5f\"}, \"geo\": {\"bgcolor\": \"white\", \"lakecolor\": \"white\", \"landcolor\": \"#E5ECF6\", \"showlakes\": true, \"showland\": true, \"subunitcolor\": \"white\"}, \"hoverlabel\": {\"align\": \"left\"}, \"hovermode\": \"closest\", \"mapbox\": {\"style\": \"light\"}, \"paper_bgcolor\": \"white\", \"plot_bgcolor\": \"#E5ECF6\", \"polar\": {\"angularaxis\": {\"gridcolor\": \"white\", \"linecolor\": \"white\", \"ticks\": \"\"}, \"bgcolor\": \"#E5ECF6\", \"radialaxis\": {\"gridcolor\": \"white\", \"linecolor\": \"white\", \"ticks\": \"\"}}, \"scene\": {\"xaxis\": {\"backgroundcolor\": \"#E5ECF6\", \"gridcolor\": \"white\", \"gridwidth\": 2, \"linecolor\": \"white\", \"showbackground\": true, \"ticks\": \"\", \"zerolinecolor\": \"white\"}, \"yaxis\": {\"backgroundcolor\": \"#E5ECF6\", \"gridcolor\": \"white\", \"gridwidth\": 2, \"linecolor\": \"white\", \"showbackground\": true, \"ticks\": \"\", \"zerolinecolor\": \"white\"}, \"zaxis\": {\"backgroundcolor\": \"#E5ECF6\", \"gridcolor\": \"white\", \"gridwidth\": 2, \"linecolor\": \"white\", \"showbackground\": true, \"ticks\": \"\", \"zerolinecolor\": \"white\"}}, \"shapedefaults\": {\"line\": {\"color\": \"#2a3f5f\"}}, \"ternary\": {\"aaxis\": {\"gridcolor\": \"white\", \"linecolor\": \"white\", \"ticks\": \"\"}, \"baxis\": {\"gridcolor\": \"white\", \"linecolor\": \"white\", \"ticks\": \"\"}, \"bgcolor\": \"#E5ECF6\", \"caxis\": {\"gridcolor\": \"white\", \"linecolor\": \"white\", \"ticks\": \"\"}}, \"title\": {\"x\": 0.05}, \"xaxis\": {\"automargin\": true, \"gridcolor\": \"white\", \"linecolor\": \"white\", \"ticks\": \"\", \"title\": {\"standoff\": 15}, \"zerolinecolor\": \"white\", \"zerolinewidth\": 2}, \"yaxis\": {\"automargin\": true, \"gridcolor\": \"white\", \"linecolor\": \"white\", \"ticks\": \"\", \"title\": {\"standoff\": 15}, \"zerolinecolor\": \"white\", \"zerolinewidth\": 2}}}, \"title\": {\"text\": \"ACT Participation Rate - SAT Participation Rate (2017)\"}},\n",
       "                        {\"responsive\": true}\n",
       "                    ).then(function(){\n",
       "                            \n",
       "var gd = document.getElementById('10339397-40d8-4a6b-b37a-f837de8c62ea');\n",
       "var x = new MutationObserver(function (mutations, observer) {{\n",
       "        var display = window.getComputedStyle(gd).display;\n",
       "        if (!display || display === 'none') {{\n",
       "            console.log([gd, 'removed!']);\n",
       "            Plotly.purge(gd);\n",
       "            observer.disconnect();\n",
       "        }}\n",
       "}});\n",
       "\n",
       "// Listen for the removal of the full notebook cells\n",
       "var notebookContainer = gd.closest('#notebook-container');\n",
       "if (notebookContainer) {{\n",
       "    x.observe(notebookContainer, {childList: true});\n",
       "}}\n",
       "\n",
       "// Listen for the clearing of the current output cell\n",
       "var outputEl = gd.closest('.output');\n",
       "if (outputEl) {{\n",
       "    x.observe(outputEl, {childList: true});\n",
       "}}\n",
       "\n",
       "                        })\n",
       "                };\n",
       "                });\n",
       "            </script>\n",
       "        </div>"
      ]
     },
     "metadata": {},
     "output_type": "display_data"
    }
   ],
   "source": [
    "part_map = px.choropleth(locations=test_scores['state_code'], \n",
    "                        locationmode=\"USA-states\", \n",
    "                        color=test_scores['act_2017_part'] - test_scores['sat_2017_part'],\n",
    "                        color_continuous_scale=['#2ca02c', 'white' ,'#1f77b4'],\n",
    "                        scope=\"usa\")\n",
    "part_map.update_layout(\n",
    "    title_text = 'ACT Participation Rate - SAT Participation Rate (2017)'\n",
    ")\n",
    "part_map.show()"
   ]
  },
  {
   "cell_type": "code",
   "execution_count": 93,
   "metadata": {},
   "outputs": [
    {
     "data": {
      "application/vnd.plotly.v1+json": {
       "config": {
        "plotlyServerURL": "https://plot.ly"
       },
       "data": [
        {
         "coloraxis": "coloraxis",
         "geo": "geo",
         "hoverlabel": {
          "namelength": 0
         },
         "hovertemplate": "locations=%{location}<br>color=%{z}",
         "locationmode": "USA-states",
         "locations": [
          "AL",
          "AK",
          "AZ",
          "AR",
          "CA",
          "CO",
          "CT",
          "DE",
          "DC",
          "FL",
          "GA",
          "HI",
          "ID",
          "IL",
          "IN",
          "IA",
          "KS",
          "KY",
          "LA",
          "ME",
          "MD",
          "MA",
          "MI",
          "MN",
          "MS",
          "MO",
          "MT",
          "NE",
          "NV",
          "NH",
          "NJ",
          "NM",
          "NY",
          "NC",
          "ND",
          "OH",
          "OK",
          "OR",
          "PA",
          "RI",
          "SC",
          "SD",
          "TN",
          "TX",
          "UT",
          "VT",
          "VA",
          "WA",
          "WV",
          "WI",
          "WY"
         ],
         "name": "",
         "type": "choropleth",
         "z": [
          94,
          -10,
          37,
          95,
          -33,
          -70,
          -74,
          -83,
          -60,
          -31,
          -17,
          33,
          -64,
          -56,
          -35,
          65,
          67,
          96,
          96,
          -92,
          -45,
          -55,
          -78,
          95,
          97,
          96,
          90,
          97,
          77,
          -80,
          -51,
          51,
          -52,
          48,
          96,
          82,
          92,
          -6,
          -50,
          -82,
          45,
          74,
          94,
          -25,
          96,
          -40,
          -44,
          -45,
          37,
          97,
          97
         ]
        }
       ],
       "layout": {
        "coloraxis": {
         "colorbar": {
          "title": {
           "text": "color"
          }
         },
         "colorscale": [
          [
           0,
           "#2ca02c"
          ],
          [
           0.5,
           "white"
          ],
          [
           1,
           "#1f77b4"
          ]
         ]
        },
        "geo": {
         "center": {},
         "domain": {
          "x": [
           0,
           1
          ],
          "y": [
           0,
           1
          ]
         },
         "scope": "usa"
        },
        "legend": {
         "tracegroupgap": 0
        },
        "margin": {
         "t": 60
        },
        "template": {
         "data": {
          "bar": [
           {
            "error_x": {
             "color": "#2a3f5f"
            },
            "error_y": {
             "color": "#2a3f5f"
            },
            "marker": {
             "line": {
              "color": "#E5ECF6",
              "width": 0.5
             }
            },
            "type": "bar"
           }
          ],
          "barpolar": [
           {
            "marker": {
             "line": {
              "color": "#E5ECF6",
              "width": 0.5
             }
            },
            "type": "barpolar"
           }
          ],
          "carpet": [
           {
            "aaxis": {
             "endlinecolor": "#2a3f5f",
             "gridcolor": "white",
             "linecolor": "white",
             "minorgridcolor": "white",
             "startlinecolor": "#2a3f5f"
            },
            "baxis": {
             "endlinecolor": "#2a3f5f",
             "gridcolor": "white",
             "linecolor": "white",
             "minorgridcolor": "white",
             "startlinecolor": "#2a3f5f"
            },
            "type": "carpet"
           }
          ],
          "choropleth": [
           {
            "colorbar": {
             "outlinewidth": 0,
             "ticks": ""
            },
            "type": "choropleth"
           }
          ],
          "contour": [
           {
            "colorbar": {
             "outlinewidth": 0,
             "ticks": ""
            },
            "colorscale": [
             [
              0,
              "#0d0887"
             ],
             [
              0.1111111111111111,
              "#46039f"
             ],
             [
              0.2222222222222222,
              "#7201a8"
             ],
             [
              0.3333333333333333,
              "#9c179e"
             ],
             [
              0.4444444444444444,
              "#bd3786"
             ],
             [
              0.5555555555555556,
              "#d8576b"
             ],
             [
              0.6666666666666666,
              "#ed7953"
             ],
             [
              0.7777777777777778,
              "#fb9f3a"
             ],
             [
              0.8888888888888888,
              "#fdca26"
             ],
             [
              1,
              "#f0f921"
             ]
            ],
            "type": "contour"
           }
          ],
          "contourcarpet": [
           {
            "colorbar": {
             "outlinewidth": 0,
             "ticks": ""
            },
            "type": "contourcarpet"
           }
          ],
          "heatmap": [
           {
            "colorbar": {
             "outlinewidth": 0,
             "ticks": ""
            },
            "colorscale": [
             [
              0,
              "#0d0887"
             ],
             [
              0.1111111111111111,
              "#46039f"
             ],
             [
              0.2222222222222222,
              "#7201a8"
             ],
             [
              0.3333333333333333,
              "#9c179e"
             ],
             [
              0.4444444444444444,
              "#bd3786"
             ],
             [
              0.5555555555555556,
              "#d8576b"
             ],
             [
              0.6666666666666666,
              "#ed7953"
             ],
             [
              0.7777777777777778,
              "#fb9f3a"
             ],
             [
              0.8888888888888888,
              "#fdca26"
             ],
             [
              1,
              "#f0f921"
             ]
            ],
            "type": "heatmap"
           }
          ],
          "heatmapgl": [
           {
            "colorbar": {
             "outlinewidth": 0,
             "ticks": ""
            },
            "colorscale": [
             [
              0,
              "#0d0887"
             ],
             [
              0.1111111111111111,
              "#46039f"
             ],
             [
              0.2222222222222222,
              "#7201a8"
             ],
             [
              0.3333333333333333,
              "#9c179e"
             ],
             [
              0.4444444444444444,
              "#bd3786"
             ],
             [
              0.5555555555555556,
              "#d8576b"
             ],
             [
              0.6666666666666666,
              "#ed7953"
             ],
             [
              0.7777777777777778,
              "#fb9f3a"
             ],
             [
              0.8888888888888888,
              "#fdca26"
             ],
             [
              1,
              "#f0f921"
             ]
            ],
            "type": "heatmapgl"
           }
          ],
          "histogram": [
           {
            "marker": {
             "colorbar": {
              "outlinewidth": 0,
              "ticks": ""
             }
            },
            "type": "histogram"
           }
          ],
          "histogram2d": [
           {
            "colorbar": {
             "outlinewidth": 0,
             "ticks": ""
            },
            "colorscale": [
             [
              0,
              "#0d0887"
             ],
             [
              0.1111111111111111,
              "#46039f"
             ],
             [
              0.2222222222222222,
              "#7201a8"
             ],
             [
              0.3333333333333333,
              "#9c179e"
             ],
             [
              0.4444444444444444,
              "#bd3786"
             ],
             [
              0.5555555555555556,
              "#d8576b"
             ],
             [
              0.6666666666666666,
              "#ed7953"
             ],
             [
              0.7777777777777778,
              "#fb9f3a"
             ],
             [
              0.8888888888888888,
              "#fdca26"
             ],
             [
              1,
              "#f0f921"
             ]
            ],
            "type": "histogram2d"
           }
          ],
          "histogram2dcontour": [
           {
            "colorbar": {
             "outlinewidth": 0,
             "ticks": ""
            },
            "colorscale": [
             [
              0,
              "#0d0887"
             ],
             [
              0.1111111111111111,
              "#46039f"
             ],
             [
              0.2222222222222222,
              "#7201a8"
             ],
             [
              0.3333333333333333,
              "#9c179e"
             ],
             [
              0.4444444444444444,
              "#bd3786"
             ],
             [
              0.5555555555555556,
              "#d8576b"
             ],
             [
              0.6666666666666666,
              "#ed7953"
             ],
             [
              0.7777777777777778,
              "#fb9f3a"
             ],
             [
              0.8888888888888888,
              "#fdca26"
             ],
             [
              1,
              "#f0f921"
             ]
            ],
            "type": "histogram2dcontour"
           }
          ],
          "mesh3d": [
           {
            "colorbar": {
             "outlinewidth": 0,
             "ticks": ""
            },
            "type": "mesh3d"
           }
          ],
          "parcoords": [
           {
            "line": {
             "colorbar": {
              "outlinewidth": 0,
              "ticks": ""
             }
            },
            "type": "parcoords"
           }
          ],
          "pie": [
           {
            "automargin": true,
            "type": "pie"
           }
          ],
          "scatter": [
           {
            "marker": {
             "colorbar": {
              "outlinewidth": 0,
              "ticks": ""
             }
            },
            "type": "scatter"
           }
          ],
          "scatter3d": [
           {
            "line": {
             "colorbar": {
              "outlinewidth": 0,
              "ticks": ""
             }
            },
            "marker": {
             "colorbar": {
              "outlinewidth": 0,
              "ticks": ""
             }
            },
            "type": "scatter3d"
           }
          ],
          "scattercarpet": [
           {
            "marker": {
             "colorbar": {
              "outlinewidth": 0,
              "ticks": ""
             }
            },
            "type": "scattercarpet"
           }
          ],
          "scattergeo": [
           {
            "marker": {
             "colorbar": {
              "outlinewidth": 0,
              "ticks": ""
             }
            },
            "type": "scattergeo"
           }
          ],
          "scattergl": [
           {
            "marker": {
             "colorbar": {
              "outlinewidth": 0,
              "ticks": ""
             }
            },
            "type": "scattergl"
           }
          ],
          "scattermapbox": [
           {
            "marker": {
             "colorbar": {
              "outlinewidth": 0,
              "ticks": ""
             }
            },
            "type": "scattermapbox"
           }
          ],
          "scatterpolar": [
           {
            "marker": {
             "colorbar": {
              "outlinewidth": 0,
              "ticks": ""
             }
            },
            "type": "scatterpolar"
           }
          ],
          "scatterpolargl": [
           {
            "marker": {
             "colorbar": {
              "outlinewidth": 0,
              "ticks": ""
             }
            },
            "type": "scatterpolargl"
           }
          ],
          "scatterternary": [
           {
            "marker": {
             "colorbar": {
              "outlinewidth": 0,
              "ticks": ""
             }
            },
            "type": "scatterternary"
           }
          ],
          "surface": [
           {
            "colorbar": {
             "outlinewidth": 0,
             "ticks": ""
            },
            "colorscale": [
             [
              0,
              "#0d0887"
             ],
             [
              0.1111111111111111,
              "#46039f"
             ],
             [
              0.2222222222222222,
              "#7201a8"
             ],
             [
              0.3333333333333333,
              "#9c179e"
             ],
             [
              0.4444444444444444,
              "#bd3786"
             ],
             [
              0.5555555555555556,
              "#d8576b"
             ],
             [
              0.6666666666666666,
              "#ed7953"
             ],
             [
              0.7777777777777778,
              "#fb9f3a"
             ],
             [
              0.8888888888888888,
              "#fdca26"
             ],
             [
              1,
              "#f0f921"
             ]
            ],
            "type": "surface"
           }
          ],
          "table": [
           {
            "cells": {
             "fill": {
              "color": "#EBF0F8"
             },
             "line": {
              "color": "white"
             }
            },
            "header": {
             "fill": {
              "color": "#C8D4E3"
             },
             "line": {
              "color": "white"
             }
            },
            "type": "table"
           }
          ]
         },
         "layout": {
          "annotationdefaults": {
           "arrowcolor": "#2a3f5f",
           "arrowhead": 0,
           "arrowwidth": 1
          },
          "coloraxis": {
           "colorbar": {
            "outlinewidth": 0,
            "ticks": ""
           }
          },
          "colorscale": {
           "diverging": [
            [
             0,
             "#8e0152"
            ],
            [
             0.1,
             "#c51b7d"
            ],
            [
             0.2,
             "#de77ae"
            ],
            [
             0.3,
             "#f1b6da"
            ],
            [
             0.4,
             "#fde0ef"
            ],
            [
             0.5,
             "#f7f7f7"
            ],
            [
             0.6,
             "#e6f5d0"
            ],
            [
             0.7,
             "#b8e186"
            ],
            [
             0.8,
             "#7fbc41"
            ],
            [
             0.9,
             "#4d9221"
            ],
            [
             1,
             "#276419"
            ]
           ],
           "sequential": [
            [
             0,
             "#0d0887"
            ],
            [
             0.1111111111111111,
             "#46039f"
            ],
            [
             0.2222222222222222,
             "#7201a8"
            ],
            [
             0.3333333333333333,
             "#9c179e"
            ],
            [
             0.4444444444444444,
             "#bd3786"
            ],
            [
             0.5555555555555556,
             "#d8576b"
            ],
            [
             0.6666666666666666,
             "#ed7953"
            ],
            [
             0.7777777777777778,
             "#fb9f3a"
            ],
            [
             0.8888888888888888,
             "#fdca26"
            ],
            [
             1,
             "#f0f921"
            ]
           ],
           "sequentialminus": [
            [
             0,
             "#0d0887"
            ],
            [
             0.1111111111111111,
             "#46039f"
            ],
            [
             0.2222222222222222,
             "#7201a8"
            ],
            [
             0.3333333333333333,
             "#9c179e"
            ],
            [
             0.4444444444444444,
             "#bd3786"
            ],
            [
             0.5555555555555556,
             "#d8576b"
            ],
            [
             0.6666666666666666,
             "#ed7953"
            ],
            [
             0.7777777777777778,
             "#fb9f3a"
            ],
            [
             0.8888888888888888,
             "#fdca26"
            ],
            [
             1,
             "#f0f921"
            ]
           ]
          },
          "colorway": [
           "#636efa",
           "#EF553B",
           "#00cc96",
           "#ab63fa",
           "#FFA15A",
           "#19d3f3",
           "#FF6692",
           "#B6E880",
           "#FF97FF",
           "#FECB52"
          ],
          "font": {
           "color": "#2a3f5f"
          },
          "geo": {
           "bgcolor": "white",
           "lakecolor": "white",
           "landcolor": "#E5ECF6",
           "showlakes": true,
           "showland": true,
           "subunitcolor": "white"
          },
          "hoverlabel": {
           "align": "left"
          },
          "hovermode": "closest",
          "mapbox": {
           "style": "light"
          },
          "paper_bgcolor": "white",
          "plot_bgcolor": "#E5ECF6",
          "polar": {
           "angularaxis": {
            "gridcolor": "white",
            "linecolor": "white",
            "ticks": ""
           },
           "bgcolor": "#E5ECF6",
           "radialaxis": {
            "gridcolor": "white",
            "linecolor": "white",
            "ticks": ""
           }
          },
          "scene": {
           "xaxis": {
            "backgroundcolor": "#E5ECF6",
            "gridcolor": "white",
            "gridwidth": 2,
            "linecolor": "white",
            "showbackground": true,
            "ticks": "",
            "zerolinecolor": "white"
           },
           "yaxis": {
            "backgroundcolor": "#E5ECF6",
            "gridcolor": "white",
            "gridwidth": 2,
            "linecolor": "white",
            "showbackground": true,
            "ticks": "",
            "zerolinecolor": "white"
           },
           "zaxis": {
            "backgroundcolor": "#E5ECF6",
            "gridcolor": "white",
            "gridwidth": 2,
            "linecolor": "white",
            "showbackground": true,
            "ticks": "",
            "zerolinecolor": "white"
           }
          },
          "shapedefaults": {
           "line": {
            "color": "#2a3f5f"
           }
          },
          "ternary": {
           "aaxis": {
            "gridcolor": "white",
            "linecolor": "white",
            "ticks": ""
           },
           "baxis": {
            "gridcolor": "white",
            "linecolor": "white",
            "ticks": ""
           },
           "bgcolor": "#E5ECF6",
           "caxis": {
            "gridcolor": "white",
            "linecolor": "white",
            "ticks": ""
           }
          },
          "title": {
           "x": 0.05
          },
          "xaxis": {
           "automargin": true,
           "gridcolor": "white",
           "linecolor": "white",
           "ticks": "",
           "title": {
            "standoff": 15
           },
           "zerolinecolor": "white",
           "zerolinewidth": 2
          },
          "yaxis": {
           "automargin": true,
           "gridcolor": "white",
           "linecolor": "white",
           "ticks": "",
           "title": {
            "standoff": 15
           },
           "zerolinecolor": "white",
           "zerolinewidth": 2
          }
         }
        },
        "title": {
         "text": "ACT Participation Rate - SAT Participation Rate (2018)"
        }
       }
      },
      "text/html": [
       "<div>\n",
       "        \n",
       "        \n",
       "            <div id=\"ce0dcdc9-d943-4c3a-a331-695f7cc30cf8\" class=\"plotly-graph-div\" style=\"height:525px; width:100%;\"></div>\n",
       "            <script type=\"text/javascript\">\n",
       "                require([\"plotly\"], function(Plotly) {\n",
       "                    window.PLOTLYENV=window.PLOTLYENV || {};\n",
       "                    \n",
       "                if (document.getElementById(\"ce0dcdc9-d943-4c3a-a331-695f7cc30cf8\")) {\n",
       "                    Plotly.newPlot(\n",
       "                        'ce0dcdc9-d943-4c3a-a331-695f7cc30cf8',\n",
       "                        [{\"coloraxis\": \"coloraxis\", \"geo\": \"geo\", \"hoverlabel\": {\"namelength\": 0}, \"hovertemplate\": \"locations=%{location}<br>color=%{z}\", \"locationmode\": \"USA-states\", \"locations\": [\"AL\", \"AK\", \"AZ\", \"AR\", \"CA\", \"CO\", \"CT\", \"DE\", \"DC\", \"FL\", \"GA\", \"HI\", \"ID\", \"IL\", \"IN\", \"IA\", \"KS\", \"KY\", \"LA\", \"ME\", \"MD\", \"MA\", \"MI\", \"MN\", \"MS\", \"MO\", \"MT\", \"NE\", \"NV\", \"NH\", \"NJ\", \"NM\", \"NY\", \"NC\", \"ND\", \"OH\", \"OK\", \"OR\", \"PA\", \"RI\", \"SC\", \"SD\", \"TN\", \"TX\", \"UT\", \"VT\", \"VA\", \"WA\", \"WV\", \"WI\", \"WY\"], \"name\": \"\", \"type\": \"choropleth\", \"z\": [94, -10, 37, 95, -33, -70, -74, -83, -60, -31, -17, 33, -64, -56, -35, 65, 67, 96, 96, -92, -45, -55, -78, 95, 97, 96, 90, 97, 77, -80, -51, 51, -52, 48, 96, 82, 92, -6, -50, -82, 45, 74, 94, -25, 96, -40, -44, -45, 37, 97, 97]}],\n",
       "                        {\"coloraxis\": {\"colorbar\": {\"title\": {\"text\": \"color\"}}, \"colorscale\": [[0.0, \"#2ca02c\"], [0.5, \"white\"], [1.0, \"#1f77b4\"]]}, \"geo\": {\"center\": {}, \"domain\": {\"x\": [0.0, 1.0], \"y\": [0.0, 1.0]}, \"scope\": \"usa\"}, \"legend\": {\"tracegroupgap\": 0}, \"margin\": {\"t\": 60}, \"template\": {\"data\": {\"bar\": [{\"error_x\": {\"color\": \"#2a3f5f\"}, \"error_y\": {\"color\": \"#2a3f5f\"}, \"marker\": {\"line\": {\"color\": \"#E5ECF6\", \"width\": 0.5}}, \"type\": \"bar\"}], \"barpolar\": [{\"marker\": {\"line\": {\"color\": \"#E5ECF6\", \"width\": 0.5}}, \"type\": \"barpolar\"}], \"carpet\": [{\"aaxis\": {\"endlinecolor\": \"#2a3f5f\", \"gridcolor\": \"white\", \"linecolor\": \"white\", \"minorgridcolor\": \"white\", \"startlinecolor\": \"#2a3f5f\"}, \"baxis\": {\"endlinecolor\": \"#2a3f5f\", \"gridcolor\": \"white\", \"linecolor\": \"white\", \"minorgridcolor\": \"white\", \"startlinecolor\": \"#2a3f5f\"}, \"type\": \"carpet\"}], \"choropleth\": [{\"colorbar\": {\"outlinewidth\": 0, \"ticks\": \"\"}, \"type\": \"choropleth\"}], \"contour\": [{\"colorbar\": {\"outlinewidth\": 0, \"ticks\": \"\"}, \"colorscale\": [[0.0, \"#0d0887\"], [0.1111111111111111, \"#46039f\"], [0.2222222222222222, \"#7201a8\"], [0.3333333333333333, \"#9c179e\"], [0.4444444444444444, \"#bd3786\"], [0.5555555555555556, \"#d8576b\"], [0.6666666666666666, \"#ed7953\"], [0.7777777777777778, \"#fb9f3a\"], [0.8888888888888888, \"#fdca26\"], [1.0, \"#f0f921\"]], \"type\": \"contour\"}], \"contourcarpet\": [{\"colorbar\": {\"outlinewidth\": 0, \"ticks\": \"\"}, \"type\": \"contourcarpet\"}], \"heatmap\": [{\"colorbar\": {\"outlinewidth\": 0, \"ticks\": \"\"}, \"colorscale\": [[0.0, \"#0d0887\"], [0.1111111111111111, \"#46039f\"], [0.2222222222222222, \"#7201a8\"], [0.3333333333333333, \"#9c179e\"], [0.4444444444444444, \"#bd3786\"], [0.5555555555555556, \"#d8576b\"], [0.6666666666666666, \"#ed7953\"], [0.7777777777777778, \"#fb9f3a\"], [0.8888888888888888, \"#fdca26\"], [1.0, \"#f0f921\"]], \"type\": \"heatmap\"}], \"heatmapgl\": [{\"colorbar\": {\"outlinewidth\": 0, \"ticks\": \"\"}, \"colorscale\": [[0.0, \"#0d0887\"], [0.1111111111111111, \"#46039f\"], [0.2222222222222222, \"#7201a8\"], [0.3333333333333333, \"#9c179e\"], [0.4444444444444444, \"#bd3786\"], [0.5555555555555556, \"#d8576b\"], [0.6666666666666666, \"#ed7953\"], [0.7777777777777778, \"#fb9f3a\"], [0.8888888888888888, \"#fdca26\"], [1.0, \"#f0f921\"]], \"type\": \"heatmapgl\"}], \"histogram\": [{\"marker\": {\"colorbar\": {\"outlinewidth\": 0, \"ticks\": \"\"}}, \"type\": \"histogram\"}], \"histogram2d\": [{\"colorbar\": {\"outlinewidth\": 0, \"ticks\": \"\"}, \"colorscale\": [[0.0, \"#0d0887\"], [0.1111111111111111, \"#46039f\"], [0.2222222222222222, \"#7201a8\"], [0.3333333333333333, \"#9c179e\"], [0.4444444444444444, \"#bd3786\"], [0.5555555555555556, \"#d8576b\"], [0.6666666666666666, \"#ed7953\"], [0.7777777777777778, \"#fb9f3a\"], [0.8888888888888888, \"#fdca26\"], [1.0, \"#f0f921\"]], \"type\": \"histogram2d\"}], \"histogram2dcontour\": [{\"colorbar\": {\"outlinewidth\": 0, \"ticks\": \"\"}, \"colorscale\": [[0.0, \"#0d0887\"], [0.1111111111111111, \"#46039f\"], [0.2222222222222222, \"#7201a8\"], [0.3333333333333333, \"#9c179e\"], [0.4444444444444444, \"#bd3786\"], [0.5555555555555556, \"#d8576b\"], [0.6666666666666666, \"#ed7953\"], [0.7777777777777778, \"#fb9f3a\"], [0.8888888888888888, \"#fdca26\"], [1.0, \"#f0f921\"]], \"type\": \"histogram2dcontour\"}], \"mesh3d\": [{\"colorbar\": {\"outlinewidth\": 0, \"ticks\": \"\"}, \"type\": \"mesh3d\"}], \"parcoords\": [{\"line\": {\"colorbar\": {\"outlinewidth\": 0, \"ticks\": \"\"}}, \"type\": \"parcoords\"}], \"pie\": [{\"automargin\": true, \"type\": \"pie\"}], \"scatter\": [{\"marker\": {\"colorbar\": {\"outlinewidth\": 0, \"ticks\": \"\"}}, \"type\": \"scatter\"}], \"scatter3d\": [{\"line\": {\"colorbar\": {\"outlinewidth\": 0, \"ticks\": \"\"}}, \"marker\": {\"colorbar\": {\"outlinewidth\": 0, \"ticks\": \"\"}}, \"type\": \"scatter3d\"}], \"scattercarpet\": [{\"marker\": {\"colorbar\": {\"outlinewidth\": 0, \"ticks\": \"\"}}, \"type\": \"scattercarpet\"}], \"scattergeo\": [{\"marker\": {\"colorbar\": {\"outlinewidth\": 0, \"ticks\": \"\"}}, \"type\": \"scattergeo\"}], \"scattergl\": [{\"marker\": {\"colorbar\": {\"outlinewidth\": 0, \"ticks\": \"\"}}, \"type\": \"scattergl\"}], \"scattermapbox\": [{\"marker\": {\"colorbar\": {\"outlinewidth\": 0, \"ticks\": \"\"}}, \"type\": \"scattermapbox\"}], \"scatterpolar\": [{\"marker\": {\"colorbar\": {\"outlinewidth\": 0, \"ticks\": \"\"}}, \"type\": \"scatterpolar\"}], \"scatterpolargl\": [{\"marker\": {\"colorbar\": {\"outlinewidth\": 0, \"ticks\": \"\"}}, \"type\": \"scatterpolargl\"}], \"scatterternary\": [{\"marker\": {\"colorbar\": {\"outlinewidth\": 0, \"ticks\": \"\"}}, \"type\": \"scatterternary\"}], \"surface\": [{\"colorbar\": {\"outlinewidth\": 0, \"ticks\": \"\"}, \"colorscale\": [[0.0, \"#0d0887\"], [0.1111111111111111, \"#46039f\"], [0.2222222222222222, \"#7201a8\"], [0.3333333333333333, \"#9c179e\"], [0.4444444444444444, \"#bd3786\"], [0.5555555555555556, \"#d8576b\"], [0.6666666666666666, \"#ed7953\"], [0.7777777777777778, \"#fb9f3a\"], [0.8888888888888888, \"#fdca26\"], [1.0, \"#f0f921\"]], \"type\": \"surface\"}], \"table\": [{\"cells\": {\"fill\": {\"color\": \"#EBF0F8\"}, \"line\": {\"color\": \"white\"}}, \"header\": {\"fill\": {\"color\": \"#C8D4E3\"}, \"line\": {\"color\": \"white\"}}, \"type\": \"table\"}]}, \"layout\": {\"annotationdefaults\": {\"arrowcolor\": \"#2a3f5f\", \"arrowhead\": 0, \"arrowwidth\": 1}, \"coloraxis\": {\"colorbar\": {\"outlinewidth\": 0, \"ticks\": \"\"}}, \"colorscale\": {\"diverging\": [[0, \"#8e0152\"], [0.1, \"#c51b7d\"], [0.2, \"#de77ae\"], [0.3, \"#f1b6da\"], [0.4, \"#fde0ef\"], [0.5, \"#f7f7f7\"], [0.6, \"#e6f5d0\"], [0.7, \"#b8e186\"], [0.8, \"#7fbc41\"], [0.9, \"#4d9221\"], [1, \"#276419\"]], \"sequential\": [[0.0, \"#0d0887\"], [0.1111111111111111, \"#46039f\"], [0.2222222222222222, \"#7201a8\"], [0.3333333333333333, \"#9c179e\"], [0.4444444444444444, \"#bd3786\"], [0.5555555555555556, \"#d8576b\"], [0.6666666666666666, \"#ed7953\"], [0.7777777777777778, \"#fb9f3a\"], [0.8888888888888888, \"#fdca26\"], [1.0, \"#f0f921\"]], \"sequentialminus\": [[0.0, \"#0d0887\"], [0.1111111111111111, \"#46039f\"], [0.2222222222222222, \"#7201a8\"], [0.3333333333333333, \"#9c179e\"], [0.4444444444444444, \"#bd3786\"], [0.5555555555555556, \"#d8576b\"], [0.6666666666666666, \"#ed7953\"], [0.7777777777777778, \"#fb9f3a\"], [0.8888888888888888, \"#fdca26\"], [1.0, \"#f0f921\"]]}, \"colorway\": [\"#636efa\", \"#EF553B\", \"#00cc96\", \"#ab63fa\", \"#FFA15A\", \"#19d3f3\", \"#FF6692\", \"#B6E880\", \"#FF97FF\", \"#FECB52\"], \"font\": {\"color\": \"#2a3f5f\"}, \"geo\": {\"bgcolor\": \"white\", \"lakecolor\": \"white\", \"landcolor\": \"#E5ECF6\", \"showlakes\": true, \"showland\": true, \"subunitcolor\": \"white\"}, \"hoverlabel\": {\"align\": \"left\"}, \"hovermode\": \"closest\", \"mapbox\": {\"style\": \"light\"}, \"paper_bgcolor\": \"white\", \"plot_bgcolor\": \"#E5ECF6\", \"polar\": {\"angularaxis\": {\"gridcolor\": \"white\", \"linecolor\": \"white\", \"ticks\": \"\"}, \"bgcolor\": \"#E5ECF6\", \"radialaxis\": {\"gridcolor\": \"white\", \"linecolor\": \"white\", \"ticks\": \"\"}}, \"scene\": {\"xaxis\": {\"backgroundcolor\": \"#E5ECF6\", \"gridcolor\": \"white\", \"gridwidth\": 2, \"linecolor\": \"white\", \"showbackground\": true, \"ticks\": \"\", \"zerolinecolor\": \"white\"}, \"yaxis\": {\"backgroundcolor\": \"#E5ECF6\", \"gridcolor\": \"white\", \"gridwidth\": 2, \"linecolor\": \"white\", \"showbackground\": true, \"ticks\": \"\", \"zerolinecolor\": \"white\"}, \"zaxis\": {\"backgroundcolor\": \"#E5ECF6\", \"gridcolor\": \"white\", \"gridwidth\": 2, \"linecolor\": \"white\", \"showbackground\": true, \"ticks\": \"\", \"zerolinecolor\": \"white\"}}, \"shapedefaults\": {\"line\": {\"color\": \"#2a3f5f\"}}, \"ternary\": {\"aaxis\": {\"gridcolor\": \"white\", \"linecolor\": \"white\", \"ticks\": \"\"}, \"baxis\": {\"gridcolor\": \"white\", \"linecolor\": \"white\", \"ticks\": \"\"}, \"bgcolor\": \"#E5ECF6\", \"caxis\": {\"gridcolor\": \"white\", \"linecolor\": \"white\", \"ticks\": \"\"}}, \"title\": {\"x\": 0.05}, \"xaxis\": {\"automargin\": true, \"gridcolor\": \"white\", \"linecolor\": \"white\", \"ticks\": \"\", \"title\": {\"standoff\": 15}, \"zerolinecolor\": \"white\", \"zerolinewidth\": 2}, \"yaxis\": {\"automargin\": true, \"gridcolor\": \"white\", \"linecolor\": \"white\", \"ticks\": \"\", \"title\": {\"standoff\": 15}, \"zerolinecolor\": \"white\", \"zerolinewidth\": 2}}}, \"title\": {\"text\": \"ACT Participation Rate - SAT Participation Rate (2018)\"}},\n",
       "                        {\"responsive\": true}\n",
       "                    ).then(function(){\n",
       "                            \n",
       "var gd = document.getElementById('ce0dcdc9-d943-4c3a-a331-695f7cc30cf8');\n",
       "var x = new MutationObserver(function (mutations, observer) {{\n",
       "        var display = window.getComputedStyle(gd).display;\n",
       "        if (!display || display === 'none') {{\n",
       "            console.log([gd, 'removed!']);\n",
       "            Plotly.purge(gd);\n",
       "            observer.disconnect();\n",
       "        }}\n",
       "}});\n",
       "\n",
       "// Listen for the removal of the full notebook cells\n",
       "var notebookContainer = gd.closest('#notebook-container');\n",
       "if (notebookContainer) {{\n",
       "    x.observe(notebookContainer, {childList: true});\n",
       "}}\n",
       "\n",
       "// Listen for the clearing of the current output cell\n",
       "var outputEl = gd.closest('.output');\n",
       "if (outputEl) {{\n",
       "    x.observe(outputEl, {childList: true});\n",
       "}}\n",
       "\n",
       "                        })\n",
       "                };\n",
       "                });\n",
       "            </script>\n",
       "        </div>"
      ]
     },
     "metadata": {},
     "output_type": "display_data"
    }
   ],
   "source": [
    "part_map = px.choropleth(locations=test_scores['state_code'], \n",
    "                        locationmode=\"USA-states\", \n",
    "                        color=test_scores['act_2018_part'] - test_scores['sat_2018_part'],\n",
    "                        color_continuous_scale=['#2ca02c', 'white' ,'#1f77b4'],\n",
    "                        scope=\"usa\")\n",
    "part_map.update_layout(\n",
    "    title_text = 'ACT Participation Rate - SAT Participation Rate (2018)'\n",
    ")\n",
    "part_map.show()"
   ]
  },
  {
   "cell_type": "code",
   "execution_count": null,
   "metadata": {},
   "outputs": [],
   "source": []
  }
 ],
 "metadata": {
  "kernelspec": {
   "display_name": "Python 3",
   "language": "python",
   "name": "python3"
  },
  "language_info": {
   "codemirror_mode": {
    "name": "ipython",
    "version": 3
   },
   "file_extension": ".py",
   "mimetype": "text/x-python",
   "name": "python",
   "nbconvert_exporter": "python",
   "pygments_lexer": "ipython3",
   "version": "3.7.6"
  }
 },
 "nbformat": 4,
 "nbformat_minor": 4
}
